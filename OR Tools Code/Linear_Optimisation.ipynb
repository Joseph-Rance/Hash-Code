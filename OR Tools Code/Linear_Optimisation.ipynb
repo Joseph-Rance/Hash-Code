{
  "nbformat": 4,
  "nbformat_minor": 0,
  "metadata": {
    "colab": {
      "name": "LinearOptimisation.ipynb",
      "provenance": [],
      "collapsed_sections": []
    },
    "kernelspec": {
      "name": "python3",
      "display_name": "Python 3"
    }
  },
  "cells": [
    {
      "cell_type": "markdown",
      "metadata": {
        "id": "y0wsk-pkxb6E"
      },
      "source": [
        "# Setup"
      ]
    },
    {
      "cell_type": "code",
      "metadata": {
        "id": "_SlT1C6LmNAh"
      },
      "source": [
        "pip install ortools"
      ],
      "execution_count": null,
      "outputs": []
    },
    {
      "cell_type": "code",
      "metadata": {
        "id": "vaejCYPVl609"
      },
      "source": [
        "from ortools.linear_solver import pywraplp"
      ],
      "execution_count": 1,
      "outputs": []
    },
    {
      "cell_type": "markdown",
      "metadata": {
        "id": "ZbkJ6f61xVsq"
      },
      "source": [
        "# Linear programming example: Maximise revision timetables\n",
        "\n",
        "It's quite easy to set up a linear programming solution to maximise timetable generation (though here I just generate numbers of hours revised rather than when each subject is revised). The most important thing is to make sure that the constraints are defined properly, since they govern the entire solution."
      ]
    },
    {
      "cell_type": "code",
      "metadata": {
        "id": "mR1IAaYXmJyH"
      },
      "source": [
        "def maximise():\n",
        "    # Number of hours of revision that the user wants to do.\n",
        "    revision_hrs= 10\n",
        "\n",
        "    # All the subjects that the user takes.\n",
        "    subjs = [\"Maths\", \"English\", \"French\", \"Biology\", \"Physics\", \"Computing\"]\n",
        "\n",
        "    # Accumulated from exam results and previous timetable history - the mean\n",
        "    # increase in grade per hour of revision, specific to each subject that the\n",
        "    # user takes.\n",
        "    grade_rates = [0.2, 0.12, 0.3, 0.23, 0.08, 0.43]\n",
        "\n",
        "    # One-hot array of the subjects that the user wants to revise for.\n",
        "    subjs_revised = [1, 1, 0, 0, 1, 0]\n",
        "\n",
        "    # Target grade increases (i.e. how many grades up is the user aiming for).\n",
        "    grade_targets = [1, 3, 2, 2, 4, 1]\n",
        "\n",
        "    # Instantiate a Glop solver and give it a name.\n",
        "    solver = pywraplp.Solver(\"MaximiseSolver\",\n",
        "                             pywraplp.Solver.GLOP_LINEAR_PROGRAMMING)\n",
        "    \n",
        "    # Define objective and create variables.\n",
        "    objective = solver.Objective()\n",
        "    revision_plan = [None] * len(subjs)\n",
        "\n",
        "    for i in range(0, len(subjs)):\n",
        "        # Create a new variable with a range from 0 to infinity and set its\n",
        "        # name as the name of the subject.\n",
        "        revision_plan[i] = solver.NumVar(0.0, solver.infinity(), subjs[i])\n",
        "\n",
        "        # Weight each subject based on whether the grade rates. If the user has\n",
        "        # not chosen to revise a subject, the weighting is 0.\n",
        "        weighting = grade_rates[i] * subjs_revised[i] * grade_targets[i]\n",
        "        objective.SetCoefficient(revision_plan[i], weighting)\n",
        "\n",
        "    # Haha. Maximise. We want the biggest positive changes in grades, so we \n",
        "    # want the objective to be maximization.\n",
        "    objective.SetMaximization()\n",
        "\n",
        "    # Set up the constraints (maximum revision hours).\n",
        "    hrs_constraint = solver.Constraint(0.0, revision_hrs)\n",
        "    for i in range(0, len(subjs)):\n",
        "        # Weird one to explain - time doesn't tick differently for different\n",
        "        # subjects, so spending one hour doing maths is just as costly in terms\n",
        "        # of time as spending one hour doing physics. Therefore we set the\n",
        "        # constraint coefficient to 1 for each subject.\n",
        "        hrs_constraint.SetCoefficient(revision_plan[i], 1)\n",
        "\n",
        "    # Constraint to ensure that all chosen revision subjects actually get\n",
        "    # revised for at least one hour, but not for more than half the revision\n",
        "    # time.\n",
        "    subj_constraints = [None] * len(subjs)\n",
        "    for i in range(0, len(subj_constraints)):\n",
        "        # Each subject gets its own constraint.\n",
        "        subj_constraints[i] = solver.Constraint(subjs_revised[i], \n",
        "                                                revision_hrs / 2)\n",
        "        subj_constraints[i].SetCoefficient(revision_plan[i], 1)\n",
        "\n",
        "    # Solve the problem.\n",
        "    status = solver.Solve()\n",
        "\n",
        "    # If the solver was able to find an optimal solution. Sometimes no solution\n",
        "    # can be found, and at other times, a suboptimal solution is found.\n",
        "    if status == solver.OPTIMAL:\n",
        "        total_hrs = 0\n",
        "\n",
        "        # Show number of hours for each subject.\n",
        "        for (i, subj) in enumerate(revision_plan):\n",
        "            subj_hrs = subj.solution_value()\n",
        "            if subj_hrs > 0:\n",
        "                print(f\"Revise {subj_hrs} hours of {subjs[i]}\")\n",
        "                total_hrs += subj_hrs\n",
        "\n",
        "        # Total number of hours should just be as specified by the user.\n",
        "        print(f\"{total_hrs} hours of revision in total!\")"
      ],
      "execution_count": 18,
      "outputs": []
    },
    {
      "cell_type": "code",
      "metadata": {
        "colab": {
          "base_uri": "https://localhost:8080/"
        },
        "id": "_hT1CFq7vHvT",
        "outputId": "36f2b994-80fc-48d7-9f21-000781568636"
      },
      "source": [
        "maximise()"
      ],
      "execution_count": 19,
      "outputs": [
        {
          "output_type": "stream",
          "text": [
            "Revise 1.0 hours of Maths\n",
            "Revise 5.0 hours of English\n",
            "Revise 4.0 hours of Physics\n",
            "10.0 hours of revision in total!\n"
          ],
          "name": "stdout"
        }
      ]
    }
  ]
}