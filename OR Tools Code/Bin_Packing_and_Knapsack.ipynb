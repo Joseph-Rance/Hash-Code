{
  "nbformat": 4,
  "nbformat_minor": 0,
  "metadata": {
    "colab": {
      "name": "Bin Packing and Knapsack.ipynb",
      "provenance": [],
      "collapsed_sections": []
    },
    "kernelspec": {
      "name": "python3",
      "display_name": "Python 3"
    }
  },
  "cells": [
    {
      "cell_type": "code",
      "metadata": {
        "colab": {
          "base_uri": "https://localhost:8080/",
          "height": 421
        },
        "id": "XpzHQb4bUxOA",
        "outputId": "ef560711-c429-4f9f-dc41-ff5ab443b865"
      },
      "source": [
        "pip install ortools"
      ],
      "execution_count": 6,
      "outputs": [
        {
          "output_type": "stream",
          "text": [
            "Collecting ortools\n",
            "\u001b[?25l  Downloading https://files.pythonhosted.org/packages/63/94/2832edee6f4fb4e77e8585b6034f9506be24361fe6ead4e76de38ab0a666/ortools-8.1.8487-cp36-cp36m-manylinux1_x86_64.whl (14.0MB)\n",
            "\u001b[K     |████████████████████████████████| 14.0MB 319kB/s \n",
            "\u001b[?25hCollecting protobuf>=3.14.0\n",
            "\u001b[?25l  Downloading https://files.pythonhosted.org/packages/fe/fd/247ef25f5ec5f9acecfbc98ca3c6aaf66716cf52509aca9a93583d410493/protobuf-3.14.0-cp36-cp36m-manylinux1_x86_64.whl (1.0MB)\n",
            "\u001b[K     |████████████████████████████████| 1.0MB 37.8MB/s \n",
            "\u001b[?25hCollecting absl-py>=0.11\n",
            "\u001b[?25l  Downloading https://files.pythonhosted.org/packages/bc/58/0aa6fb779dc69cfc811df3398fcbeaeefbf18561b6e36b185df0782781cc/absl_py-0.11.0-py3-none-any.whl (127kB)\n",
            "\u001b[K     |████████████████████████████████| 133kB 50.4MB/s \n",
            "\u001b[?25hRequirement already satisfied: six>=1.9 in /usr/local/lib/python3.6/dist-packages (from protobuf>=3.14.0->ortools) (1.15.0)\n",
            "\u001b[31mERROR: tensorflow-metadata 0.26.0 has requirement absl-py<0.11,>=0.9, but you'll have absl-py 0.11.0 which is incompatible.\u001b[0m\n",
            "Installing collected packages: protobuf, absl-py, ortools\n",
            "  Found existing installation: protobuf 3.12.4\n",
            "    Uninstalling protobuf-3.12.4:\n",
            "      Successfully uninstalled protobuf-3.12.4\n",
            "  Found existing installation: absl-py 0.10.0\n",
            "    Uninstalling absl-py-0.10.0:\n",
            "      Successfully uninstalled absl-py-0.10.0\n",
            "Successfully installed absl-py-0.11.0 ortools-8.1.8487 protobuf-3.14.0\n"
          ],
          "name": "stdout"
        },
        {
          "output_type": "display_data",
          "data": {
            "application/vnd.colab-display-data+json": {
              "pip_warning": {
                "packages": [
                  "google"
                ]
              }
            }
          },
          "metadata": {
            "tags": []
          }
        }
      ]
    },
    {
      "cell_type": "markdown",
      "metadata": {
        "id": "S6_xMmFRrx5G"
      },
      "source": [
        "# Single Knapsack"
      ]
    },
    {
      "cell_type": "code",
      "metadata": {
        "id": "CtDXfi6zU1sh"
      },
      "source": [
        "from ortools.algorithms import pywrapknapsack_solver"
      ],
      "execution_count": null,
      "outputs": []
    },
    {
      "cell_type": "code",
      "metadata": {
        "id": "1zmYnk1kWyuO"
      },
      "source": [
        "values = [1,2,3,4]\r\n",
        "weights = [[1,2,3,4]]\r\n",
        "capacities = [5]"
      ],
      "execution_count": null,
      "outputs": []
    },
    {
      "cell_type": "code",
      "metadata": {
        "id": "Ck9LWxHnW79H"
      },
      "source": [
        "solver = pywrapknapsack_solver.KnapsackSolver(pywrapknapsack_solver.KnapsackSolver.KNAPSACK_MULTIDIMENSION_BRANCH_AND_BOUND_SOLVER, 'KnapsackExample')\r\n",
        "solver.Init(values, weights, capacities)\r\n",
        "computed_value = solver.Solve()"
      ],
      "execution_count": null,
      "outputs": []
    },
    {
      "cell_type": "code",
      "metadata": {
        "colab": {
          "base_uri": "https://localhost:8080/"
        },
        "id": "mS1f34EYXQ9R",
        "outputId": "b67f337a-98d6-4d4e-b985-f6c97de215e3"
      },
      "source": [
        "print(f\"total value: {computed_value}\\n\")"
      ],
      "execution_count": null,
      "outputs": [
        {
          "output_type": "stream",
          "text": [
            "total value: 5\n",
            "\n"
          ],
          "name": "stdout"
        }
      ]
    },
    {
      "cell_type": "code",
      "metadata": {
        "colab": {
          "base_uri": "https://localhost:8080/"
        },
        "id": "mJoeVXLKX3yK",
        "outputId": "24b2dfbf-6660-4081-89fd-1b1e54ed8256"
      },
      "source": [
        "print(\"indexes: \", end=\"\")\r\n",
        "for i in range(len(values)):\r\n",
        "  if solver.BestSolutionContains(i):  # BestSolutionConatins checks if the index is in the knapsack\r\n",
        "    print(i, end=\", \")\r\n",
        "print(\"\\b\\b\")"
      ],
      "execution_count": null,
      "outputs": [
        {
          "output_type": "stream",
          "text": [
            "indexes: 1, 2, \b\b\n"
          ],
          "name": "stdout"
        }
      ]
    },
    {
      "cell_type": "code",
      "metadata": {
        "colab": {
          "base_uri": "https://localhost:8080/"
        },
        "id": "LhRCFh2NXXne",
        "outputId": "62b6045d-d471-486e-9c5e-1a824177f843"
      },
      "source": [
        "[i for i in solver.__dir__() if \"__\" not in i]"
      ],
      "execution_count": null,
      "outputs": [
        {
          "output_type": "execute_result",
          "data": {
            "text/plain": [
              "['this',\n",
              " 'thisown',\n",
              " 'KNAPSACK_BRUTE_FORCE_SOLVER',\n",
              " 'KNAPSACK_64ITEMS_SOLVER',\n",
              " 'KNAPSACK_DYNAMIC_PROGRAMMING_SOLVER',\n",
              " 'KNAPSACK_MULTIDIMENSION_CBC_MIP_SOLVER',\n",
              " 'KNAPSACK_MULTIDIMENSION_BRANCH_AND_BOUND_SOLVER',\n",
              " 'KNAPSACK_MULTIDIMENSION_SCIP_MIP_SOLVER',\n",
              " 'Init',\n",
              " 'Solve',\n",
              " 'BestSolutionContains',\n",
              " 'set_use_reduction',\n",
              " 'set_time_limit']"
            ]
          },
          "metadata": {
            "tags": []
          },
          "execution_count": 19
        }
      ]
    },
    {
      "cell_type": "markdown",
      "metadata": {
        "id": "5W2qr8pvr0KA"
      },
      "source": [
        "# Multiple Knapsack"
      ]
    },
    {
      "cell_type": "code",
      "metadata": {
        "id": "wQBbmwOfr89s"
      },
      "source": [
        "from ortools.linear_solver import pywraplp"
      ],
      "execution_count": null,
      "outputs": []
    },
    {
      "cell_type": "code",
      "metadata": {
        "id": "BWOJ290Rsowd"
      },
      "source": [
        "values = [1,2,3,4]\r\n",
        "weights = [1,2,3,4]\r\n",
        "capacities = [5, 3]"
      ],
      "execution_count": null,
      "outputs": []
    },
    {
      "cell_type": "code",
      "metadata": {
        "id": "ZU5Q0D_2slyh"
      },
      "source": [
        "solver = pywraplp.Solver.CreateSolver(\"SCIP\")\r\n",
        "\r\n",
        "x = [[0 for i in range(len(capacities))] for i in range(len(values))]\r\n",
        "for i in range(len(weights)):\r\n",
        "  for j in range(len(capacities)):\r\n",
        "    x[i][j] = solver.IntVar(0, 1, name=f\"x_{i}_{j}\")  # create a binary variable for each element in array\r\n",
        "\r\n",
        "for i in range(len(weights)):\r\n",
        "  solver.Add(sum(x[i][j] for j in range(len(capacities))) <= 1)  # force each element to be in only 1 bin\r\n",
        "\r\n",
        "for j in range(len(capacities)):\r\n",
        "  solver.Add(sum(x[i][j] * weights[i] for i in range(len(weights))) <= capacities[j])  # force bin contents to be under capacity"
      ],
      "execution_count": null,
      "outputs": []
    },
    {
      "cell_type": "code",
      "metadata": {
        "id": "KLFCtteZ3nT5"
      },
      "source": [
        "objective = solver.Objective()\r\n",
        "for i in range(len(weights)):\r\n",
        "  for j in range(len(capacities)):\r\n",
        "    objective.SetCoefficient(x[i][j], values[i])  # set value for each row to weight by\r\n",
        "objective.SetMaximization()\r\n",
        "\r\n",
        "status = solver.Solve()"
      ],
      "execution_count": null,
      "outputs": []
    },
    {
      "cell_type": "code",
      "metadata": {
        "colab": {
          "base_uri": "https://localhost:8080/"
        },
        "id": "rR7UhVJw3lGq",
        "outputId": "5deb5a90-34be-4fc4-c860-7a4672d43d2d"
      },
      "source": [
        "if status == pywraplp.Solver.OPTIMAL:\r\n",
        "  print(f\"Total packed value: {objective.Value()}\")\r\n",
        "  for i in range(len(weights)):\r\n",
        "    for j in range(len(capacities)):\r\n",
        "      print(x[i][j].solution_value(), end=\", \")\r\n",
        "    print(\"\\b\\b\")\r\n",
        "else:\r\n",
        "  print(\"NO\")"
      ],
      "execution_count": null,
      "outputs": [
        {
          "output_type": "stream",
          "text": [
            "Total packed value: 8.0\n",
            "1.0, 0.0, \b\b\n",
            "0.0, 0.0, \b\b\n",
            "0.0, 1.0, \b\b\n",
            "1.0, 0.0, \b\b\n"
          ],
          "name": "stdout"
        }
      ]
    },
    {
      "cell_type": "markdown",
      "metadata": {
        "id": "hRVAc7HQQ6gA"
      },
      "source": [
        "Cols are bins. Rows are items"
      ]
    },
    {
      "cell_type": "markdown",
      "metadata": {
        "id": "ursgWt30Ohh5"
      },
      "source": [
        "# Bin Packing"
      ]
    },
    {
      "cell_type": "code",
      "metadata": {
        "id": "Mkl95uFQOhJq"
      },
      "source": [
        "from ortools.linear_solver import pywraplp"
      ],
      "execution_count": 22,
      "outputs": []
    },
    {
      "cell_type": "code",
      "metadata": {
        "id": "yZRwzpOd3lah"
      },
      "source": [
        "values = [1,2,3,4]\r\n",
        "weights = [1,2,3,4]\r\n",
        "capacities = [1,2,3,4,5,6,7]"
      ],
      "execution_count": 23,
      "outputs": []
    },
    {
      "cell_type": "code",
      "metadata": {
        "id": "6ip4DpKAOlz4"
      },
      "source": [
        "solver = pywraplp.Solver.CreateSolver(\"SCIP\")\r\n",
        "used = [solver.IntVar(0, 1, f\"y[{j}]\") for j in range(len(capacities))]\r\n",
        "\r\n",
        "x = [[0 for i in range(len(capacities))] for i in range(len(values))]\r\n",
        "for i in range(len(weights)):\r\n",
        "  for j in range(len(capacities)):\r\n",
        "    x[i][j] = solver.IntVar(0, 1, name=f\"x_{i}_{j}\")  # create a binary variable for each element in array\r\n",
        "\r\n",
        "for i in range(len(weights)):\r\n",
        "  solver.Add(sum(x[i][j] for j in range(len(capacities))) == 1)  # force each element to be in exactly 1 bin\r\n",
        "\r\n",
        "for j in range(len(capacities)):\r\n",
        "  solver.Add(sum(x[i][j] * weights[i] for i in range(len(weights))) <= capacities[j] * used[j])  # force bin contents to be under capacity ONLY if used"
      ],
      "execution_count": 24,
      "outputs": []
    },
    {
      "cell_type": "code",
      "metadata": {
        "id": "SeyuINrrPN9u"
      },
      "source": [
        "solver.Minimize(solver.Sum([used[j] for j in range(len(capacities))]))\r\n",
        "status = solver.Solve()"
      ],
      "execution_count": 25,
      "outputs": []
    },
    {
      "cell_type": "code",
      "metadata": {
        "colab": {
          "base_uri": "https://localhost:8080/"
        },
        "id": "r-HuSc47PucM",
        "outputId": "0335dda3-cafb-4b0f-a5dc-c6bf2ab7e554"
      },
      "source": [
        "if status == pywraplp.Solver.OPTIMAL:\r\n",
        "  print(\", \".join([str(int(used[i].solution_value())) for i in range(len(capacities))]))\r\n",
        "  for i in range(len(weights)):\r\n",
        "    for j in range(len(capacities)):\r\n",
        "      print(int(x[i][j].solution_value()), end=\", \")\r\n",
        "    print(\"\\b\\b\")\r\n",
        "else:\r\n",
        "  print(\"NO\")"
      ],
      "execution_count": 27,
      "outputs": [
        {
          "output_type": "stream",
          "text": [
            "0, 0, 1, 0, 0, 0, 1\n",
            "0, 0, 1, 0, 0, 0, 0, \b\b\n",
            "0, 0, 1, 0, 0, 0, 0, \b\b\n",
            "0, 0, 0, 0, 0, 0, 1, \b\b\n",
            "0, 0, 0, 0, 0, 0, 1, \b\b\n"
          ],
          "name": "stdout"
        }
      ]
    },
    {
      "cell_type": "markdown",
      "metadata": {
        "id": "x8sFAebUQ9gF"
      },
      "source": [
        "Cols are bins. Rows are items. Top row is which bins are used"
      ]
    }
  ]
}