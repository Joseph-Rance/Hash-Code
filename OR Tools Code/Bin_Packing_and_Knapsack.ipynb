{
  "nbformat": 4,
  "nbformat_minor": 0,
  "metadata": {
    "colab": {
      "name": "Bin Packing and Knapsack.ipynb",
      "provenance": [],
      "collapsed_sections": []
    },
    "kernelspec": {
      "name": "python3",
      "display_name": "Python 3"
    }
  },
  "cells": [
    {
      "cell_type": "code",
      "metadata": {
        "colab": {
          "base_uri": "https://localhost:8080/",
          "height": 421
        },
        "id": "XpzHQb4bUxOA",
        "outputId": "77c23284-4343-433c-d9a4-2cc3bf66eb99"
      },
      "source": [
        "pip install ortools"
      ],
      "execution_count": 1,
      "outputs": [
        {
          "output_type": "stream",
          "text": [
            "Collecting ortools\n",
            "\u001b[?25l  Downloading https://files.pythonhosted.org/packages/63/94/2832edee6f4fb4e77e8585b6034f9506be24361fe6ead4e76de38ab0a666/ortools-8.1.8487-cp36-cp36m-manylinux1_x86_64.whl (14.0MB)\n",
            "\u001b[K     |████████████████████████████████| 14.0MB 322kB/s \n",
            "\u001b[?25hCollecting protobuf>=3.14.0\n",
            "\u001b[?25l  Downloading https://files.pythonhosted.org/packages/fe/fd/247ef25f5ec5f9acecfbc98ca3c6aaf66716cf52509aca9a93583d410493/protobuf-3.14.0-cp36-cp36m-manylinux1_x86_64.whl (1.0MB)\n",
            "\u001b[K     |████████████████████████████████| 1.0MB 52.3MB/s \n",
            "\u001b[?25hCollecting absl-py>=0.11\n",
            "\u001b[?25l  Downloading https://files.pythonhosted.org/packages/bc/58/0aa6fb779dc69cfc811df3398fcbeaeefbf18561b6e36b185df0782781cc/absl_py-0.11.0-py3-none-any.whl (127kB)\n",
            "\u001b[K     |████████████████████████████████| 133kB 56.9MB/s \n",
            "\u001b[?25hRequirement already satisfied: six>=1.9 in /usr/local/lib/python3.6/dist-packages (from protobuf>=3.14.0->ortools) (1.15.0)\n",
            "\u001b[31mERROR: tensorflow-metadata 0.26.0 has requirement absl-py<0.11,>=0.9, but you'll have absl-py 0.11.0 which is incompatible.\u001b[0m\n",
            "Installing collected packages: protobuf, absl-py, ortools\n",
            "  Found existing installation: protobuf 3.12.4\n",
            "    Uninstalling protobuf-3.12.4:\n",
            "      Successfully uninstalled protobuf-3.12.4\n",
            "  Found existing installation: absl-py 0.10.0\n",
            "    Uninstalling absl-py-0.10.0:\n",
            "      Successfully uninstalled absl-py-0.10.0\n",
            "Successfully installed absl-py-0.11.0 ortools-8.1.8487 protobuf-3.14.0\n"
          ],
          "name": "stdout"
        },
        {
          "output_type": "display_data",
          "data": {
            "application/vnd.colab-display-data+json": {
              "pip_warning": {
                "packages": [
                  "google"
                ]
              }
            }
          },
          "metadata": {
            "tags": []
          }
        }
      ]
    },
    {
      "cell_type": "code",
      "metadata": {
        "id": "CtDXfi6zU1sh"
      },
      "source": [
        "from ortools.algorithms import pywrapknapsack_solver"
      ],
      "execution_count": 19,
      "outputs": []
    },
    {
      "cell_type": "code",
      "metadata": {
        "id": "1zmYnk1kWyuO"
      },
      "source": [
        "values = [1,2,3,4]  # maximise values selected so under the constraint that the sum of weights must be less than the capacity\r\n",
        "weights = [[1,2,3,4]]\r\n",
        "capacities = [5]"
      ],
      "execution_count": 20,
      "outputs": []
    },
    {
      "cell_type": "code",
      "metadata": {
        "id": "Ck9LWxHnW79H"
      },
      "source": [
        "solver = pywrapknapsack_solver.KnapsackSolver(pywrapknapsack_solver.KnapsackSolver.KNAPSACK_MULTIDIMENSION_BRANCH_AND_BOUND_SOLVER, 'KnapsackExample')\r\n",
        "solver.Init(values, weights, capacities)\r\n",
        "computed_value = solver.Solve()"
      ],
      "execution_count": 21,
      "outputs": []
    },
    {
      "cell_type": "code",
      "metadata": {
        "colab": {
          "base_uri": "https://localhost:8080/"
        },
        "id": "mS1f34EYXQ9R",
        "outputId": "c8172bbe-5f1b-4679-c9ca-7cd7c6d1a082"
      },
      "source": [
        "print(f\"total value: {computed_value}\\n\")"
      ],
      "execution_count": 22,
      "outputs": [
        {
          "output_type": "stream",
          "text": [
            "total value: 5\n",
            "\n"
          ],
          "name": "stdout"
        }
      ]
    },
    {
      "cell_type": "code",
      "metadata": {
        "colab": {
          "base_uri": "https://localhost:8080/"
        },
        "id": "mJoeVXLKX3yK",
        "outputId": "7017ff61-09e4-4ff0-9e22-8fb472524bad"
      },
      "source": [
        "print(\"indexes: \", end=\"\")\r\n",
        "for i in range(len(values)):\r\n",
        "    if solver.BestSolutionContains(i):  # BestSolutionConatins checks if the index is in the knapsack\r\n",
        "      print(i, end=\", \")\r\n",
        "print(\"\\b\\b\")"
      ],
      "execution_count": 26,
      "outputs": [
        {
          "output_type": "stream",
          "text": [
            "indexes: 1, 2, \b\b\n"
          ],
          "name": "stdout"
        }
      ]
    },
    {
      "cell_type": "code",
      "metadata": {
        "colab": {
          "base_uri": "https://localhost:8080/"
        },
        "id": "LhRCFh2NXXne",
        "outputId": "b3c69161-8126-4289-83f4-e0f774d20f0c"
      },
      "source": [
        "[i for i in solver.__dir__() if \"__\" not in i]"
      ],
      "execution_count": 23,
      "outputs": [
        {
          "output_type": "execute_result",
          "data": {
            "text/plain": [
              "['this',\n",
              " 'thisown',\n",
              " 'KNAPSACK_BRUTE_FORCE_SOLVER',\n",
              " 'KNAPSACK_64ITEMS_SOLVER',\n",
              " 'KNAPSACK_DYNAMIC_PROGRAMMING_SOLVER',\n",
              " 'KNAPSACK_MULTIDIMENSION_CBC_MIP_SOLVER',\n",
              " 'KNAPSACK_MULTIDIMENSION_BRANCH_AND_BOUND_SOLVER',\n",
              " 'KNAPSACK_MULTIDIMENSION_SCIP_MIP_SOLVER',\n",
              " 'Init',\n",
              " 'Solve',\n",
              " 'BestSolutionContains',\n",
              " 'set_use_reduction',\n",
              " 'set_time_limit']"
            ]
          },
          "metadata": {
            "tags": []
          },
          "execution_count": 23
        }
      ]
    },
    {
      "cell_type": "code",
      "metadata": {
        "id": "8SHs2rHZYq66"
      },
      "source": [
        ""
      ],
      "execution_count": 28,
      "outputs": []
    }
  ]
}