{
  "nbformat": 4,
  "nbformat_minor": 0,
  "metadata": {
    "colab": {
      "name": "Bin Packing and Knapsack.ipynb",
      "provenance": [],
      "collapsed_sections": []
    },
    "kernelspec": {
      "name": "python3",
      "display_name": "Python 3"
    }
  },
  "cells": [
    {
      "cell_type": "code",
      "metadata": {
        "colab": {
          "base_uri": "https://localhost:8080/"
        },
        "id": "XpzHQb4bUxOA",
        "outputId": "a847d930-d1c1-4e0c-c50a-29d992b319af"
      },
      "source": [
        "pip install ortools"
      ],
      "execution_count": 13,
      "outputs": [
        {
          "output_type": "stream",
          "text": [
            "Requirement already satisfied: ortools in /usr/local/lib/python3.6/dist-packages (8.1.8487)\n",
            "Requirement already satisfied: protobuf>=3.14.0 in /usr/local/lib/python3.6/dist-packages (from ortools) (3.14.0)\n",
            "Requirement already satisfied: absl-py>=0.11 in /usr/local/lib/python3.6/dist-packages (from ortools) (0.11.0)\n",
            "Requirement already satisfied: six>=1.9 in /usr/local/lib/python3.6/dist-packages (from protobuf>=3.14.0->ortools) (1.15.0)\n"
          ],
          "name": "stdout"
        }
      ]
    },
    {
      "cell_type": "markdown",
      "metadata": {
        "id": "S6_xMmFRrx5G"
      },
      "source": [
        "# Single Knapsack"
      ]
    },
    {
      "cell_type": "code",
      "metadata": {
        "id": "CtDXfi6zU1sh"
      },
      "source": [
        "from ortools.algorithms import pywrapknapsack_solver"
      ],
      "execution_count": 14,
      "outputs": []
    },
    {
      "cell_type": "code",
      "metadata": {
        "id": "1zmYnk1kWyuO"
      },
      "source": [
        "values = [1,2,3,4]  # maximise values selected so under the constraint that the sum of weights must be less than the capacity\r\n",
        "weights = [[1,2,3,4]]\r\n",
        "capacities = [5]"
      ],
      "execution_count": 15,
      "outputs": []
    },
    {
      "cell_type": "code",
      "metadata": {
        "id": "Ck9LWxHnW79H"
      },
      "source": [
        "solver = pywrapknapsack_solver.KnapsackSolver(pywrapknapsack_solver.KnapsackSolver.KNAPSACK_MULTIDIMENSION_BRANCH_AND_BOUND_SOLVER, 'KnapsackExample')\r\n",
        "solver.Init(values, weights, capacities)\r\n",
        "computed_value = solver.Solve()"
      ],
      "execution_count": 16,
      "outputs": []
    },
    {
      "cell_type": "code",
      "metadata": {
        "colab": {
          "base_uri": "https://localhost:8080/"
        },
        "id": "mS1f34EYXQ9R",
        "outputId": "b67f337a-98d6-4d4e-b985-f6c97de215e3"
      },
      "source": [
        "print(f\"total value: {computed_value}\\n\")"
      ],
      "execution_count": 17,
      "outputs": [
        {
          "output_type": "stream",
          "text": [
            "total value: 5\n",
            "\n"
          ],
          "name": "stdout"
        }
      ]
    },
    {
      "cell_type": "code",
      "metadata": {
        "colab": {
          "base_uri": "https://localhost:8080/"
        },
        "id": "mJoeVXLKX3yK",
        "outputId": "24b2dfbf-6660-4081-89fd-1b1e54ed8256"
      },
      "source": [
        "print(\"indexes: \", end=\"\")\r\n",
        "for i in range(len(values)):\r\n",
        "  if solver.BestSolutionContains(i):  # BestSolutionConatins checks if the index is in the knapsack\r\n",
        "    print(i, end=\", \")\r\n",
        "print(\"\\b\\b\")"
      ],
      "execution_count": 18,
      "outputs": [
        {
          "output_type": "stream",
          "text": [
            "indexes: 1, 2, \b\b\n"
          ],
          "name": "stdout"
        }
      ]
    },
    {
      "cell_type": "code",
      "metadata": {
        "colab": {
          "base_uri": "https://localhost:8080/"
        },
        "id": "LhRCFh2NXXne",
        "outputId": "62b6045d-d471-486e-9c5e-1a824177f843"
      },
      "source": [
        "[i for i in solver.__dir__() if \"__\" not in i]"
      ],
      "execution_count": 19,
      "outputs": [
        {
          "output_type": "execute_result",
          "data": {
            "text/plain": [
              "['this',\n",
              " 'thisown',\n",
              " 'KNAPSACK_BRUTE_FORCE_SOLVER',\n",
              " 'KNAPSACK_64ITEMS_SOLVER',\n",
              " 'KNAPSACK_DYNAMIC_PROGRAMMING_SOLVER',\n",
              " 'KNAPSACK_MULTIDIMENSION_CBC_MIP_SOLVER',\n",
              " 'KNAPSACK_MULTIDIMENSION_BRANCH_AND_BOUND_SOLVER',\n",
              " 'KNAPSACK_MULTIDIMENSION_SCIP_MIP_SOLVER',\n",
              " 'Init',\n",
              " 'Solve',\n",
              " 'BestSolutionContains',\n",
              " 'set_use_reduction',\n",
              " 'set_time_limit']"
            ]
          },
          "metadata": {
            "tags": []
          },
          "execution_count": 19
        }
      ]
    },
    {
      "cell_type": "markdown",
      "metadata": {
        "id": "5W2qr8pvr0KA"
      },
      "source": [
        "# Multiple Knapsack"
      ]
    },
    {
      "cell_type": "code",
      "metadata": {
        "id": "wQBbmwOfr89s"
      },
      "source": [
        "from ortools.linear_solver import pywraplp"
      ],
      "execution_count": 20,
      "outputs": []
    },
    {
      "cell_type": "code",
      "metadata": {
        "id": "BWOJ290Rsowd"
      },
      "source": [
        "values = [1,2,3,4]\r\n",
        "weights = [1,2,3,4]\r\n",
        "capacities = [5, 3]"
      ],
      "execution_count": 21,
      "outputs": []
    },
    {
      "cell_type": "code",
      "metadata": {
        "id": "ZU5Q0D_2slyh"
      },
      "source": [
        "solver = pywraplp.Solver.CreateSolver(\"SCIP\")\r\n",
        "\r\n",
        "x = [[0 for i in range(len(capacities))] for i in range(len(values))]\r\n",
        "for i in range(len(weights)):\r\n",
        "  for j in range(len(capacities)):\r\n",
        "    x[i][j] = solver.IntVar(0, 1, name=f\"x_{i}_{j}\")  # create a binary variable for each element in array\r\n",
        "\r\n",
        "for i in range(len(weights)):\r\n",
        "  solver.Add(sum(x[i][j] for j in range(len(capacities))) <= 1)  # force each element to be in only 1 bin\r\n",
        "\r\n",
        "for j in range(len(capacities)):\r\n",
        "  solver.Add(sum(x[i][j] * weights[i] for i in range(len(weights))) <= capacities[j])  # force bin contents to be under capacity"
      ],
      "execution_count": 22,
      "outputs": []
    },
    {
      "cell_type": "code",
      "metadata": {
        "id": "KLFCtteZ3nT5"
      },
      "source": [
        "objective = solver.Objective()\r\n",
        "for i in range(len(weights)):\r\n",
        "  for j in range(len(capacities)):\r\n",
        "    objective.SetCoefficient(x[i][j], values[i])  # set value for each row to weight by\r\n",
        "objective.SetMaximization()\r\n",
        "\r\n",
        "status = solver.Solve()"
      ],
      "execution_count": 23,
      "outputs": []
    },
    {
      "cell_type": "code",
      "metadata": {
        "colab": {
          "base_uri": "https://localhost:8080/"
        },
        "id": "rR7UhVJw3lGq",
        "outputId": "5deb5a90-34be-4fc4-c860-7a4672d43d2d"
      },
      "source": [
        "if status == pywraplp.Solver.OPTIMAL:\r\n",
        "    print(f\"Total packed value: {objective.Value()}\")\r\n",
        "    for i in range(len(weights)):\r\n",
        "      for j in range(len(capacities)):\r\n",
        "        print(x[i][j].solution_value(), end=\", \")\r\n",
        "      print(\"\\b\\b\")\r\n",
        "else:\r\n",
        "    print(\"NO\")"
      ],
      "execution_count": 24,
      "outputs": [
        {
          "output_type": "stream",
          "text": [
            "Total packed value: 8.0\n",
            "1.0, 0.0, \b\b\n",
            "0.0, 0.0, \b\b\n",
            "0.0, 1.0, \b\b\n",
            "1.0, 0.0, \b\b\n"
          ],
          "name": "stdout"
        }
      ]
    },
    {
      "cell_type": "code",
      "metadata": {
        "id": "yZRwzpOd3lah"
      },
      "source": [
        ""
      ],
      "execution_count": 24,
      "outputs": []
    }
  ]
}
