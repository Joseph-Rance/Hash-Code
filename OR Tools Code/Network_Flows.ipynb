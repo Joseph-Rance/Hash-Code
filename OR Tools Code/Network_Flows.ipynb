{
  "nbformat": 4,
  "nbformat_minor": 0,
  "metadata": {
    "colab": {
      "name": "Network Flows.ipynb",
      "provenance": [],
      "collapsed_sections": []
    },
    "kernelspec": {
      "name": "python3",
      "display_name": "Python 3"
    }
  },
  "cells": [
    {
      "cell_type": "code",
      "metadata": {
        "colab": {
          "base_uri": "https://localhost:8080/",
          "height": 421
        },
        "id": "4DDr2Pd5TBGA",
        "outputId": "6135ebc3-16a1-461c-e755-b095c7b19be6"
      },
      "source": [
        "pip install ortools"
      ],
      "execution_count": 7,
      "outputs": [
        {
          "output_type": "stream",
          "text": [
            "Collecting ortools\n",
            "\u001b[?25l  Downloading https://files.pythonhosted.org/packages/63/94/2832edee6f4fb4e77e8585b6034f9506be24361fe6ead4e76de38ab0a666/ortools-8.1.8487-cp36-cp36m-manylinux1_x86_64.whl (14.0MB)\n",
            "\u001b[K     |████████████████████████████████| 14.0MB 316kB/s \n",
            "\u001b[?25hCollecting absl-py>=0.11\n",
            "\u001b[?25l  Downloading https://files.pythonhosted.org/packages/bc/58/0aa6fb779dc69cfc811df3398fcbeaeefbf18561b6e36b185df0782781cc/absl_py-0.11.0-py3-none-any.whl (127kB)\n",
            "\u001b[K     |████████████████████████████████| 133kB 48.0MB/s \n",
            "\u001b[?25hCollecting protobuf>=3.14.0\n",
            "\u001b[?25l  Downloading https://files.pythonhosted.org/packages/fe/fd/247ef25f5ec5f9acecfbc98ca3c6aaf66716cf52509aca9a93583d410493/protobuf-3.14.0-cp36-cp36m-manylinux1_x86_64.whl (1.0MB)\n",
            "\u001b[K     |████████████████████████████████| 1.0MB 52.4MB/s \n",
            "\u001b[?25hRequirement already satisfied: six in /usr/local/lib/python3.6/dist-packages (from absl-py>=0.11->ortools) (1.15.0)\n",
            "\u001b[31mERROR: tensorflow-metadata 0.26.0 has requirement absl-py<0.11,>=0.9, but you'll have absl-py 0.11.0 which is incompatible.\u001b[0m\n",
            "Installing collected packages: absl-py, protobuf, ortools\n",
            "  Found existing installation: absl-py 0.10.0\n",
            "    Uninstalling absl-py-0.10.0:\n",
            "      Successfully uninstalled absl-py-0.10.0\n",
            "  Found existing installation: protobuf 3.12.4\n",
            "    Uninstalling protobuf-3.12.4:\n",
            "      Successfully uninstalled protobuf-3.12.4\n",
            "Successfully installed absl-py-0.11.0 ortools-8.1.8487 protobuf-3.14.0\n"
          ],
          "name": "stdout"
        },
        {
          "output_type": "display_data",
          "data": {
            "application/vnd.colab-display-data+json": {
              "pip_warning": {
                "packages": [
                  "google"
                ]
              }
            }
          },
          "metadata": {
            "tags": []
          }
        }
      ]
    },
    {
      "cell_type": "markdown",
      "metadata": {
        "id": "m3K8lZxtSimc"
      },
      "source": [
        "# Maximum flow"
      ]
    },
    {
      "cell_type": "code",
      "metadata": {
        "id": "F3PNEceES-FF"
      },
      "source": [
        "from ortools.graph import pywrapgraph"
      ],
      "execution_count": 1,
      "outputs": []
    },
    {
      "cell_type": "code",
      "metadata": {
        "id": "hcAgHkfaSNpP"
      },
      "source": [
        "start_nodes = [0, 0, 0, 1, 1, 2, 2, 3, 3]\r\n",
        "end_nodes = [1, 2, 3, 2, 4, 3, 4, 2, 4]\r\n",
        "capacities = [20, 30, 10, 40, 30, 10, 20, 5, 20]"
      ],
      "execution_count": 2,
      "outputs": []
    },
    {
      "cell_type": "code",
      "metadata": {
        "id": "1Pcr8BYqSqoq"
      },
      "source": [
        "max_flow = pywrapgraph.SimpleMaxFlow()\r\n",
        "for i in range(len(start_nodes)):\r\n",
        "  max_flow.AddArcWithCapacity(start_nodes[i], end_nodes[i], capacities[i])"
      ],
      "execution_count": 3,
      "outputs": []
    },
    {
      "cell_type": "code",
      "metadata": {
        "colab": {
          "base_uri": "https://localhost:8080/"
        },
        "id": "uwtDsSBYSzdJ",
        "outputId": "fd0fe45c-95e3-4aa4-a11d-ff9f3d959b59"
      },
      "source": [
        "if max_flow.Solve(0, 4) == max_flow.OPTIMAL:\r\n",
        "  print(f\"max flow: {max_flow.OptimalFlow()}\")\r\n",
        "  for i in range(max_flow.NumArcs()):\r\n",
        "    print(f\"{max_flow.Tail(i)} -> {max_flow.Head(i)} | {max_flow.Flow(i)}\")\r\n",
        "else:\r\n",
        "  print(\"NO\")"
      ],
      "execution_count": 9,
      "outputs": [
        {
          "output_type": "stream",
          "text": [
            "max flow: 60\n",
            "0 -> 1 | 20\n",
            "0 -> 2 | 30\n",
            "0 -> 3 | 10\n",
            "1 -> 2 | 0\n",
            "1 -> 4 | 20\n",
            "2 -> 3 | 10\n",
            "2 -> 4 | 20\n",
            "3 -> 2 | 0\n",
            "3 -> 4 | 20\n"
          ],
          "name": "stdout"
        }
      ]
    },
    {
      "cell_type": "markdown",
      "metadata": {
        "id": "bEyHk5gaVaJ9"
      },
      "source": [
        "# Min cuts"
      ]
    },
    {
      "cell_type": "code",
      "metadata": {
        "id": "FD6toyq6VZRJ"
      },
      "source": [
        "from ortools.graph import pywrapgraph"
      ],
      "execution_count": 13,
      "outputs": []
    },
    {
      "cell_type": "code",
      "metadata": {
        "id": "qBHzC9JqS7ep"
      },
      "source": [
        "start_nodes = [0, 0, 0, 1, 1, 2, 2, 3, 3]\r\n",
        "end_nodes = [1, 2, 3, 2, 4, 3, 4, 2, 4]\r\n",
        "capacities = [20, 30, 10, 40, 30, 10, 20, 5, 20]"
      ],
      "execution_count": 14,
      "outputs": []
    },
    {
      "cell_type": "code",
      "metadata": {
        "id": "Bczm_JiQVfFi"
      },
      "source": [
        "max_flow = pywrapgraph.SimpleMaxFlow()\r\n",
        "for i in range(len(start_nodes)):\r\n",
        "  max_flow.AddArcWithCapacity(start_nodes[i], end_nodes[i], capacities[i])"
      ],
      "execution_count": 15,
      "outputs": []
    },
    {
      "cell_type": "code",
      "metadata": {
        "colab": {
          "base_uri": "https://localhost:8080/"
        },
        "id": "aHtyJWCtVgot",
        "outputId": "cc243203-4457-45f6-baf2-03527c8f3dec"
      },
      "source": [
        "if max_flow.Solve(0, 4) == max_flow.OPTIMAL:\r\n",
        "  print(f\"Source side min-cut edges: \" + \", \".join([str(i) for i in max_flow.GetSourceSideMinCut()]))\r\n",
        "  print(f\"Sink side min-cut edges: \" + \", \".join([str(i) for i in max_flow.GetSinkSideMinCut()]))\r\n",
        "else:\r\n",
        "  print(\"NO\")"
      ],
      "execution_count": 17,
      "outputs": [
        {
          "output_type": "stream",
          "text": [
            "Source side min-cut edges: 0\n",
            "Sink side min-cut edges: 4, 1\n"
          ],
          "name": "stdout"
        }
      ]
    },
    {
      "cell_type": "code",
      "metadata": {
        "id": "WeRW8lG7VxKz"
      },
      "source": [
        ""
      ],
      "execution_count": null,
      "outputs": []
    }
  ]
}