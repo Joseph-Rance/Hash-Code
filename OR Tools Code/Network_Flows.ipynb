{
  "nbformat": 4,
  "nbformat_minor": 0,
  "metadata": {
    "colab": {
      "name": "Network Flows.ipynb",
      "provenance": [],
      "collapsed_sections": []
    },
    "kernelspec": {
      "name": "python3",
      "display_name": "Python 3"
    }
  },
  "cells": [
    {
      "cell_type": "code",
      "metadata": {
        "colab": {
          "base_uri": "https://localhost:8080/",
          "height": 421
        },
        "id": "4DDr2Pd5TBGA",
        "outputId": "5ef3fd49-d184-410f-eaaa-f542b70e8882"
      },
      "source": [
        "pip install ortools"
      ],
      "execution_count": 2,
      "outputs": [
        {
          "output_type": "stream",
          "text": [
            "Collecting ortools\n",
            "\u001b[?25l  Downloading https://files.pythonhosted.org/packages/63/94/2832edee6f4fb4e77e8585b6034f9506be24361fe6ead4e76de38ab0a666/ortools-8.1.8487-cp36-cp36m-manylinux1_x86_64.whl (14.0MB)\n",
            "\u001b[K     |████████████████████████████████| 14.0MB 316kB/s \n",
            "\u001b[?25hCollecting absl-py>=0.11\n",
            "\u001b[?25l  Downloading https://files.pythonhosted.org/packages/bc/58/0aa6fb779dc69cfc811df3398fcbeaeefbf18561b6e36b185df0782781cc/absl_py-0.11.0-py3-none-any.whl (127kB)\n",
            "\u001b[K     |████████████████████████████████| 133kB 52.1MB/s \n",
            "\u001b[?25hCollecting protobuf>=3.14.0\n",
            "\u001b[?25l  Downloading https://files.pythonhosted.org/packages/fe/fd/247ef25f5ec5f9acecfbc98ca3c6aaf66716cf52509aca9a93583d410493/protobuf-3.14.0-cp36-cp36m-manylinux1_x86_64.whl (1.0MB)\n",
            "\u001b[K     |████████████████████████████████| 1.0MB 60.7MB/s \n",
            "\u001b[?25hRequirement already satisfied: six in /usr/local/lib/python3.6/dist-packages (from absl-py>=0.11->ortools) (1.15.0)\n",
            "\u001b[31mERROR: tensorflow-metadata 0.26.0 has requirement absl-py<0.11,>=0.9, but you'll have absl-py 0.11.0 which is incompatible.\u001b[0m\n",
            "Installing collected packages: absl-py, protobuf, ortools\n",
            "  Found existing installation: absl-py 0.10.0\n",
            "    Uninstalling absl-py-0.10.0:\n",
            "      Successfully uninstalled absl-py-0.10.0\n",
            "  Found existing installation: protobuf 3.12.4\n",
            "    Uninstalling protobuf-3.12.4:\n",
            "      Successfully uninstalled protobuf-3.12.4\n",
            "Successfully installed absl-py-0.11.0 ortools-8.1.8487 protobuf-3.14.0\n"
          ],
          "name": "stdout"
        },
        {
          "output_type": "display_data",
          "data": {
            "application/vnd.colab-display-data+json": {
              "pip_warning": {
                "packages": [
                  "google"
                ]
              }
            }
          },
          "metadata": {
            "tags": []
          }
        }
      ]
    },
    {
      "cell_type": "markdown",
      "metadata": {
        "id": "m3K8lZxtSimc"
      },
      "source": [
        "# Maximum flow"
      ]
    },
    {
      "cell_type": "code",
      "metadata": {
        "id": "F3PNEceES-FF"
      },
      "source": [
        "from ortools.graph import pywrapgraph"
      ],
      "execution_count": null,
      "outputs": []
    },
    {
      "cell_type": "code",
      "metadata": {
        "id": "hcAgHkfaSNpP"
      },
      "source": [
        "start_nodes = [0, 0, 0, 1, 1, 2, 2, 3, 3]\r\n",
        "end_nodes = [1, 2, 3, 2, 4, 3, 4, 2, 4]\r\n",
        "capacities = [20, 30, 10, 40, 30, 10, 20, 5, 20]"
      ],
      "execution_count": null,
      "outputs": []
    },
    {
      "cell_type": "code",
      "metadata": {
        "id": "1Pcr8BYqSqoq"
      },
      "source": [
        "max_flow = pywrapgraph.SimpleMaxFlow()\r\n",
        "for i in range(len(start_nodes)):\r\n",
        "  max_flow.AddArcWithCapacity(start_nodes[i], end_nodes[i], capacities[i])"
      ],
      "execution_count": null,
      "outputs": []
    },
    {
      "cell_type": "code",
      "metadata": {
        "colab": {
          "base_uri": "https://localhost:8080/"
        },
        "id": "uwtDsSBYSzdJ",
        "outputId": "fd0fe45c-95e3-4aa4-a11d-ff9f3d959b59"
      },
      "source": [
        "if max_flow.Solve(0, 4) == max_flow.OPTIMAL:\r\n",
        "  print(f\"max flow: {max_flow.OptimalFlow()}\")\r\n",
        "  for i in range(max_flow.NumArcs()):\r\n",
        "    print(f\"{max_flow.Tail(i)} -> {max_flow.Head(i)} | {max_flow.Flow(i)}\")\r\n",
        "else:\r\n",
        "  print(\"NO\")"
      ],
      "execution_count": null,
      "outputs": [
        {
          "output_type": "stream",
          "text": [
            "max flow: 60\n",
            "0 -> 1 | 20\n",
            "0 -> 2 | 30\n",
            "0 -> 3 | 10\n",
            "1 -> 2 | 0\n",
            "1 -> 4 | 20\n",
            "2 -> 3 | 10\n",
            "2 -> 4 | 20\n",
            "3 -> 2 | 0\n",
            "3 -> 4 | 20\n"
          ],
          "name": "stdout"
        }
      ]
    },
    {
      "cell_type": "markdown",
      "metadata": {
        "id": "bEyHk5gaVaJ9"
      },
      "source": [
        "# Min cuts"
      ]
    },
    {
      "cell_type": "code",
      "metadata": {
        "id": "FD6toyq6VZRJ"
      },
      "source": [
        "from ortools.graph import pywrapgraph"
      ],
      "execution_count": null,
      "outputs": []
    },
    {
      "cell_type": "code",
      "metadata": {
        "id": "qBHzC9JqS7ep"
      },
      "source": [
        "start_nodes = [0, 0, 0, 1, 1, 2, 2, 3, 3]\r\n",
        "end_nodes = [1, 2, 3, 2, 4, 3, 4, 2, 4]\r\n",
        "capacities = [20, 30, 10, 40, 30, 10, 20, 5, 20]"
      ],
      "execution_count": null,
      "outputs": []
    },
    {
      "cell_type": "code",
      "metadata": {
        "id": "Bczm_JiQVfFi"
      },
      "source": [
        "max_flow = pywrapgraph.SimpleMaxFlow()\r\n",
        "for i in range(len(start_nodes)):\r\n",
        "  max_flow.AddArcWithCapacity(start_nodes[i], end_nodes[i], capacities[i])"
      ],
      "execution_count": null,
      "outputs": []
    },
    {
      "cell_type": "code",
      "metadata": {
        "colab": {
          "base_uri": "https://localhost:8080/"
        },
        "id": "aHtyJWCtVgot",
        "outputId": "cc243203-4457-45f6-baf2-03527c8f3dec"
      },
      "source": [
        "if max_flow.Solve(0, 4) == max_flow.OPTIMAL:\r\n",
        "  print(f\"Source side min-cut edges: \" + \", \".join([str(i) for i in max_flow.GetSourceSideMinCut()]))\r\n",
        "  print(f\"Sink side min-cut edges: \" + \", \".join([str(i) for i in max_flow.GetSinkSideMinCut()]))\r\n",
        "else:\r\n",
        "  print(\"NO\")"
      ],
      "execution_count": null,
      "outputs": [
        {
          "output_type": "stream",
          "text": [
            "Source side min-cut edges: 0\n",
            "Sink side min-cut edges: 4, 1\n"
          ],
          "name": "stdout"
        }
      ]
    },
    {
      "cell_type": "markdown",
      "metadata": {
        "id": "usbN_uKLwSrD"
      },
      "source": [
        "# Min cost"
      ]
    },
    {
      "cell_type": "code",
      "metadata": {
        "id": "BxrhKyMVxTmv"
      },
      "source": [
        "from ortools.graph import pywrapgraph"
      ],
      "execution_count": null,
      "outputs": []
    },
    {
      "cell_type": "code",
      "metadata": {
        "id": "WeRW8lG7VxKz"
      },
      "source": [
        "arc_starts = [0, 0, 1, 1, 1, 2, 2, 3, 4]\r\n",
        "arc_ends = [1, 2, 2, 3, 4, 3, 4, 4, 2]\r\n",
        "arc_capacities = [15, 8, 20, 4, 10, 15, 4, 20, 5]\r\n",
        "arc_costs = [4, 4, 2, 2, 6, 1, 3, 2, 3]\r\n",
        "\r\n",
        "supplies = [20, 0, 0, -5, -15]  # move from pos supply to neg supply through arcs with min total cost"
      ],
      "execution_count": null,
      "outputs": []
    },
    {
      "cell_type": "code",
      "metadata": {
        "id": "g-SkJ16DxJUD"
      },
      "source": [
        "min_cost_flow = pywrapgraph.SimpleMinCostFlow()"
      ],
      "execution_count": null,
      "outputs": []
    },
    {
      "cell_type": "code",
      "metadata": {
        "id": "I8wCLuOExNO3"
      },
      "source": [
        "for i in range(len(arc_starts)):\r\n",
        "  min_cost_flow.AddArcWithCapacityAndUnitCost(arc_starts[i], arc_ends[i], arc_capacities[i], arc_costs[i])\r\n",
        "\r\n",
        "for i in range(len(supplies)):\r\n",
        "  min_cost_flow.SetNodeSupply(i, supplies[i])"
      ],
      "execution_count": null,
      "outputs": []
    },
    {
      "cell_type": "code",
      "metadata": {
        "colab": {
          "base_uri": "https://localhost:8080/"
        },
        "id": "AQiY7hqjxYIT",
        "outputId": "cf43dc5f-e573-46b9-9229-5a6e1d023f34"
      },
      "source": [
        "if min_cost_flow.Solve() == min_cost_flow.OPTIMAL:\r\n",
        "    assert min_cost_flow.OptimalCost() == sum([min_cost_flow.Flow(i) * min_cost_flow.UnitCost(i) for i in range(len(arc_starts))])\r\n",
        "    for i in range(len(arc_starts)):\r\n",
        "      print(f\"{min_cost_flow.Tail(i)} -> {min_cost_flow.Head(i)} | {min_cost_flow.Flow(i)}\")\r\n",
        "else:\r\n",
        "    print(\"NO\")"
      ],
      "execution_count": null,
      "outputs": [
        {
          "output_type": "stream",
          "text": [
            "0 -> 1 | 12\n",
            "0 -> 2 | 8\n",
            "1 -> 2 | 8\n",
            "1 -> 3 | 4\n",
            "1 -> 4 | 0\n",
            "2 -> 3 | 12\n",
            "2 -> 4 | 4\n",
            "3 -> 4 | 11\n",
            "4 -> 2 | 0\n"
          ],
          "name": "stdout"
        }
      ]
    },
    {
      "cell_type": "markdown",
      "metadata": {
        "id": "CF2xiH6MzYL_"
      },
      "source": [
        "# Linear assignment"
      ]
    },
    {
      "cell_type": "code",
      "metadata": {
        "id": "NtEMkUMcyH-3"
      },
      "source": [
        "from ortools.graph import pywrapgraph"
      ],
      "execution_count": 9,
      "outputs": []
    },
    {
      "cell_type": "code",
      "metadata": {
        "id": "y28iTZKTznbJ"
      },
      "source": [
        "min_cost_flow = pywrapgraph.SimpleMinCostFlow()"
      ],
      "execution_count": 10,
      "outputs": []
    },
    {
      "cell_type": "code",
      "metadata": {
        "id": "JbD6xE07ztkY"
      },
      "source": [
        "arc_starts = [0, 0, 0, 0, 1, 1, 1, 1, 2, 2, 2, 2, 3, 3, 3, 3, 4, 4, 4, 4, 5, 6, 7, 8]\r\n",
        "arc_ends = [1, 2, 3, 4, 5, 6, 7, 8, 5, 6, 7, 8, 5, 6, 7, 8, 5, 6, 7, 8, 9, 9, 9, 9]\r\n",
        "arc_capacities = [1, 1, 1, 1, 1, 1, 1, 1, 1, 1, 1, 1, 1, 1, 1, 1, 1, 1, 1, 1, 1, 1, 1, 1 ]\r\n",
        "arc_costs = [0, 0, 0, 0, 90, 76, 75, 70, 35, 85, 55, 65, 125, 95, 90, 105, 45, 110, 95, 115, 0, 0, 0, 0]\r\n",
        "supplies = [4, 0, 0, 0, 0, 0, 0, 0, 0, -4]"
      ],
      "execution_count": 11,
      "outputs": []
    },
    {
      "cell_type": "code",
      "metadata": {
        "colab": {
          "base_uri": "https://localhost:8080/"
        },
        "id": "Dq0XQpd3XoCY",
        "outputId": "3f718d41-38aa-4db7-a0bc-3a874c4c756f"
      },
      "source": [
        "for i in range(len(arc_starts)):\r\n",
        "  min_cost_flow.AddArcWithCapacityAndUnitCost(arc_starts[i], arc_ends[i], arc_capacities[i], arc_costs[i])\r\n",
        "\r\n",
        "for i in range(len(supplies)):\r\n",
        "  min_cost_flow.SetNodeSupply(i, supplies[i])\r\n",
        "\r\n",
        "if min_cost_flow.Solve() == min_cost_flow.OPTIMAL:\r\n",
        "    assert min_cost_flow.OptimalCost() == sum([min_cost_flow.Flow(i) * min_cost_flow.UnitCost(i) for i in range(len(arc_starts))])\r\n",
        "    for i in range(len(arc_starts)):\r\n",
        "      if min_cost_flow.Flow(i) != 0 and min_cost_flow.Tail(i) != 0 and min_cost_flow.Head(i) != 9:\r\n",
        "        print(f\"{min_cost_flow.Tail(i)} is assigned to: {min_cost_flow.Head(i)}\")\r\n",
        "else:\r\n",
        "    print(\"NO\")"
      ],
      "execution_count": 12,
      "outputs": [
        {
          "output_type": "stream",
          "text": [
            "1 is assigned to: 8\n",
            "2 is assigned to: 7\n",
            "3 is assigned to: 6\n",
            "4 is assigned to: 5\n"
          ],
          "name": "stdout"
        }
      ]
    },
    {
      "cell_type": "code",
      "metadata": {
        "id": "xc73Hyb9YaUT"
      },
      "source": [
        ""
      ],
      "execution_count": 12,
      "outputs": []
    }
  ]
}
