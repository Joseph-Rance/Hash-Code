{
  "nbformat": 4,
  "nbformat_minor": 0,
  "metadata": {
    "colab": {
      "name": "Routing.ipynb",
      "provenance": [],
      "collapsed_sections": []
    },
    "kernelspec": {
      "name": "python3",
      "display_name": "Python 3"
    }
  },
  "cells": [
    {
      "cell_type": "code",
      "metadata": {
        "colab": {
          "base_uri": "https://localhost:8080/",
          "height": 439
        },
        "id": "SKqfNo17D3LM",
        "outputId": "07338a4e-af3c-4dc5-aa64-375f84d128b1"
      },
      "source": [
        "pip install ortools"
      ],
      "execution_count": 3,
      "outputs": [
        {
          "output_type": "stream",
          "text": [
            "Collecting ortools\n",
            "\u001b[?25l  Downloading https://files.pythonhosted.org/packages/63/94/2832edee6f4fb4e77e8585b6034f9506be24361fe6ead4e76de38ab0a666/ortools-8.1.8487-cp36-cp36m-manylinux1_x86_64.whl (14.0MB)\n",
            "\u001b[K     |████████████████████████████████| 14.0MB 316kB/s \n",
            "\u001b[?25hCollecting absl-py>=0.11\n",
            "\u001b[?25l  Downloading https://files.pythonhosted.org/packages/bc/58/0aa6fb779dc69cfc811df3398fcbeaeefbf18561b6e36b185df0782781cc/absl_py-0.11.0-py3-none-any.whl (127kB)\n",
            "\u001b[K     |████████████████████████████████| 133kB 40.6MB/s \n",
            "\u001b[?25hCollecting protobuf>=3.14.0\n",
            "\u001b[?25l  Downloading https://files.pythonhosted.org/packages/fe/fd/247ef25f5ec5f9acecfbc98ca3c6aaf66716cf52509aca9a93583d410493/protobuf-3.14.0-cp36-cp36m-manylinux1_x86_64.whl (1.0MB)\n",
            "\u001b[K     |████████████████████████████████| 1.0MB 43.2MB/s \n",
            "\u001b[?25hRequirement already satisfied: six in /usr/local/lib/python3.6/dist-packages (from absl-py>=0.11->ortools) (1.15.0)\n",
            "\u001b[31mERROR: tensorflow-metadata 0.27.0 has requirement absl-py<0.11,>=0.9, but you'll have absl-py 0.11.0 which is incompatible.\u001b[0m\n",
            "Installing collected packages: absl-py, protobuf, ortools\n",
            "  Found existing installation: absl-py 0.10.0\n",
            "    Uninstalling absl-py-0.10.0:\n",
            "      Successfully uninstalled absl-py-0.10.0\n",
            "  Found existing installation: protobuf 3.12.4\n",
            "    Uninstalling protobuf-3.12.4:\n",
            "      Successfully uninstalled protobuf-3.12.4\n",
            "Successfully installed absl-py-0.11.0 ortools-8.1.8487 protobuf-3.14.0\n"
          ],
          "name": "stdout"
        },
        {
          "output_type": "display_data",
          "data": {
            "application/vnd.colab-display-data+json": {
              "pip_warning": {
                "packages": [
                  "google"
                ]
              }
            }
          },
          "metadata": {
            "tags": []
          }
        }
      ]
    },
    {
      "cell_type": "markdown",
      "metadata": {
        "id": "uLBQVxpsFcI9"
      },
      "source": [
        "# TSP"
      ]
    },
    {
      "cell_type": "code",
      "metadata": {
        "id": "t81NGvRKD18k"
      },
      "source": [
        "from ortools.constraint_solver import routing_enums_pb2\r\n",
        "from ortools.constraint_solver import pywrapcp\r\n",
        "import numpy as np"
      ],
      "execution_count": 1,
      "outputs": []
    },
    {
      "cell_type": "code",
      "metadata": {
        "id": "2u_ueXP7AJxM"
      },
      "source": [
        "def tsp(dist_function, locations):  # function takes loc 1 and loc 2 and returns dist between\r\n",
        "\r\n",
        "  def create_dist_matrix(locations):\r\n",
        "    matrix = np.zeros((len(locations), len(locations))).tolist()\r\n",
        "    for l1 in range(len(matrix)):\r\n",
        "      for l2 in range(len(matrix)):\r\n",
        "        matrix[l1][l2] = dist_function(locations[l1], locations[l2])\r\n",
        "    return matrix\r\n",
        "        \r\n",
        "  def distance_callback(from_index, to_index):\r\n",
        "    from_node = manager.IndexToNode(from_index)\r\n",
        "    to_node = manager.IndexToNode(to_index)\r\n",
        "    return dist_matrix[from_node][to_node]\r\n",
        "\r\n",
        "  dist_matrix = create_dist_matrix(locations)\r\n",
        "            \r\n",
        "  manager = pywrapcp.RoutingIndexManager(len(dist_matrix), 1, 0)\r\n",
        "\r\n",
        "  routing = pywrapcp.RoutingModel(manager)\r\n",
        "  transit_callback_index = routing.RegisterTransitCallback(distance_callback)\r\n",
        "\r\n",
        "  routing.SetArcCostEvaluatorOfAllVehicles(transit_callback_index)\r\n",
        "\r\n",
        "  search_parameters = pywrapcp.DefaultRoutingSearchParameters()\r\n",
        "  search_parameters.first_solution_strategy = (routing_enums_pb2.FirstSolutionStrategy.PATH_CHEAPEST_ARC)\r\n",
        "\r\n",
        "  solution = routing.SolveWithParameters(search_parameters)\r\n",
        "\r\n",
        "  visited = []\r\n",
        "  index = routing.Start(0)\r\n",
        "  while not routing.IsEnd(index):\r\n",
        "    visited.append(manager.IndexToNode(index))\r\n",
        "    index = solution.Value(routing.NextVar(index))\r\n",
        "  visited.append(manager.IndexToNode(index))\r\n",
        "  \r\n",
        "  return visited, solution.ObjectiveValue()  # route (each element is an index of locations), cost"
      ],
      "execution_count": 2,
      "outputs": []
    },
    {
      "cell_type": "code",
      "metadata": {
        "id": "b9xxhGrfD-te"
      },
      "source": [
        "matrix = [\r\n",
        "  [0, 2451, 713, 1018, 1631, 1374, 2408, 213, 2571, 875, 1420, 2145, 1972],\r\n",
        "  [2451, 0, 1745, 1524, 831, 1240, 959, 2596, 403, 1589, 1374, 357, 579],\r\n",
        "  [713, 1745, 0, 355, 920, 803, 1737, 851, 1858, 262, 940, 1453, 1260],\r\n",
        "  [1018, 1524, 355, 0, 700, 862, 1395, 1123, 1584, 466, 1056, 1280, 987],\r\n",
        "  [1631, 831, 920, 700, 0, 663, 1021, 1769, 949, 796, 879, 586, 371],\r\n",
        "  [1374, 1240, 803, 862, 663, 0, 1681, 1551, 1765, 547, 225, 887, 999],\r\n",
        "  [2408, 959, 1737, 1395, 1021, 1681, 0, 2493, 678, 1724, 1891, 1114, 701],\r\n",
        "  [213, 2596, 851, 1123, 1769, 1551, 2493, 0, 2699, 1038, 1605, 2300, 2099],\r\n",
        "  [2571, 403, 1858, 1584, 949, 1765, 678, 2699, 0, 1744, 1645, 653, 600],\r\n",
        "  [875, 1589, 262, 466, 796, 547, 1724, 1038, 1744, 0, 679, 1272, 1162],\r\n",
        "  [1420, 1374, 940, 1056, 879, 225, 1891, 1605, 1645, 679, 0, 1017, 1200],\r\n",
        "  [2145, 357, 1453, 1280, 586, 887, 1114, 2300, 653, 1272, 1017, 0, 504],\r\n",
        "  [1972, 579, 1260, 987, 371, 999, 701, 2099, 600, 1162, 1200, 504, 0],\r\n",
        "]\r\n",
        "dist_function = lambda a, b : matrix[a][b]\r\n",
        "locations = list(range(len(matrix)))"
      ],
      "execution_count": 3,
      "outputs": []
    },
    {
      "cell_type": "code",
      "metadata": {
        "colab": {
          "base_uri": "https://localhost:8080/"
        },
        "id": "VoJEGJiAFCK7",
        "outputId": "7ef5bd24-ebcd-4f44-bd89-5e9727a24878"
      },
      "source": [
        "tsp(dist_function, locations)"
      ],
      "execution_count": 8,
      "outputs": [
        {
          "output_type": "execute_result",
          "data": {
            "text/plain": [
              "([0, 7, 2, 3, 4, 12, 6, 8, 1, 11, 10, 5, 9, 0], 7293)"
            ]
          },
          "metadata": {
            "tags": []
          },
          "execution_count": 8
        }
      ]
    },
    {
      "cell_type": "code",
      "metadata": {
        "id": "7qvIRn1fFAe6"
      },
      "source": [
        "def change_time_limit(time_limit):\r\n",
        "  search_parameters = pywrapcp.DefaultRoutingSearchParameters()\r\n",
        "  search_parameters.local_search_metaheuristic = (routing_enums_pb2.LocalSearchMetaheuristic.GUIDED_LOCAL_SEARCH)\r\n",
        "  search_parameters.time_limit.seconds = time_limit"
      ],
      "execution_count": 5,
      "outputs": []
    },
    {
      "cell_type": "code",
      "metadata": {
        "id": "qx65AalJFO7O"
      },
      "source": [
        "change_time_limit(1)  # (makes no difference now bc small dataset)"
      ],
      "execution_count": 6,
      "outputs": []
    },
    {
      "cell_type": "code",
      "metadata": {
        "colab": {
          "base_uri": "https://localhost:8080/"
        },
        "id": "7L_1maTCFA6R",
        "outputId": "73dd7042-3641-4ed1-97ed-e1a89798fdbe"
      },
      "source": [
        "tsp(dist_function, locations)"
      ],
      "execution_count": 9,
      "outputs": [
        {
          "output_type": "execute_result",
          "data": {
            "text/plain": [
              "([0, 7, 2, 3, 4, 12, 6, 8, 1, 11, 10, 5, 9, 0], 7293)"
            ]
          },
          "metadata": {
            "tags": []
          },
          "execution_count": 9
        }
      ]
    }
  ]
}