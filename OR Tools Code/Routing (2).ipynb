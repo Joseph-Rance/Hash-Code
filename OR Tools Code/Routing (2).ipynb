{
  "nbformat": 4,
  "nbformat_minor": 0,
  "metadata": {
    "colab": {
      "name": "Routing.ipynb",
      "provenance": [],
      "collapsed_sections": [
        "1Bcw0u2yz-jA",
        "Vst6-rV__cM9",
        "M8ZPlRXFADKN",
        "QWTAPmmEBToJ",
        "hXUKnTVt_Nhl",
        "mbkgFTTZz9G8",
        "kq7_N6WU2RDc"
      ]
    },
    "kernelspec": {
      "name": "python3",
      "display_name": "Python 3"
    }
  },
  "cells": [
    {
      "cell_type": "code",
      "metadata": {
        "colab": {
          "base_uri": "https://localhost:8080/",
          "height": 440
        },
        "id": "SKqfNo17D3LM",
        "outputId": "f07ceeb2-99ed-4b8c-fd00-cbca1f70dee8"
      },
      "source": [
        "pip install ortools"
      ],
      "execution_count": 1,
      "outputs": [
        {
          "output_type": "stream",
          "text": [
            "Collecting ortools\n",
            "\u001b[?25l  Downloading https://files.pythonhosted.org/packages/63/94/2832edee6f4fb4e77e8585b6034f9506be24361fe6ead4e76de38ab0a666/ortools-8.1.8487-cp36-cp36m-manylinux1_x86_64.whl (14.0MB)\n",
            "\u001b[K     |████████████████████████████████| 14.0MB 319kB/s \n",
            "\u001b[?25hCollecting absl-py>=0.11\n",
            "\u001b[?25l  Downloading https://files.pythonhosted.org/packages/bc/58/0aa6fb779dc69cfc811df3398fcbeaeefbf18561b6e36b185df0782781cc/absl_py-0.11.0-py3-none-any.whl (127kB)\n",
            "\u001b[K     |████████████████████████████████| 133kB 51.3MB/s \n",
            "\u001b[?25hCollecting protobuf>=3.14.0\n",
            "\u001b[?25l  Downloading https://files.pythonhosted.org/packages/fe/fd/247ef25f5ec5f9acecfbc98ca3c6aaf66716cf52509aca9a93583d410493/protobuf-3.14.0-cp36-cp36m-manylinux1_x86_64.whl (1.0MB)\n",
            "\u001b[K     |████████████████████████████████| 1.0MB 42.4MB/s \n",
            "\u001b[?25hRequirement already satisfied: six in /usr/local/lib/python3.6/dist-packages (from absl-py>=0.11->ortools) (1.15.0)\n",
            "\u001b[31mERROR: tensorflow-metadata 0.27.0 has requirement absl-py<0.11,>=0.9, but you'll have absl-py 0.11.0 which is incompatible.\u001b[0m\n",
            "Installing collected packages: absl-py, protobuf, ortools\n",
            "  Found existing installation: absl-py 0.10.0\n",
            "    Uninstalling absl-py-0.10.0:\n",
            "      Successfully uninstalled absl-py-0.10.0\n",
            "  Found existing installation: protobuf 3.12.4\n",
            "    Uninstalling protobuf-3.12.4:\n",
            "      Successfully uninstalled protobuf-3.12.4\n",
            "Successfully installed absl-py-0.11.0 ortools-8.1.8487 protobuf-3.14.0\n"
          ],
          "name": "stdout"
        },
        {
          "output_type": "display_data",
          "data": {
            "application/vnd.colab-display-data+json": {
              "pip_warning": {
                "packages": [
                  "google"
                ]
              }
            }
          },
          "metadata": {
            "tags": []
          }
        }
      ]
    },
    {
      "cell_type": "code",
      "metadata": {
        "id": "t81NGvRKD18k"
      },
      "source": [
        "from ortools.constraint_solver import routing_enums_pb2\r\n",
        "from ortools.constraint_solver import pywrapcp\r\n",
        "import numpy as np"
      ],
      "execution_count": 7,
      "outputs": []
    },
    {
      "cell_type": "code",
      "metadata": {
        "id": "b9xxhGrfD-te"
      },
      "source": [
        "matrix_1 = [\r\n",
        "  [0, 2451, 713, 1018, 1631, 1374, 2408, 213, 2571, 875, 1420, 2145, 1972],\r\n",
        "  [2451, 0, 1745, 1524, 831, 1240, 959, 2596, 403, 1589, 1374, 357, 579],\r\n",
        "  [713, 1745, 0, 355, 920, 803, 1737, 851, 1858, 262, 940, 1453, 1260],\r\n",
        "  [1018, 1524, 355, 0, 700, 862, 1395, 1123, 1584, 466, 1056, 1280, 987],\r\n",
        "  [1631, 831, 920, 700, 0, 663, 1021, 1769, 949, 796, 879, 586, 371],\r\n",
        "  [1374, 1240, 803, 862, 663, 0, 1681, 1551, 1765, 547, 225, 887, 999],\r\n",
        "  [2408, 959, 1737, 1395, 1021, 1681, 0, 2493, 678, 1724, 1891, 1114, 701],\r\n",
        "  [213, 2596, 851, 1123, 1769, 1551, 2493, 0, 2699, 1038, 1605, 2300, 2099],\r\n",
        "  [2571, 403, 1858, 1584, 949, 1765, 678, 2699, 0, 1744, 1645, 653, 600],\r\n",
        "  [875, 1589, 262, 466, 796, 547, 1724, 1038, 1744, 0, 679, 1272, 1162],\r\n",
        "  [1420, 1374, 940, 1056, 879, 225, 1891, 1605, 1645, 679, 0, 1017, 1200],\r\n",
        "  [2145, 357, 1453, 1280, 586, 887, 1114, 2300, 653, 1272, 1017, 0, 504],\r\n",
        "  [1972, 579, 1260, 987, 371, 999, 701, 2099, 600, 1162, 1200, 504, 0],\r\n",
        "]\r\n",
        "dist_function_1 = lambda a, b : matrix_1[a][b]\r\n",
        "locations_1 = list(range(len(matrix_1)))\r\n",
        "capacities_1 = [100, 100, 100, 100]\r\n",
        "demands_1 = [0, 10, 10, 10, 10, 10, 10, 10, 10, 10, 10, 10, 10]\r\n",
        "\r\n",
        "matrix_2 = [[0, 1, 1], [1, 0, 1], [1, 1, 0]]\r\n",
        "dist_function_2 = lambda a, b : matrix_2[a][b]\r\n",
        "locations_2 = list(range(len(matrix_2)))\r\n",
        "capacities_2 = [(10, 0), (0, 10)]\r\n",
        "demands_2 = [(0, 0), (1, 0), (0, 1)]"
      ],
      "execution_count": 8,
      "outputs": []
    },
    {
      "cell_type": "markdown",
      "metadata": {
        "id": "1Bcw0u2yz-jA"
      },
      "source": [
        "# TSP"
      ]
    },
    {
      "cell_type": "code",
      "metadata": {
        "id": "mPhmycvH0LSj"
      },
      "source": [
        "def tsp(dist_function, locations):  # function takes loc 1 and loc 2 and returns dist between\r\n",
        "\r\n",
        "  def create_dist_matrix(locations):\r\n",
        "    matrix = np.zeros((len(locations), len(locations))).tolist()\r\n",
        "    for l1 in range(len(matrix)):\r\n",
        "      for l2 in range(len(matrix)):\r\n",
        "        matrix[l1][l2] = dist_function(locations[l1], locations[l2])\r\n",
        "    return matrix\r\n",
        "        \r\n",
        "  def distance_callback(from_index, to_index):\r\n",
        "    from_node = manager.IndexToNode(from_index)\r\n",
        "    to_node = manager.IndexToNode(to_index)\r\n",
        "    return dist_matrix[from_node][to_node]\r\n",
        "\r\n",
        "  dist_matrix = create_dist_matrix(locations)\r\n",
        "            \r\n",
        "  manager = pywrapcp.RoutingIndexManager(len(dist_matrix), 1, 0)\r\n",
        "\r\n",
        "  routing = pywrapcp.RoutingModel(manager)\r\n",
        "  transit_callback_index = routing.RegisterTransitCallback(distance_callback)\r\n",
        "\r\n",
        "  routing.SetArcCostEvaluatorOfAllVehicles(transit_callback_index)\r\n",
        "\r\n",
        "  search_parameters = pywrapcp.DefaultRoutingSearchParameters()\r\n",
        "  search_parameters.first_solution_strategy = (routing_enums_pb2.FirstSolutionStrategy.PATH_CHEAPEST_ARC)\r\n",
        "\r\n",
        "  solution = routing.SolveWithParameters(search_parameters)\r\n",
        "\r\n",
        "  visited = []\r\n",
        "  index = routing.Start(0)\r\n",
        "  while not routing.IsEnd(index):\r\n",
        "    visited.append(manager.IndexToNode(index))\r\n",
        "    index = solution.Value(routing.NextVar(index))\r\n",
        "  visited.append(manager.IndexToNode(index))\r\n",
        "  \r\n",
        "  return visited, solution.ObjectiveValue()"
      ],
      "execution_count": 4,
      "outputs": []
    },
    {
      "cell_type": "code",
      "metadata": {
        "colab": {
          "base_uri": "https://localhost:8080/"
        },
        "id": "k4KPINSO0QWj",
        "outputId": "e485c14b-b165-4d8e-c067-71a04c08b25f"
      },
      "source": [
        "tsp(dist_function_1, locations_1)"
      ],
      "execution_count": 5,
      "outputs": [
        {
          "output_type": "execute_result",
          "data": {
            "text/plain": [
              "([0, 7, 2, 3, 4, 12, 6, 8, 1, 11, 10, 5, 9, 0], 7293)"
            ]
          },
          "metadata": {
            "tags": []
          },
          "execution_count": 5
        }
      ]
    },
    {
      "cell_type": "markdown",
      "metadata": {
        "id": "Vst6-rV__cM9"
      },
      "source": [
        "# VRP"
      ]
    },
    {
      "cell_type": "code",
      "metadata": {
        "id": "dE2GpFV5_fpJ"
      },
      "source": [
        "def vrp(dist_matrix, locations, no_vehicles, depot=0, time_limit=-1):\r\n",
        "\r\n",
        "  assert len(dist_matrix) == len(dist_matrix[0]) == len(locations)\r\n",
        "\r\n",
        "  if time_limit > 0:\r\n",
        "    search_parameters = pywrapcp.DefaultRoutingSearchParameters()\r\n",
        "    search_parameters.local_search_metaheuristic = (routing_enums_pb2.LocalSearchMetaheuristic.GUIDED_LOCAL_SEARCH)\r\n",
        "    search_parameters.time_limit.seconds = time_limit\r\n",
        "\r\n",
        "  def distance_callback(from_index, to_index):\r\n",
        "    from_node = manager.IndexToNode(from_index)\r\n",
        "    to_node = manager.IndexToNode(to_index)\r\n",
        "    return dist_matrix[from_node][to_node]\r\n",
        "\r\n",
        "  manager = pywrapcp.RoutingIndexManager(len(locations), no_vehicles, depot)\r\n",
        "  routing = pywrapcp.RoutingModel(manager)\r\n",
        "\r\n",
        "  transit_callback_index = routing.RegisterTransitCallback(distance_callback)\r\n",
        "  routing.SetArcCostEvaluatorOfAllVehicles(transit_callback_index)\r\n",
        "\r\n",
        "  routing.AddDimension(transit_callback_index, 0, int(1e9), True, \"Distance\")\r\n",
        "  distance_dimension = routing.GetDimensionOrDie(\"Distance\")\r\n",
        "  distance_dimension.SetGlobalSpanCostCoefficient(100)\r\n",
        "  \r\n",
        "  search_parameters = pywrapcp.DefaultRoutingSearchParameters()\r\n",
        "  search_parameters.first_solution_strategy = (routing_enums_pb2.FirstSolutionStrategy.PATH_CHEAPEST_ARC)\r\n",
        "\r\n",
        "  solution = routing.SolveWithParameters(search_parameters)\r\n",
        "\r\n",
        "  if not solution:\r\n",
        "    raise ValueError(\"NO SOLUTION :(\")\r\n",
        "\r\n",
        "  max_route_distance = 0\r\n",
        "  visited = [[] for i in range(no_vehicles)]\r\n",
        "  for vehicle_id in range(no_vehicles):\r\n",
        "      index = routing.Start(vehicle_id)\r\n",
        "      route_distance = 0\r\n",
        "      while not routing.IsEnd(index):\r\n",
        "          visited[vehicle_id].append(manager.IndexToNode(index))\r\n",
        "          previous_index = index\r\n",
        "          index = solution.Value(routing.NextVar(index))\r\n",
        "          route_distance += routing.GetArcCostForVehicle(previous_index, index, vehicle_id)\r\n",
        "      visited[vehicle_id].append(manager.IndexToNode(index))\r\n",
        "      max_route_distance = max(route_distance, max_route_distance)\r\n",
        "    \r\n",
        "  return visited, max_route_distance"
      ],
      "execution_count": 75,
      "outputs": []
    },
    {
      "cell_type": "code",
      "metadata": {
        "colab": {
          "base_uri": "https://localhost:8080/"
        },
        "id": "_NZiZSPo_29Z",
        "outputId": "d2b1086f-4eda-40ca-ddcd-140b97a644fb"
      },
      "source": [
        "vrp(matrix_1, locations_1, 2)"
      ],
      "execution_count": 76,
      "outputs": [
        {
          "output_type": "execute_result",
          "data": {
            "text/plain": [
              "([[0, 10, 5, 11, 1, 4, 2, 7, 0], [0, 3, 6, 8, 12, 9, 0]], 5728)"
            ]
          },
          "metadata": {
            "tags": []
          },
          "execution_count": 76
        }
      ]
    },
    {
      "cell_type": "markdown",
      "metadata": {
        "id": "M8ZPlRXFADKN"
      },
      "source": [
        "# Capacity constraints"
      ]
    },
    {
      "cell_type": "code",
      "metadata": {
        "id": "_x8kmpcZ_7RB"
      },
      "source": [
        "def cvrp(dist_matrix, locations, no_vehicles, demands, capacities, depot=0, time_limit=-1):\r\n",
        "\r\n",
        "  assert len(dist_matrix) == len(dist_matrix[0]) == len(locations) == len(demands)\r\n",
        "  assert len(capacities) == no_vehicles\r\n",
        "\r\n",
        "  if time_limit > 0:\r\n",
        "    search_parameters = pywrapcp.DefaultRoutingSearchParameters()\r\n",
        "    search_parameters.local_search_metaheuristic = (routing_enums_pb2.LocalSearchMetaheuristic.GUIDED_LOCAL_SEARCH)\r\n",
        "    search_parameters.time_limit.seconds = time_limit\r\n",
        "\r\n",
        "  def distance_callback(from_index, to_index):\r\n",
        "    from_node = manager.IndexToNode(from_index)\r\n",
        "    to_node = manager.IndexToNode(to_index)\r\n",
        "    return dist_matrix[from_node][to_node]\r\n",
        "\r\n",
        "  def demand_callback(from_index):\r\n",
        "    from_node = manager.IndexToNode(from_index)\r\n",
        "    return demands[from_node]\r\n",
        "\r\n",
        "  manager = pywrapcp.RoutingIndexManager(len(locations), no_vehicles, depot)\r\n",
        "  routing = pywrapcp.RoutingModel(manager)\r\n",
        "\r\n",
        "  transit_callback_index = routing.RegisterTransitCallback(distance_callback)\r\n",
        "  routing.SetArcCostEvaluatorOfAllVehicles(transit_callback_index)\r\n",
        "\r\n",
        "  demand_callback_index = routing.RegisterUnaryTransitCallback(demand_callback)\r\n",
        "  routing.AddDimensionWithVehicleCapacity(demand_callback_index, 0, capacities, True, 'Capacity')\r\n",
        "  \r\n",
        "  search_parameters = pywrapcp.DefaultRoutingSearchParameters()\r\n",
        "  search_parameters.first_solution_strategy = (routing_enums_pb2.FirstSolutionStrategy.PATH_CHEAPEST_ARC)\r\n",
        "  search_parameters.local_search_metaheuristic = (routing_enums_pb2.LocalSearchMetaheuristic.GUIDED_LOCAL_SEARCH)\r\n",
        "  search_parameters.time_limit.FromSeconds(1)\r\n",
        "\r\n",
        "  solution = routing.SolveWithParameters(search_parameters)\r\n",
        "\r\n",
        "  if not solution:\r\n",
        "    raise ValueError(\"NO SOLUTION :(\")\r\n",
        "\r\n",
        "  loads = [0 for __ in range(len(capacities))]\r\n",
        "  max_route_distance = 0\r\n",
        "  visited = [[] for i in range(no_vehicles)]\r\n",
        "  for vehicle_id in range(no_vehicles):\r\n",
        "      index = routing.Start(vehicle_id)\r\n",
        "      route_distance = 0\r\n",
        "      while not routing.IsEnd(index):\r\n",
        "          visited[vehicle_id].append(manager.IndexToNode(index))\r\n",
        "          loads[vehicle_id] += demands[manager.IndexToNode(index)]\r\n",
        "          previous_index = index\r\n",
        "          index = solution.Value(routing.NextVar(index))\r\n",
        "          route_distance += routing.GetArcCostForVehicle(previous_index, index, vehicle_id)\r\n",
        "      visited[vehicle_id].append(manager.IndexToNode(index))\r\n",
        "      max_route_distance = max(route_distance, max_route_distance)\r\n",
        "\r\n",
        "  return visited, max_route_distance, loads"
      ],
      "execution_count": 79,
      "outputs": []
    },
    {
      "cell_type": "code",
      "metadata": {
        "colab": {
          "base_uri": "https://localhost:8080/"
        },
        "id": "e94nBXxlA16N",
        "outputId": "42e94132-b49e-4215-c0ef-48df27cff1d7"
      },
      "source": [
        "cvrp(matrix_1, locations_1, len(capacities_1), demands_1, capacities_1)"
      ],
      "execution_count": 80,
      "outputs": [
        {
          "output_type": "execute_result",
          "data": {
            "text/plain": [
              "([[0, 0], [0, 0], [0, 3, 4, 12, 6, 8, 1, 11, 10, 5, 9, 0], [0, 2, 7, 0]],\n",
              " 6892,\n",
              " [0, 0, 100, 20])"
            ]
          },
          "metadata": {
            "tags": []
          },
          "execution_count": 80
        }
      ]
    },
    {
      "cell_type": "markdown",
      "metadata": {
        "id": "QWTAPmmEBToJ"
      },
      "source": [
        "# Pickups and Deliveries"
      ]
    },
    {
      "cell_type": "code",
      "metadata": {
        "id": "flLcAPlnBWfl"
      },
      "source": [
        "matrix = [[0, 548, 776, 696, 582, 274, 502, 194, 308, 194, 536, 502, 388, 354, 468, 776, 662],\r\n",
        "          [548, 0, 684, 308, 194, 502, 730, 354, 696, 742, 1084, 594, 480, 674, 1016, 868, 1210],\r\n",
        "          [776, 684, 0, 992, 878, 502, 274, 810, 468, 742, 400, 1278, 1164, 1130, 788, 1552, 754],\r\n",
        "          [696, 308, 992, 0, 114, 650, 878, 502, 844, 890, 1232, 514, 628, 822, 1164, 560, 1358],\r\n",
        "          [582, 194, 878, 114, 0, 536, 764, 388, 730, 776, 1118, 400, 514, 708, 1050, 674, 1244],\r\n",
        "          [274, 502, 502, 650, 536, 0, 228, 308, 194, 240, 582, 776, 662, 628, 514, 1050, 708],\r\n",
        "          [502, 730, 274, 878, 764, 228, 0, 536, 194, 468, 354, 1004, 890, 856, 514, 1278, 480],\r\n",
        "          [194, 354, 810, 502, 388, 308, 536, 0, 342, 388, 730, 468, 354, 320, 662, 742, 856],\r\n",
        "          [308, 696, 468, 844, 730, 194, 194, 342, 0, 274, 388, 810, 696, 662, 320, 1084, 514],\r\n",
        "          [194, 742, 742, 890, 776, 240, 468, 388, 274, 0, 342, 536, 422, 388, 274, 810, 468],\r\n",
        "          [536, 1084, 400, 1232, 1118, 582, 354, 730, 388, 342, 0, 878, 764, 730, 388, 1152, 354],\r\n",
        "          [502, 594, 1278, 514, 400, 776, 1004, 468, 810, 536, 878, 0, 114, 308, 650, 274, 844],\r\n",
        "          [388, 480, 1164, 628, 514, 662, 890, 354, 696, 422, 764, 114, 0, 194, 536, 388, 730],\r\n",
        "          [354, 674, 1130, 822, 708, 628, 856, 320, 662, 388, 730, 308, 194, 0, 342, 422, 536],\r\n",
        "          [468, 1016, 788, 1164, 1050, 514, 514, 662, 320, 274, 388, 650, 536, 342, 0, 764, 194],\r\n",
        "          [776, 868, 1552, 560, 674, 1050, 1278, 742, 1084, 810, 1152, 274, 388, 422, 764, 0, 798],\r\n",
        "          [662, 1210, 754, 1358, 1244, 708, 480, 856, 514, 468, 354, 844, 730, 536, 194, 798, 0]]\r\n",
        "routes = [[1, 6], [2, 10], [4, 3], [5, 9], [7, 8], [15, 11], [13, 12], [16, 14]]"
      ],
      "execution_count": 82,
      "outputs": []
    },
    {
      "cell_type": "code",
      "metadata": {
        "id": "ktFE4YpJBVe0"
      },
      "source": [
        "def picks_dels(dist_matrix, locations, no_vehicles, routes, depot=0, time_limit=-1):\r\n",
        "\r\n",
        "  assert len(dist_matrix) == len(dist_matrix[0]) == len(locations)\r\n",
        "\r\n",
        "  if time_limit > 0:\r\n",
        "    search_parameters = pywrapcp.DefaultRoutingSearchParameters()\r\n",
        "    search_parameters.local_search_metaheuristic = (routing_enums_pb2.LocalSearchMetaheuristic.GUIDED_LOCAL_SEARCH)\r\n",
        "    search_parameters.time_limit.seconds = time_limit\r\n",
        "\r\n",
        "  def distance_callback(from_index, to_index):\r\n",
        "    from_node = manager.IndexToNode(from_index)\r\n",
        "    to_node = manager.IndexToNode(to_index)\r\n",
        "    return dist_matrix[from_node][to_node]\r\n",
        "\r\n",
        "  manager = pywrapcp.RoutingIndexManager(len(dist_matrix), no_vehicles, depot)\r\n",
        "  routing = pywrapcp.RoutingModel(manager)\r\n",
        "\r\n",
        "  transit_callback_index = routing.RegisterTransitCallback(distance_callback)\r\n",
        "  routing.SetArcCostEvaluatorOfAllVehicles(transit_callback_index)\r\n",
        "\r\n",
        "  routing.AddDimension(transit_callback_index, 0, int(1e9), True, \"Distance\")\r\n",
        "  distance_dimension = routing.GetDimensionOrDie(\"Distance\")\r\n",
        "  distance_dimension.SetGlobalSpanCostCoefficient(100)\r\n",
        "\r\n",
        "  for request in routes:\r\n",
        "    pickup_index = manager.NodeToIndex(request[0])\r\n",
        "    delivery_index = manager.NodeToIndex(request[1])\r\n",
        "    routing.AddPickupAndDelivery(pickup_index, delivery_index)\r\n",
        "    routing.solver().Add(routing.VehicleVar(pickup_index) == routing.VehicleVar(delivery_index))\r\n",
        "    routing.solver().Add(distance_dimension.CumulVar(pickup_index) <= distance_dimension.CumulVar(delivery_index))\r\n",
        "\r\n",
        "  search_parameters = pywrapcp.DefaultRoutingSearchParameters()\r\n",
        "  search_parameters.first_solution_strategy = (routing_enums_pb2.FirstSolutionStrategy.PARALLEL_CHEAPEST_INSERTION)\r\n",
        "\r\n",
        "  solution = routing.SolveWithParameters(search_parameters)\r\n",
        "\r\n",
        "  if not solution:\r\n",
        "    raise ValueError(\"NO SOLUTION :(\")\r\n",
        "\r\n",
        "  routes = [[] for __ in range(no_vehicles)]\r\n",
        "  distances = []\r\n",
        "  for vehicle_id in range(no_vehicles):\r\n",
        "    index = routing.Start(vehicle_id)\r\n",
        "    route_distance = 0\r\n",
        "    while not routing.IsEnd(index):\r\n",
        "      routes[vehicle_id].append(manager.IndexToNode(index))\r\n",
        "      previous_index = index\r\n",
        "      index = solution.Value(routing.NextVar(index))\r\n",
        "      route_distance += routing.GetArcCostForVehicle(previous_index, index, vehicle_id)\r\n",
        "    routes[vehicle_id].append(manager.IndexToNode(index))\r\n",
        "    distances.append(route_distance)\r\n",
        "  \r\n",
        "  return routes, distances"
      ],
      "execution_count": 88,
      "outputs": []
    },
    {
      "cell_type": "code",
      "metadata": {
        "colab": {
          "base_uri": "https://localhost:8080/"
        },
        "id": "HxL115RTC1uD",
        "outputId": "074e1bb7-9f52-4f18-830d-8d8aa7aaa0cb"
      },
      "source": [
        "picks_dels(matrix, list(range(len(matrix))), 4, routes)"
      ],
      "execution_count": 89,
      "outputs": [
        {
          "output_type": "execute_result",
          "data": {
            "text/plain": [
              "([[0, 5, 2, 10, 16, 14, 9, 0],\n",
              "  [0, 7, 1, 6, 8, 0],\n",
              "  [0, 13, 15, 11, 12, 0],\n",
              "  [0, 4, 3, 0]],\n",
              " [2192, 1780, 1552, 1392])"
            ]
          },
          "metadata": {
            "tags": []
          },
          "execution_count": 89
        }
      ]
    },
    {
      "cell_type": "markdown",
      "metadata": {
        "id": "hXUKnTVt_Nhl"
      },
      "source": [
        "# Time windows (WIP)"
      ]
    },
    {
      "cell_type": "code",
      "metadata": {
        "id": "zlfKSfyeu1Xm"
      },
      "source": [
        "def pickups_deliveries(dist_matrix, routes, no_vehicles, depot=0):\r\n",
        "\r\n",
        "    manager = pywrapcp.RoutingIndexManager(len(dist_matrix), no_vehicles, depot)\r\n",
        "    routing = pywrapcp.RoutingModel(manager)\r\n",
        "\r\n",
        "    def distance_callback(from_index, to_index):\r\n",
        "        from_node = manager.IndexToNode(from_index)\r\n",
        "        to_node = manager.IndexToNode(to_index)\r\n",
        "        return data[dist_matrix][from_node][to_node]\r\n",
        "\r\n",
        "    transit_callback_index = routing.RegisterTransitCallback(distance_callback)\r\n",
        "    routing.SetArcCostEvaluatorOfAllVehicles(transit_callback_index)\r\n",
        "\r\n",
        "    routing.AddDimension(transit_callback_index, 0, 3000, True, \"Distance\")\r\n",
        "    distance_dimension = routing.GetDimensionOrDie(\"Distance\")\r\n",
        "    distance_dimension.SetGlobalSpanCostCoefficient(100)\r\n",
        "\r\n",
        "    for request in data['pickups_deliveries']:\r\n",
        "        pickup_index = manager.NodeToIndex(request[0])\r\n",
        "        delivery_index = manager.NodeToIndex(request[1])\r\n",
        "        routing.AddPickupAndDelivery(pickup_index, delivery_index)\r\n",
        "        routing.solver().Add(routing.VehicleVar(pickup_index) == routing.VehicleVar(delivery_index))\r\n",
        "        routing.solver().Add(distance_dimension.CumulVar(pickup_index) <= distance_dimension.CumulVar(delivery_index))\r\n",
        "\r\n",
        "    search_parameters = pywrapcp.DefaultRoutingSearchParameters()\r\n",
        "    search_parameters.first_solution_strategy = (routing_enums_pb2.FirstSolutionStrategy.PARALLEL_CHEAPEST_INSERTION)\r\n",
        "\r\n",
        "    solution = routing.SolveWithParameters(search_parameters)\r\n",
        "\r\n",
        "    if not solution:\r\n",
        "        raise ValueError(\"NO SOLUTION :(\")\r\n",
        "\r\n",
        "    vehicles_routes = [[] for i in range(no_vehicles)]\r\n",
        "    for vehicle_id in range(no_vehicles):\r\n",
        "    \r\n",
        "\r\n",
        "\r\n",
        "    return \r\n",
        "\r\n",
        "\r\n",
        "    for vehicle_id in range(data['num_vehicles']):\r\n",
        "        index = routing.Start(vehicle_id)\r\n",
        "        plan_output = 'Route for vehicle {}:\\n'.format(vehicle_id)\r\n",
        "        route_distance = 0\r\n",
        "        while not routing.IsEnd(index):\r\n",
        "            plan_output += ' {} -> '.format(manager.IndexToNode(index))\r\n",
        "            previous_index = index\r\n",
        "            index = solution.Value(routing.NextVar(index))\r\n",
        "            route_distance += routing.GetArcCostForVehicle(\r\n",
        "                previous_index, index, vehicle_id)\r\n",
        "        plan_output += '{}\\n'.format(manager.IndexToNode(index))\r\n",
        "        plan_output += 'Distance of the route: {}m\\n'.format(route_distance)\r\n",
        "        print(plan_output)\r\n",
        "        total_distance += route_distance\r\n",
        "    print('Total Distance of all routes: {}m'.format(total_distance))\r\n"
      ],
      "execution_count": null,
      "outputs": []
    },
    {
      "cell_type": "code",
      "metadata": {
        "id": "IbuUV2oj2VQn"
      },
      "source": [
        "\r\n",
        "from ortools.constraint_solver import routing_enums_pb2\r\n",
        "from ortools.constraint_solver import pywrapcp\r\n",
        "\r\n",
        "\r\n",
        "def create_data_model():\r\n",
        "    \"\"\"Stores the data for the problem.\"\"\"\r\n",
        "    data = {}\r\n",
        "    data['distance_matrix'] = [\r\n",
        "        [\r\n",
        "            0, 548, 776, 696, 582, 274, 502, 194, 308, 194, 536, 502, 388, 354,\r\n",
        "            468, 776, 662\r\n",
        "        ],\r\n",
        "        [\r\n",
        "            548, 0, 684, 308, 194, 502, 730, 354, 696, 742, 1084, 594, 480, 674,\r\n",
        "            1016, 868, 1210\r\n",
        "        ],\r\n",
        "        [\r\n",
        "            776, 684, 0, 992, 878, 502, 274, 810, 468, 742, 400, 1278, 1164,\r\n",
        "            1130, 788, 1552, 754\r\n",
        "        ],\r\n",
        "        [\r\n",
        "            696, 308, 992, 0, 114, 650, 878, 502, 844, 890, 1232, 514, 628, 822,\r\n",
        "            1164, 560, 1358\r\n",
        "        ],\r\n",
        "        [\r\n",
        "            582, 194, 878, 114, 0, 536, 764, 388, 730, 776, 1118, 400, 514, 708,\r\n",
        "            1050, 674, 1244\r\n",
        "        ],\r\n",
        "        [\r\n",
        "            274, 502, 502, 650, 536, 0, 228, 308, 194, 240, 582, 776, 662, 628,\r\n",
        "            514, 1050, 708\r\n",
        "        ],\r\n",
        "        [\r\n",
        "            502, 730, 274, 878, 764, 228, 0, 536, 194, 468, 354, 1004, 890, 856,\r\n",
        "            514, 1278, 480\r\n",
        "        ],\r\n",
        "        [\r\n",
        "            194, 354, 810, 502, 388, 308, 536, 0, 342, 388, 730, 468, 354, 320,\r\n",
        "            662, 742, 856\r\n",
        "        ],\r\n",
        "        [\r\n",
        "            308, 696, 468, 844, 730, 194, 194, 342, 0, 274, 388, 810, 696, 662,\r\n",
        "            320, 1084, 514\r\n",
        "        ],\r\n",
        "        [\r\n",
        "            194, 742, 742, 890, 776, 240, 468, 388, 274, 0, 342, 536, 422, 388,\r\n",
        "            274, 810, 468\r\n",
        "        ],\r\n",
        "        [\r\n",
        "            536, 1084, 400, 1232, 1118, 582, 354, 730, 388, 342, 0, 878, 764,\r\n",
        "            730, 388, 1152, 354\r\n",
        "        ],\r\n",
        "        [\r\n",
        "            502, 594, 1278, 514, 400, 776, 1004, 468, 810, 536, 878, 0, 114,\r\n",
        "            308, 650, 274, 844\r\n",
        "        ],\r\n",
        "        [\r\n",
        "            388, 480, 1164, 628, 514, 662, 890, 354, 696, 422, 764, 114, 0, 194,\r\n",
        "            536, 388, 730\r\n",
        "        ],\r\n",
        "        [\r\n",
        "            354, 674, 1130, 822, 708, 628, 856, 320, 662, 388, 730, 308, 194, 0,\r\n",
        "            342, 422, 536\r\n",
        "        ],\r\n",
        "        [\r\n",
        "            468, 1016, 788, 1164, 1050, 514, 514, 662, 320, 274, 388, 650, 536,\r\n",
        "            342, 0, 764, 194\r\n",
        "        ],\r\n",
        "        [\r\n",
        "            776, 868, 1552, 560, 674, 1050, 1278, 742, 1084, 810, 1152, 274,\r\n",
        "            388, 422, 764, 0, 798\r\n",
        "        ],\r\n",
        "        [\r\n",
        "            662, 1210, 754, 1358, 1244, 708, 480, 856, 514, 468, 354, 844, 730,\r\n",
        "            536, 194, 798, 0\r\n",
        "        ],\r\n",
        "    ]\r\n",
        "    data['pickups_deliveries'] = [\r\n",
        "        [1, 6],\r\n",
        "        [2, 10],\r\n",
        "        [4, 3],\r\n",
        "        [5, 9],\r\n",
        "        [7, 8],\r\n",
        "        [15, 11],\r\n",
        "        [13, 12],\r\n",
        "        [16, 14],\r\n",
        "    ]\r\n",
        "    data['num_vehicles'] = 4\r\n",
        "    data['depot'] = 0\r\n",
        "    return data\r\n"
      ],
      "execution_count": null,
      "outputs": []
    },
    {
      "cell_type": "markdown",
      "metadata": {
        "id": "mbkgFTTZz9G8"
      },
      "source": [
        "# tsp/vrp/cvrp combined general function (Not working :[  )"
      ]
    },
    {
      "cell_type": "code",
      "metadata": {
        "id": "2u_ueXP7AJxM"
      },
      "source": [
        "def routing(dist_function, locations, no_vehicles=1, capacities=[], demands=[], time_windows=[], max_travel_dist=int(1e9), time_limit=-1):\r\n",
        "\r\n",
        "  if time_limit > 0:\r\n",
        "    search_parameters = pywrapcp.DefaultRoutingSearchParameters()\r\n",
        "    search_parameters.local_search_metaheuristic = (routing_enums_pb2.LocalSearchMetaheuristic.GUIDED_LOCAL_SEARCH)\r\n",
        "    search_parameters.time_limit.seconds = time_limit\r\n",
        "\r\n",
        "  if capacities == []:  # if no capacity entered assume infinite capacity\r\n",
        "    capacities = [(int(1e9),) for __ in range(no_vehicles)]\r\n",
        "  if demands == []:  # if no demand entered assume 1 demand\r\n",
        "    demands = [(1,) for __ in range(len(locations))]\r\n",
        "\r\n",
        "  if type(demands[0]) != tuple:\r\n",
        "    capacities = [(i,) for i in capacities]\r\n",
        "    demands = [(i,) for i in demands]\r\n",
        "\r\n",
        "  if len(time_windows) == 0:\r\n",
        "    time_windows = [(0, max_travel_dist) for __ in range(len(locations))]\r\n",
        "\r\n",
        "  assert len(capacities) == no_vehicles\r\n",
        "  assert len(demands) == len(locations) == len(time_windows)\r\n",
        "\r\n",
        "  def create_dist_matrix(locations):\r\n",
        "    matrix = np.zeros((len(locations), len(locations))).tolist()\r\n",
        "    for l1 in range(len(matrix)):\r\n",
        "      for l2 in range(len(matrix)):\r\n",
        "        matrix[l1][l2] = dist_function(locations[l1], locations[l2])\r\n",
        "    return matrix\r\n",
        "        \r\n",
        "  def distance_callback(from_index, to_index):\r\n",
        "    from_node = manager.IndexToNode(from_index)\r\n",
        "    to_node = manager.IndexToNode(to_index)\r\n",
        "    return dist_matrix[from_node][to_node]\r\n",
        "\r\n",
        "  def demand_callback(from_index, idx):  # callback for material: idx\r\n",
        "    from_node = manager.IndexToNode(from_index)\r\n",
        "    return demands[from_node][idx]\r\n",
        "\r\n",
        "  def add(a, b):\r\n",
        "    return [a[i]+b[i] for i in range(len(a))]\r\n",
        "\r\n",
        "  dist_matrix = create_dist_matrix(locations)\r\n",
        "            \r\n",
        "  manager = pywrapcp.RoutingIndexManager(len(dist_matrix), no_vehicles, 0)\r\n",
        "  routing = pywrapcp.RoutingModel(manager)\r\n",
        "  transit_callback_index = routing.RegisterTransitCallback(distance_callback)\r\n",
        "  routing.SetArcCostEvaluatorOfAllVehicles(transit_callback_index)\r\n",
        "\r\n",
        "  routing.AddDimension(transit_callback_index, 0, max_travel_dist, True, 'Distance')  # For multiple vehicles\r\n",
        "  distance_dimension = routing.GetDimensionOrDie('Distance')\r\n",
        "  distance_dimension.SetGlobalSpanCostCoefficient(100)\r\n",
        "\r\n",
        "  for i in range(len(capacities[0])):  # add dimension for each capacity\r\n",
        "    demand_callback_index = routing.RegisterUnaryTransitCallback(lambda x : demand_callback(x, i))\r\n",
        "    routing.AddDimensionWithVehicleCapacity(demand_callback_index, 0, [j[i] for j in capacities], True, f'Capacity_{i}')\r\n",
        "\r\n",
        "  routing.AddDimension(transit_callback_index, int(1e9), int(1e9), False, \"Time\")  # For time constraints\r\n",
        "  time_dimension = routing.GetDimensionOrDie(\"Time\")\r\n",
        "  for location_idx, time_window in enumerate(time_windows):\r\n",
        "    if location_idx == 0:\r\n",
        "      continue\r\n",
        "    index = manager.NodeToIndex(location_idx)\r\n",
        "    time_dimension.CumulVar(index).SetRange(time_window[0], time_window[1])\r\n",
        "  for vehicle_id in range(no_vehicles):\r\n",
        "    index = routing.Start(vehicle_id)\r\n",
        "    time_dimension.CumulVar(index).SetRange(time_windows[0][0], time_windows[0][1])\r\n",
        "  for i in range(no_vehicles):\r\n",
        "    routing.AddVariableMinimizedByFinalizer(time_dimension.CumulVar(routing.Start(i)))\r\n",
        "    routing.AddVariableMinimizedByFinalizer(time_dimension.CumulVar(routing.End(i)))\r\n",
        "    \r\n",
        "  search_parameters = pywrapcp.DefaultRoutingSearchParameters()\r\n",
        "  search_parameters.first_solution_strategy = (routing_enums_pb2.FirstSolutionStrategy.PATH_CHEAPEST_ARC)\r\n",
        "  solution = routing.SolveWithParameters(search_parameters)\r\n",
        "\r\n",
        "  if not solution:\r\n",
        "    raise ValueError(\"NO SOLUTION :(\")\r\n",
        "\r\n",
        "  loads = [[0 for __ in range(len(capacities[0]))] for __ in range(len(capacities))]\r\n",
        "  max_route_distance = 0\r\n",
        "  visited = [[] for i in range(no_vehicles)]\r\n",
        "  for vehicle_id in range(no_vehicles):\r\n",
        "      index = routing.Start(vehicle_id)\r\n",
        "      route_distance = 0\r\n",
        "      while not routing.IsEnd(index):\r\n",
        "          visited[vehicle_id].append(manager.IndexToNode(index))\r\n",
        "          loads[vehicle_id] = add(loads[vehicle_id], demands[manager.IndexToNode(index)])\r\n",
        "          previous_index = index\r\n",
        "          index = solution.Value(routing.NextVar(index))\r\n",
        "          route_distance += routing.GetArcCostForVehicle(previous_index, index, vehicle_id)\r\n",
        "      visited[vehicle_id].append(manager.IndexToNode(index))\r\n",
        "      max_route_distance = max(route_distance, max_route_distance)\r\n",
        "\r\n",
        "  return visited, max_route_distance, loads  # route (vehicles, location idx), cost"
      ],
      "execution_count": 39,
      "outputs": []
    },
    {
      "cell_type": "code",
      "metadata": {
        "id": "rDnQFrnymz0K"
      },
      "source": [
        "def tsp(dist_function, locations):\r\n",
        "  x = routing(dist_function, locations)\r\n",
        "  return x[0][0], x[1]"
      ],
      "execution_count": 40,
      "outputs": []
    },
    {
      "cell_type": "code",
      "metadata": {
        "id": "Ms9q-lTTwb7U"
      },
      "source": [
        "def vrp(dist_function, locations, no_vehicles):\r\n",
        "  x = routing(dist_function, locations, no_vehicles=no_vehicles)\r\n",
        "  return x[:2]"
      ],
      "execution_count": 41,
      "outputs": []
    },
    {
      "cell_type": "code",
      "metadata": {
        "id": "qlBaW4stpdaM"
      },
      "source": [
        "def cvrp(dist_function, locations, no_vehicles, capacities, demands):\r\n",
        "  x = routing(dist_function, locations, no_vehicles=no_vehicles, capacities=capacities, demands=demands)\r\n",
        "  if len(x[2][0]) == 1:\r\n",
        "    return x[0], x[1], [i[0] for i in x[2]]\r\n",
        "  return x[0], x[1], x[2]"
      ],
      "execution_count": 42,
      "outputs": []
    },
    {
      "cell_type": "code",
      "metadata": {
        "colab": {
          "base_uri": "https://localhost:8080/"
        },
        "id": "VoJEGJiAFCK7",
        "outputId": "17a0a87b-5b2c-4f92-ef39-936f98115401"
      },
      "source": [
        "tsp(dist_function_1, locations_1)"
      ],
      "execution_count": 43,
      "outputs": [
        {
          "output_type": "execute_result",
          "data": {
            "text/plain": [
              "([0, 7, 2, 3, 4, 12, 6, 8, 1, 11, 10, 5, 9, 0], 7293)"
            ]
          },
          "metadata": {
            "tags": []
          },
          "execution_count": 43
        }
      ]
    },
    {
      "cell_type": "code",
      "metadata": {
        "colab": {
          "base_uri": "https://localhost:8080/",
          "height": 437
        },
        "id": "j0X13A4ZnbM-",
        "outputId": "669600b8-89c6-459b-b8ed-e9e0f7b51955"
      },
      "source": [
        "vrp(dist_function_1, locations_1, 2)  # not working because have multiple things to maximise"
      ],
      "execution_count": 44,
      "outputs": [
        {
          "output_type": "error",
          "ename": "SystemError",
          "evalue": "ignored",
          "traceback": [
            "\u001b[0;31m---------------------------------------------------------------------------\u001b[0m",
            "\u001b[0;31mOverflowError\u001b[0m                             Traceback (most recent call last)",
            "\u001b[0;32m<ipython-input-39-d185f0f25bc3>\u001b[0m in \u001b[0;36m<lambda>\u001b[0;34m(x)\u001b[0m\n\u001b[1;32m     53\u001b[0m   \u001b[0;32mfor\u001b[0m \u001b[0mi\u001b[0m \u001b[0;32min\u001b[0m \u001b[0mrange\u001b[0m\u001b[0;34m(\u001b[0m\u001b[0mlen\u001b[0m\u001b[0;34m(\u001b[0m\u001b[0mcapacities\u001b[0m\u001b[0;34m[\u001b[0m\u001b[0;36m0\u001b[0m\u001b[0;34m]\u001b[0m\u001b[0;34m)\u001b[0m\u001b[0;34m)\u001b[0m\u001b[0;34m:\u001b[0m  \u001b[0;31m# add dimension for each capacity\u001b[0m\u001b[0;34m\u001b[0m\u001b[0;34m\u001b[0m\u001b[0m\n\u001b[0;32m---> 54\u001b[0;31m     \u001b[0mdemand_callback_index\u001b[0m \u001b[0;34m=\u001b[0m \u001b[0mrouting\u001b[0m\u001b[0;34m.\u001b[0m\u001b[0mRegisterUnaryTransitCallback\u001b[0m\u001b[0;34m(\u001b[0m\u001b[0;32mlambda\u001b[0m \u001b[0mx\u001b[0m \u001b[0;34m:\u001b[0m \u001b[0mdemand_callback\u001b[0m\u001b[0;34m(\u001b[0m\u001b[0mx\u001b[0m\u001b[0;34m,\u001b[0m \u001b[0mi\u001b[0m\u001b[0;34m)\u001b[0m\u001b[0;34m)\u001b[0m\u001b[0;34m\u001b[0m\u001b[0;34m\u001b[0m\u001b[0m\n\u001b[0m\u001b[1;32m     55\u001b[0m     \u001b[0mrouting\u001b[0m\u001b[0;34m.\u001b[0m\u001b[0mAddDimensionWithVehicleCapacity\u001b[0m\u001b[0;34m(\u001b[0m\u001b[0mdemand_callback_index\u001b[0m\u001b[0;34m,\u001b[0m \u001b[0;36m0\u001b[0m\u001b[0;34m,\u001b[0m \u001b[0;34m[\u001b[0m\u001b[0mj\u001b[0m\u001b[0;34m[\u001b[0m\u001b[0mi\u001b[0m\u001b[0;34m]\u001b[0m \u001b[0;32mfor\u001b[0m \u001b[0mj\u001b[0m \u001b[0;32min\u001b[0m \u001b[0mcapacities\u001b[0m\u001b[0;34m]\u001b[0m\u001b[0;34m,\u001b[0m \u001b[0;32mTrue\u001b[0m\u001b[0;34m,\u001b[0m \u001b[0;34mf'Capacity_{i}'\u001b[0m\u001b[0;34m)\u001b[0m\u001b[0;34m\u001b[0m\u001b[0;34m\u001b[0m\u001b[0m\n",
            "\u001b[0;32m<ipython-input-39-d185f0f25bc3>\u001b[0m in \u001b[0;36mdemand_callback\u001b[0;34m(from_index, idx)\u001b[0m\n\u001b[1;32m     35\u001b[0m   \u001b[0;32mdef\u001b[0m \u001b[0mdemand_callback\u001b[0m\u001b[0;34m(\u001b[0m\u001b[0mfrom_index\u001b[0m\u001b[0;34m,\u001b[0m \u001b[0midx\u001b[0m\u001b[0;34m)\u001b[0m\u001b[0;34m:\u001b[0m  \u001b[0;31m# callback for material: idx\u001b[0m\u001b[0;34m\u001b[0m\u001b[0;34m\u001b[0m\u001b[0m\n\u001b[0;32m---> 36\u001b[0;31m     \u001b[0mfrom_node\u001b[0m \u001b[0;34m=\u001b[0m \u001b[0mmanager\u001b[0m\u001b[0;34m.\u001b[0m\u001b[0mIndexToNode\u001b[0m\u001b[0;34m(\u001b[0m\u001b[0mfrom_index\u001b[0m\u001b[0;34m)\u001b[0m\u001b[0;34m\u001b[0m\u001b[0;34m\u001b[0m\u001b[0m\n\u001b[0m\u001b[1;32m     37\u001b[0m     \u001b[0;32mreturn\u001b[0m \u001b[0mdemands\u001b[0m\u001b[0;34m[\u001b[0m\u001b[0mfrom_node\u001b[0m\u001b[0;34m]\u001b[0m\u001b[0;34m[\u001b[0m\u001b[0midx\u001b[0m\u001b[0;34m]\u001b[0m\u001b[0;34m\u001b[0m\u001b[0;34m\u001b[0m\u001b[0m\n",
            "\u001b[0;32m/usr/local/lib/python3.6/dist-packages/ortools/constraint_solver/pywrapcp.py\u001b[0m in \u001b[0;36mIndexToNode\u001b[0;34m(self, index)\u001b[0m\n\u001b[1;32m   4649\u001b[0m     \u001b[0;32mdef\u001b[0m \u001b[0mIndexToNode\u001b[0m\u001b[0;34m(\u001b[0m\u001b[0mself\u001b[0m\u001b[0;34m,\u001b[0m \u001b[0mindex\u001b[0m\u001b[0;34m:\u001b[0m \u001b[0;34m\"int64\"\u001b[0m\u001b[0;34m)\u001b[0m \u001b[0;34m->\u001b[0m \u001b[0;34m\"operations_research::RoutingIndexManager::NodeIndex\"\u001b[0m\u001b[0;34m:\u001b[0m\u001b[0;34m\u001b[0m\u001b[0;34m\u001b[0m\u001b[0m\n\u001b[0;32m-> 4650\u001b[0;31m         \u001b[0;32mreturn\u001b[0m \u001b[0m_pywrapcp\u001b[0m\u001b[0;34m.\u001b[0m\u001b[0mRoutingIndexManager_IndexToNode\u001b[0m\u001b[0;34m(\u001b[0m\u001b[0mself\u001b[0m\u001b[0;34m,\u001b[0m \u001b[0mindex\u001b[0m\u001b[0;34m)\u001b[0m\u001b[0;34m\u001b[0m\u001b[0;34m\u001b[0m\u001b[0m\n\u001b[0m\u001b[1;32m   4651\u001b[0m \u001b[0;34m\u001b[0m\u001b[0m\n",
            "\u001b[0;31mOverflowError\u001b[0m: in method 'RoutingIndexManager_IndexToNode', argument 2 of type 'int64'",
            "\nThe above exception was the direct cause of the following exception:\n",
            "\u001b[0;31mSystemError\u001b[0m                               Traceback (most recent call last)",
            "\u001b[0;32m<ipython-input-44-d4d1883485aa>\u001b[0m in \u001b[0;36m<module>\u001b[0;34m()\u001b[0m\n\u001b[0;32m----> 1\u001b[0;31m \u001b[0mvrp\u001b[0m\u001b[0;34m(\u001b[0m\u001b[0mdist_function_1\u001b[0m\u001b[0;34m,\u001b[0m \u001b[0mlocations_1\u001b[0m\u001b[0;34m,\u001b[0m \u001b[0;36m2\u001b[0m\u001b[0;34m)\u001b[0m\u001b[0;34m\u001b[0m\u001b[0;34m\u001b[0m\u001b[0m\n\u001b[0m",
            "\u001b[0;32m<ipython-input-41-18cc05e1a082>\u001b[0m in \u001b[0;36mvrp\u001b[0;34m(dist_function, locations, no_vehicles)\u001b[0m\n\u001b[1;32m      1\u001b[0m \u001b[0;32mdef\u001b[0m \u001b[0mvrp\u001b[0m\u001b[0;34m(\u001b[0m\u001b[0mdist_function\u001b[0m\u001b[0;34m,\u001b[0m \u001b[0mlocations\u001b[0m\u001b[0;34m,\u001b[0m \u001b[0mno_vehicles\u001b[0m\u001b[0;34m)\u001b[0m\u001b[0;34m:\u001b[0m\u001b[0;34m\u001b[0m\u001b[0;34m\u001b[0m\u001b[0m\n\u001b[0;32m----> 2\u001b[0;31m   \u001b[0mx\u001b[0m \u001b[0;34m=\u001b[0m \u001b[0mrouting\u001b[0m\u001b[0;34m(\u001b[0m\u001b[0mdist_function\u001b[0m\u001b[0;34m,\u001b[0m \u001b[0mlocations\u001b[0m\u001b[0;34m,\u001b[0m \u001b[0mno_vehicles\u001b[0m\u001b[0;34m=\u001b[0m\u001b[0mno_vehicles\u001b[0m\u001b[0;34m)\u001b[0m\u001b[0;34m\u001b[0m\u001b[0;34m\u001b[0m\u001b[0m\n\u001b[0m\u001b[1;32m      3\u001b[0m   \u001b[0;32mreturn\u001b[0m \u001b[0mx\u001b[0m\u001b[0;34m[\u001b[0m\u001b[0;34m:\u001b[0m\u001b[0;36m2\u001b[0m\u001b[0;34m]\u001b[0m\u001b[0;34m\u001b[0m\u001b[0;34m\u001b[0m\u001b[0m\n",
            "\u001b[0;32m<ipython-input-39-d185f0f25bc3>\u001b[0m in \u001b[0;36mrouting\u001b[0;34m(dist_function, locations, no_vehicles, capacities, demands, time_windows, max_travel_dist, time_limit)\u001b[0m\n\u001b[1;32m     71\u001b[0m   \u001b[0msearch_parameters\u001b[0m \u001b[0;34m=\u001b[0m \u001b[0mpywrapcp\u001b[0m\u001b[0;34m.\u001b[0m\u001b[0mDefaultRoutingSearchParameters\u001b[0m\u001b[0;34m(\u001b[0m\u001b[0;34m)\u001b[0m\u001b[0;34m\u001b[0m\u001b[0;34m\u001b[0m\u001b[0m\n\u001b[1;32m     72\u001b[0m   \u001b[0msearch_parameters\u001b[0m\u001b[0;34m.\u001b[0m\u001b[0mfirst_solution_strategy\u001b[0m \u001b[0;34m=\u001b[0m \u001b[0;34m(\u001b[0m\u001b[0mrouting_enums_pb2\u001b[0m\u001b[0;34m.\u001b[0m\u001b[0mFirstSolutionStrategy\u001b[0m\u001b[0;34m.\u001b[0m\u001b[0mPATH_CHEAPEST_ARC\u001b[0m\u001b[0;34m)\u001b[0m\u001b[0;34m\u001b[0m\u001b[0;34m\u001b[0m\u001b[0m\n\u001b[0;32m---> 73\u001b[0;31m   \u001b[0msolution\u001b[0m \u001b[0;34m=\u001b[0m \u001b[0mrouting\u001b[0m\u001b[0;34m.\u001b[0m\u001b[0mSolveWithParameters\u001b[0m\u001b[0;34m(\u001b[0m\u001b[0msearch_parameters\u001b[0m\u001b[0;34m)\u001b[0m\u001b[0;34m\u001b[0m\u001b[0;34m\u001b[0m\u001b[0m\n\u001b[0m\u001b[1;32m     74\u001b[0m \u001b[0;34m\u001b[0m\u001b[0m\n\u001b[1;32m     75\u001b[0m   \u001b[0;32mif\u001b[0m \u001b[0;32mnot\u001b[0m \u001b[0msolution\u001b[0m\u001b[0;34m:\u001b[0m\u001b[0;34m\u001b[0m\u001b[0;34m\u001b[0m\u001b[0m\n",
            "\u001b[0;32m/usr/local/lib/python3.6/dist-packages/ortools/constraint_solver/pywrapcp.py\u001b[0m in \u001b[0;36mSolveWithParameters\u001b[0;34m(self, search_parameters, solutions)\u001b[0m\n\u001b[1;32m   5333\u001b[0m         \u001b[0mdeleted\u001b[0m\u001b[0;34m.\u001b[0m\u001b[0;34m\u001b[0m\u001b[0;34m\u001b[0m\u001b[0m\n\u001b[1;32m   5334\u001b[0m         \"\"\"\n\u001b[0;32m-> 5335\u001b[0;31m         \u001b[0;32mreturn\u001b[0m \u001b[0m_pywrapcp\u001b[0m\u001b[0;34m.\u001b[0m\u001b[0mRoutingModel_SolveWithParameters\u001b[0m\u001b[0;34m(\u001b[0m\u001b[0mself\u001b[0m\u001b[0;34m,\u001b[0m \u001b[0msearch_parameters\u001b[0m\u001b[0;34m,\u001b[0m \u001b[0msolutions\u001b[0m\u001b[0;34m)\u001b[0m\u001b[0;34m\u001b[0m\u001b[0;34m\u001b[0m\u001b[0m\n\u001b[0m\u001b[1;32m   5336\u001b[0m \u001b[0;34m\u001b[0m\u001b[0m\n\u001b[1;32m   5337\u001b[0m     \u001b[0;32mdef\u001b[0m \u001b[0mSolveFromAssignmentWithParameters\u001b[0m\u001b[0;34m(\u001b[0m\u001b[0mself\u001b[0m\u001b[0;34m,\u001b[0m \u001b[0massignment\u001b[0m\u001b[0;34m:\u001b[0m \u001b[0;34m\"Assignment\"\u001b[0m\u001b[0;34m,\u001b[0m \u001b[0msearch_parameters\u001b[0m\u001b[0;34m:\u001b[0m \u001b[0;34m\"operations_research::RoutingSearchParameters const &\"\u001b[0m\u001b[0;34m,\u001b[0m \u001b[0msolutions\u001b[0m\u001b[0;34m:\u001b[0m \u001b[0;34m\"std::vector< operations_research::Assignment const * > *\"\u001b[0m\u001b[0;34m=\u001b[0m\u001b[0;32mNone\u001b[0m\u001b[0;34m)\u001b[0m \u001b[0;34m->\u001b[0m \u001b[0;34m\"operations_research::Assignment const *\"\u001b[0m\u001b[0;34m:\u001b[0m\u001b[0;34m\u001b[0m\u001b[0;34m\u001b[0m\u001b[0m\n",
            "\u001b[0;31mSystemError\u001b[0m: <built-in function RoutingModel_SolveWithParameters> returned a result with an error set"
          ]
        }
      ]
    },
    {
      "cell_type": "code",
      "metadata": {
        "colab": {
          "base_uri": "https://localhost:8080/"
        },
        "id": "cge_oY70nlCE",
        "outputId": "9d3e76c7-80da-477a-e121-d9f875fca5c6"
      },
      "source": [
        "cvrp(dist_function_1, locations_1, len(capacities_1), capacities_1, demands_1)"
      ],
      "execution_count": 32,
      "outputs": [
        {
          "output_type": "execute_result",
          "data": {
            "text/plain": [
              "([[0, 12, 8, 2, 0], [0, 9, 4, 1, 11, 5, 0], [0, 10, 0], [0, 3, 6, 7, 0]],\n",
              " 5143,\n",
              " [30, 50, 10, 30])"
            ]
          },
          "metadata": {
            "tags": []
          },
          "execution_count": 32
        }
      ]
    },
    {
      "cell_type": "code",
      "metadata": {
        "colab": {
          "base_uri": "https://localhost:8080/",
          "height": 303
        },
        "id": "-jx0bx0duoDT",
        "outputId": "57529f8d-9530-4a5b-e0de-4bbf2c4fe873"
      },
      "source": [
        "cvrp(dist_function_2, locations_2, len(capacities_2), capacities_2, demands_2)  # WHY DOESNT THIS WORK ??!!!"
      ],
      "execution_count": 13,
      "outputs": [
        {
          "output_type": "error",
          "ename": "ValueError",
          "evalue": "ignored",
          "traceback": [
            "\u001b[0;31m---------------------------------------------------------------------------\u001b[0m",
            "\u001b[0;31mValueError\u001b[0m                                Traceback (most recent call last)",
            "\u001b[0;32m<ipython-input-13-2816b67799aa>\u001b[0m in \u001b[0;36m<module>\u001b[0;34m()\u001b[0m\n\u001b[0;32m----> 1\u001b[0;31m \u001b[0mcvrp\u001b[0m\u001b[0;34m(\u001b[0m\u001b[0mdist_function_2\u001b[0m\u001b[0;34m,\u001b[0m \u001b[0mlocations_2\u001b[0m\u001b[0;34m,\u001b[0m \u001b[0mlen\u001b[0m\u001b[0;34m(\u001b[0m\u001b[0mcapacities_2\u001b[0m\u001b[0;34m)\u001b[0m\u001b[0;34m,\u001b[0m \u001b[0mcapacities_2\u001b[0m\u001b[0;34m,\u001b[0m \u001b[0mdemands_2\u001b[0m\u001b[0;34m)\u001b[0m  \u001b[0;31m# WHY DOESNT THIS WORK ??!!!\u001b[0m\u001b[0;34m\u001b[0m\u001b[0;34m\u001b[0m\u001b[0m\n\u001b[0m",
            "\u001b[0;32m<ipython-input-9-0e4d0ee2024f>\u001b[0m in \u001b[0;36mcvrp\u001b[0;34m(dist_function, locations, no_vehicles, capacities, demands)\u001b[0m\n\u001b[1;32m      1\u001b[0m \u001b[0;32mdef\u001b[0m \u001b[0mcvrp\u001b[0m\u001b[0;34m(\u001b[0m\u001b[0mdist_function\u001b[0m\u001b[0;34m,\u001b[0m \u001b[0mlocations\u001b[0m\u001b[0;34m,\u001b[0m \u001b[0mno_vehicles\u001b[0m\u001b[0;34m,\u001b[0m \u001b[0mcapacities\u001b[0m\u001b[0;34m,\u001b[0m \u001b[0mdemands\u001b[0m\u001b[0;34m)\u001b[0m\u001b[0;34m:\u001b[0m\u001b[0;34m\u001b[0m\u001b[0;34m\u001b[0m\u001b[0m\n\u001b[0;32m----> 2\u001b[0;31m   \u001b[0mx\u001b[0m \u001b[0;34m=\u001b[0m \u001b[0mrouting\u001b[0m\u001b[0;34m(\u001b[0m\u001b[0mdist_function\u001b[0m\u001b[0;34m,\u001b[0m \u001b[0mlocations\u001b[0m\u001b[0;34m,\u001b[0m \u001b[0mno_vehicles\u001b[0m\u001b[0;34m=\u001b[0m\u001b[0mno_vehicles\u001b[0m\u001b[0;34m,\u001b[0m \u001b[0mcapacities\u001b[0m\u001b[0;34m=\u001b[0m\u001b[0mcapacities\u001b[0m\u001b[0;34m,\u001b[0m \u001b[0mdemands\u001b[0m\u001b[0;34m=\u001b[0m\u001b[0mdemands\u001b[0m\u001b[0;34m)\u001b[0m\u001b[0;34m\u001b[0m\u001b[0;34m\u001b[0m\u001b[0m\n\u001b[0m\u001b[1;32m      3\u001b[0m   \u001b[0;32mif\u001b[0m \u001b[0mlen\u001b[0m\u001b[0;34m(\u001b[0m\u001b[0mx\u001b[0m\u001b[0;34m[\u001b[0m\u001b[0;36m2\u001b[0m\u001b[0;34m]\u001b[0m\u001b[0;34m[\u001b[0m\u001b[0;36m0\u001b[0m\u001b[0;34m]\u001b[0m\u001b[0;34m)\u001b[0m \u001b[0;34m==\u001b[0m \u001b[0;36m1\u001b[0m\u001b[0;34m:\u001b[0m\u001b[0;34m\u001b[0m\u001b[0;34m\u001b[0m\u001b[0m\n\u001b[1;32m      4\u001b[0m     \u001b[0;32mreturn\u001b[0m \u001b[0mx\u001b[0m\u001b[0;34m[\u001b[0m\u001b[0;36m0\u001b[0m\u001b[0;34m]\u001b[0m\u001b[0;34m,\u001b[0m \u001b[0mx\u001b[0m\u001b[0;34m[\u001b[0m\u001b[0;36m1\u001b[0m\u001b[0;34m]\u001b[0m\u001b[0;34m,\u001b[0m \u001b[0;34m[\u001b[0m\u001b[0mi\u001b[0m\u001b[0;34m[\u001b[0m\u001b[0;36m0\u001b[0m\u001b[0;34m]\u001b[0m \u001b[0;32mfor\u001b[0m \u001b[0mi\u001b[0m \u001b[0;32min\u001b[0m \u001b[0mx\u001b[0m\u001b[0;34m[\u001b[0m\u001b[0;36m2\u001b[0m\u001b[0;34m]\u001b[0m\u001b[0;34m]\u001b[0m\u001b[0;34m\u001b[0m\u001b[0;34m\u001b[0m\u001b[0m\n\u001b[1;32m      5\u001b[0m   \u001b[0;32mreturn\u001b[0m \u001b[0mx\u001b[0m\u001b[0;34m[\u001b[0m\u001b[0;36m0\u001b[0m\u001b[0;34m]\u001b[0m\u001b[0;34m,\u001b[0m \u001b[0mx\u001b[0m\u001b[0;34m[\u001b[0m\u001b[0;36m1\u001b[0m\u001b[0;34m]\u001b[0m\u001b[0;34m,\u001b[0m \u001b[0mx\u001b[0m\u001b[0;34m[\u001b[0m\u001b[0;36m2\u001b[0m\u001b[0;34m]\u001b[0m\u001b[0;34m\u001b[0m\u001b[0;34m\u001b[0m\u001b[0m\n",
            "\u001b[0;32m<ipython-input-6-78b25c2b09e8>\u001b[0m in \u001b[0;36mrouting\u001b[0;34m(dist_function, locations, no_vehicles, capacities, demands, max_travel_dist, time_limit)\u001b[0m\n\u001b[1;32m     57\u001b[0m \u001b[0;34m\u001b[0m\u001b[0m\n\u001b[1;32m     58\u001b[0m   \u001b[0;32mif\u001b[0m \u001b[0;32mnot\u001b[0m \u001b[0msolution\u001b[0m\u001b[0;34m:\u001b[0m\u001b[0;34m\u001b[0m\u001b[0;34m\u001b[0m\u001b[0m\n\u001b[0;32m---> 59\u001b[0;31m     \u001b[0;32mraise\u001b[0m \u001b[0mValueError\u001b[0m\u001b[0;34m(\u001b[0m\u001b[0;34m\"NO SOLUTION :(\"\u001b[0m\u001b[0;34m)\u001b[0m\u001b[0;34m\u001b[0m\u001b[0;34m\u001b[0m\u001b[0m\n\u001b[0m\u001b[1;32m     60\u001b[0m \u001b[0;34m\u001b[0m\u001b[0m\n\u001b[1;32m     61\u001b[0m   \u001b[0mloads\u001b[0m \u001b[0;34m=\u001b[0m \u001b[0;34m[\u001b[0m\u001b[0;34m[\u001b[0m\u001b[0;36m0\u001b[0m \u001b[0;32mfor\u001b[0m \u001b[0m__\u001b[0m \u001b[0;32min\u001b[0m \u001b[0mrange\u001b[0m\u001b[0;34m(\u001b[0m\u001b[0mlen\u001b[0m\u001b[0;34m(\u001b[0m\u001b[0mcapacities\u001b[0m\u001b[0;34m[\u001b[0m\u001b[0;36m0\u001b[0m\u001b[0;34m]\u001b[0m\u001b[0;34m)\u001b[0m\u001b[0;34m)\u001b[0m\u001b[0;34m]\u001b[0m \u001b[0;32mfor\u001b[0m \u001b[0m__\u001b[0m \u001b[0;32min\u001b[0m \u001b[0mrange\u001b[0m\u001b[0;34m(\u001b[0m\u001b[0mlen\u001b[0m\u001b[0;34m(\u001b[0m\u001b[0mcapacities\u001b[0m\u001b[0;34m)\u001b[0m\u001b[0;34m)\u001b[0m\u001b[0;34m]\u001b[0m\u001b[0;34m\u001b[0m\u001b[0;34m\u001b[0m\u001b[0m\n",
            "\u001b[0;31mValueError\u001b[0m: NO SOLUTION :("
          ]
        }
      ]
    },
    {
      "cell_type": "markdown",
      "metadata": {
        "id": "kq7_N6WU2RDc"
      },
      "source": [
        "# Modular thing (Not working :[  )"
      ]
    },
    {
      "cell_type": "code",
      "metadata": {
        "id": "m-MQAqFy315R"
      },
      "source": [
        "def vrp_base(dist_matrix, locations, no_vehicles, update_routing=lambda x : None, depot=0, time_limit=-1):\r\n",
        "\r\n",
        "  assert len(dist_matrix) == len(dist_matrix[0]) == len(locations)\r\n",
        "\r\n",
        "  if time_limit > 0:\r\n",
        "    search_parameters = pywrapcp.DefaultRoutingSearchParameters()\r\n",
        "    search_parameters.local_search_metaheuristic = (routing_enums_pb2.LocalSearchMetaheuristic.GUIDED_LOCAL_SEARCH)\r\n",
        "    search_parameters.time_limit.seconds = time_limit\r\n",
        "\r\n",
        "  def distance_callback(from_index, to_index):\r\n",
        "    from_node = manager.IndexToNode(from_index)\r\n",
        "    to_node = manager.IndexToNode(to_index)\r\n",
        "    return dist_matrix[from_node][to_node]\r\n",
        "\r\n",
        "  manager = pywrapcp.RoutingIndexManager(len(locations), no_vehicles, depot)\r\n",
        "  routing = pywrapcp.RoutingModel(manager)\r\n",
        "\r\n",
        "  transit_callback_index = routing.RegisterTransitCallback(distance_callback)\r\n",
        "  routing.SetArcCostEvaluatorOfAllVehicles(transit_callback_index)\r\n",
        "\r\n",
        "  routing.AddDimension(transit_callback_index, 0, int(1e9), True, \"Distance\")\r\n",
        "  distance_dimension = routing.GetDimensionOrDie(\"Distance\")\r\n",
        "  distance_dimension.SetGlobalSpanCostCoefficient(100)\r\n",
        "\r\n",
        "  update_routing(routing)\r\n",
        "\r\n",
        "  search_parameters = pywrapcp.DefaultRoutingSearchParameters()\r\n",
        "  search_parameters.first_solution_strategy = (routing_enums_pb2.FirstSolutionStrategy.PATH_CHEAPEST_ARC)\r\n",
        "\r\n",
        "  solution = routing.SolveWithParameters(search_parameters)\r\n",
        "\r\n",
        "  if not solution:\r\n",
        "    raise ValueError(\"NO SOLUTION :(\")\r\n",
        "\r\n",
        "  return solution, routing, manager"
      ],
      "execution_count": 69,
      "outputs": []
    },
    {
      "cell_type": "code",
      "metadata": {
        "id": "lZl5aR7m5VWW"
      },
      "source": [
        "def tsp(dist_matrix, locations, depot=0, time_limit=-1):\r\n",
        "  solution, routing, manager = vrp_base(dist_matrix, locations, 1, depot=depot, time_limit=time_limit)\r\n",
        "\r\n",
        "  visited = []\r\n",
        "  index = routing.Start(0)\r\n",
        "  route_distance = 0\r\n",
        "  while not routing.IsEnd(index):\r\n",
        "    visited.append(manager.IndexToNode(index))\r\n",
        "    previous_index = index\r\n",
        "    index = solution.Value(routing.NextVar(index))\r\n",
        "    route_distance += routing.GetArcCostForVehicle(previous_index, index, 0)\r\n",
        "  visited.append(manager.IndexToNode(index))\r\n",
        "  \r\n",
        "  return visited, route_distance"
      ],
      "execution_count": 40,
      "outputs": []
    },
    {
      "cell_type": "code",
      "metadata": {
        "id": "ZdXomEbO7oMZ"
      },
      "source": [
        "def vrp(dist_matrix, locations, no_vehicles, depot=0, time_limit=-1):\r\n",
        "\r\n",
        "  solution, routing, manager = vrp_base(dist_matrix, locations, no_vehicles, depot=depot, time_limit=time_limit)\r\n",
        "\r\n",
        "  max_route_distance = 0\r\n",
        "  visited = [[] for i in range(no_vehicles)]\r\n",
        "  for vehicle_id in range(no_vehicles):\r\n",
        "      index = routing.Start(vehicle_id)\r\n",
        "      route_distance = 0\r\n",
        "      while not routing.IsEnd(index):\r\n",
        "          visited[vehicle_id].append(manager.IndexToNode(index))\r\n",
        "          previous_index = index\r\n",
        "          index = solution.Value(routing.NextVar(index))\r\n",
        "          route_distance += routing.GetArcCostForVehicle(previous_index, index, vehicle_id)\r\n",
        "      visited[vehicle_id].append(manager.IndexToNode(index))\r\n",
        "      max_route_distance = max(route_distance, max_route_distance)\r\n",
        "    \r\n",
        "  return visited, max_route_distance"
      ],
      "execution_count": 61,
      "outputs": []
    },
    {
      "cell_type": "code",
      "metadata": {
        "id": "tXZWwTIk5TWO"
      },
      "source": [
        "def cvrp(dist_matrix, locations, no_vehicles, demands, capacities, depot=0, time_limit=-1):\r\n",
        "\r\n",
        "  if type(demands[0]) != tuple:\r\n",
        "    demands = [(i,) for i in demands]\r\n",
        "    capacities = [(i,) for i in capacities]\r\n",
        "\r\n",
        "  assert len(demands) == len(locations)\r\n",
        "  assert len(capacities) == no_vehicles\r\n",
        "\r\n",
        "  def demand_callback(from_index, cargo_type):\r\n",
        "    from_node = manager.IndexToNode(from_index)\r\n",
        "    return demands[cargo_type][from_node]\r\n",
        "\r\n",
        "  def update_routing(routing):\r\n",
        "    for i in range(len(demands[0])):\r\n",
        "      callback = lambda x : demand_callback(x, i)\r\n",
        "      demand_callback_index = routing.RegisterUnaryTransitCallback(callback)\r\n",
        "      routing.AddDimensionWithVehicleCapacity(demand_callback_index, 0, [j[i] for j in capacities], True, f'Capacity_{i}')\r\n",
        "\r\n",
        "  solution, routing, manager = vrp_base(dist_matrix, locations, no_vehicles, update_routing=update_routing, depot=depot, time_limit=depot)\r\n",
        "\r\n",
        "  loads = [[0 for __ in range(len(capacities[0]))] for __ in range(len(capacities))]\r\n",
        "  max_route_distance = 0\r\n",
        "  visited = [[] for i in range(no_vehicles)]\r\n",
        "  for vehicle_id in range(no_vehicles):\r\n",
        "      index = routing.Start(vehicle_id)\r\n",
        "      route_distance = 0\r\n",
        "      while not routing.IsEnd(index):\r\n",
        "          visited[vehicle_id].append(manager.IndexToNode(index))\r\n",
        "          loads[vehicle_id] = add(loads[vehicle_id], demands[manager.IndexToNode(index)])\r\n",
        "          previous_index = index\r\n",
        "          index = solution.Value(routing.NextVar(index))\r\n",
        "          route_distance += routing.GetArcCostForVehicle(previous_index, index, vehicle_id)\r\n",
        "      visited[vehicle_id].append(manager.IndexToNode(index))\r\n",
        "      max_route_distance = max(route_distance, max_route_distance)\r\n",
        "\r\n",
        "  return visited, max_route_distance, loads"
      ],
      "execution_count": 70,
      "outputs": []
    },
    {
      "cell_type": "code",
      "metadata": {
        "id": "nR56D_G2_TBm"
      },
      "source": [
        "def vrptw():\r\n",
        "  pass"
      ],
      "execution_count": null,
      "outputs": []
    },
    {
      "cell_type": "code",
      "metadata": {
        "colab": {
          "base_uri": "https://localhost:8080/"
        },
        "id": "Mj8vIpCY7CIV",
        "outputId": "d69a997d-c16b-41a2-9a04-df532094a041"
      },
      "source": [
        "tsp(matrix_1, locations_1)"
      ],
      "execution_count": 57,
      "outputs": [
        {
          "output_type": "execute_result",
          "data": {
            "text/plain": [
              "([0, 7, 2, 3, 4, 12, 6, 8, 1, 11, 10, 5, 9, 0], 7293)"
            ]
          },
          "metadata": {
            "tags": []
          },
          "execution_count": 57
        }
      ]
    },
    {
      "cell_type": "code",
      "metadata": {
        "colab": {
          "base_uri": "https://localhost:8080/"
        },
        "id": "TY0xAiC77CIX",
        "outputId": "82bdf74e-09d9-4d35-a4bd-59dc66cff1e9"
      },
      "source": [
        "vrp(matrix_1, locations_1, 2)"
      ],
      "execution_count": 58,
      "outputs": [
        {
          "output_type": "execute_result",
          "data": {
            "text/plain": [
              "([[0, 10, 5, 11, 1, 4, 2, 7, 0], [0, 3, 6, 8, 12, 9, 0]], 5728)"
            ]
          },
          "metadata": {
            "tags": []
          },
          "execution_count": 58
        }
      ]
    },
    {
      "cell_type": "code",
      "metadata": {
        "colab": {
          "base_uri": "https://localhost:8080/",
          "height": 437
        },
        "id": "5BWqiTqf7CIY",
        "outputId": "6d155180-cabc-4b4d-ebd7-0289939ae88e"
      },
      "source": [
        "cvrp(matrix_1, locations_1, len(capacities_1), demands_1, capacities_1)"
      ],
      "execution_count": 71,
      "outputs": [
        {
          "output_type": "error",
          "ename": "SystemError",
          "evalue": "ignored",
          "traceback": [
            "\u001b[0;31m---------------------------------------------------------------------------\u001b[0m",
            "\u001b[0;31mOverflowError\u001b[0m                             Traceback (most recent call last)",
            "\u001b[0;32m<ipython-input-70-37adee7acdb5>\u001b[0m in \u001b[0;36m<lambda>\u001b[0;34m(x)\u001b[0m\n\u001b[1;32m     15\u001b[0m     \u001b[0;32mfor\u001b[0m \u001b[0mi\u001b[0m \u001b[0;32min\u001b[0m \u001b[0mrange\u001b[0m\u001b[0;34m(\u001b[0m\u001b[0mlen\u001b[0m\u001b[0;34m(\u001b[0m\u001b[0mdemands\u001b[0m\u001b[0;34m[\u001b[0m\u001b[0;36m0\u001b[0m\u001b[0;34m]\u001b[0m\u001b[0;34m)\u001b[0m\u001b[0;34m)\u001b[0m\u001b[0;34m:\u001b[0m\u001b[0;34m\u001b[0m\u001b[0;34m\u001b[0m\u001b[0m\n\u001b[0;32m---> 16\u001b[0;31m       \u001b[0mcallback\u001b[0m \u001b[0;34m=\u001b[0m \u001b[0;32mlambda\u001b[0m \u001b[0mx\u001b[0m \u001b[0;34m:\u001b[0m \u001b[0mdemand_callback\u001b[0m\u001b[0;34m(\u001b[0m\u001b[0mx\u001b[0m\u001b[0;34m,\u001b[0m \u001b[0mi\u001b[0m\u001b[0;34m)\u001b[0m\u001b[0;34m\u001b[0m\u001b[0;34m\u001b[0m\u001b[0m\n\u001b[0m\u001b[1;32m     17\u001b[0m       \u001b[0mdemand_callback_index\u001b[0m \u001b[0;34m=\u001b[0m \u001b[0mrouting\u001b[0m\u001b[0;34m.\u001b[0m\u001b[0mRegisterUnaryTransitCallback\u001b[0m\u001b[0;34m(\u001b[0m\u001b[0mcallback\u001b[0m\u001b[0;34m)\u001b[0m\u001b[0;34m\u001b[0m\u001b[0;34m\u001b[0m\u001b[0m\n",
            "\u001b[0;32m<ipython-input-70-37adee7acdb5>\u001b[0m in \u001b[0;36mdemand_callback\u001b[0;34m(from_index, cargo_type)\u001b[0m\n\u001b[1;32m     10\u001b[0m   \u001b[0;32mdef\u001b[0m \u001b[0mdemand_callback\u001b[0m\u001b[0;34m(\u001b[0m\u001b[0mfrom_index\u001b[0m\u001b[0;34m,\u001b[0m \u001b[0mcargo_type\u001b[0m\u001b[0;34m)\u001b[0m\u001b[0;34m:\u001b[0m\u001b[0;34m\u001b[0m\u001b[0;34m\u001b[0m\u001b[0m\n\u001b[0;32m---> 11\u001b[0;31m     \u001b[0mfrom_node\u001b[0m \u001b[0;34m=\u001b[0m \u001b[0mmanager\u001b[0m\u001b[0;34m.\u001b[0m\u001b[0mIndexToNode\u001b[0m\u001b[0;34m(\u001b[0m\u001b[0mfrom_index\u001b[0m\u001b[0;34m)\u001b[0m\u001b[0;34m\u001b[0m\u001b[0;34m\u001b[0m\u001b[0m\n\u001b[0m\u001b[1;32m     12\u001b[0m     \u001b[0;32mreturn\u001b[0m \u001b[0mdemands\u001b[0m\u001b[0;34m[\u001b[0m\u001b[0mcargo_type\u001b[0m\u001b[0;34m]\u001b[0m\u001b[0;34m[\u001b[0m\u001b[0mfrom_node\u001b[0m\u001b[0;34m]\u001b[0m\u001b[0;34m\u001b[0m\u001b[0;34m\u001b[0m\u001b[0m\n",
            "\u001b[0;32m<ipython-input-70-37adee7acdb5>\u001b[0m in \u001b[0;36m<lambda>\u001b[0;34m(x)\u001b[0m\n\u001b[1;32m     15\u001b[0m     \u001b[0;32mfor\u001b[0m \u001b[0mi\u001b[0m \u001b[0;32min\u001b[0m \u001b[0mrange\u001b[0m\u001b[0;34m(\u001b[0m\u001b[0mlen\u001b[0m\u001b[0;34m(\u001b[0m\u001b[0mdemands\u001b[0m\u001b[0;34m[\u001b[0m\u001b[0;36m0\u001b[0m\u001b[0;34m]\u001b[0m\u001b[0;34m)\u001b[0m\u001b[0;34m)\u001b[0m\u001b[0;34m:\u001b[0m\u001b[0;34m\u001b[0m\u001b[0;34m\u001b[0m\u001b[0m\n\u001b[0;32m---> 16\u001b[0;31m       \u001b[0mcallback\u001b[0m \u001b[0;34m=\u001b[0m \u001b[0;32mlambda\u001b[0m \u001b[0mx\u001b[0m \u001b[0;34m:\u001b[0m \u001b[0mdemand_callback\u001b[0m\u001b[0;34m(\u001b[0m\u001b[0mx\u001b[0m\u001b[0;34m,\u001b[0m \u001b[0mi\u001b[0m\u001b[0;34m)\u001b[0m\u001b[0;34m\u001b[0m\u001b[0;34m\u001b[0m\u001b[0m\n\u001b[0m\u001b[1;32m     17\u001b[0m       \u001b[0mdemand_callback_index\u001b[0m \u001b[0;34m=\u001b[0m \u001b[0mrouting\u001b[0m\u001b[0;34m.\u001b[0m\u001b[0mRegisterUnaryTransitCallback\u001b[0m\u001b[0;34m(\u001b[0m\u001b[0mcallback\u001b[0m\u001b[0;34m)\u001b[0m\u001b[0;34m\u001b[0m\u001b[0;34m\u001b[0m\u001b[0m\n",
            "\u001b[0;32m<ipython-input-70-37adee7acdb5>\u001b[0m in \u001b[0;36mdemand_callback\u001b[0;34m(from_index, cargo_type)\u001b[0m\n\u001b[1;32m     10\u001b[0m   \u001b[0;32mdef\u001b[0m \u001b[0mdemand_callback\u001b[0m\u001b[0;34m(\u001b[0m\u001b[0mfrom_index\u001b[0m\u001b[0;34m,\u001b[0m \u001b[0mcargo_type\u001b[0m\u001b[0;34m)\u001b[0m\u001b[0;34m:\u001b[0m\u001b[0;34m\u001b[0m\u001b[0;34m\u001b[0m\u001b[0m\n\u001b[0;32m---> 11\u001b[0;31m     \u001b[0mfrom_node\u001b[0m \u001b[0;34m=\u001b[0m \u001b[0mmanager\u001b[0m\u001b[0;34m.\u001b[0m\u001b[0mIndexToNode\u001b[0m\u001b[0;34m(\u001b[0m\u001b[0mfrom_index\u001b[0m\u001b[0;34m)\u001b[0m\u001b[0;34m\u001b[0m\u001b[0;34m\u001b[0m\u001b[0m\n\u001b[0m\u001b[1;32m     12\u001b[0m     \u001b[0;32mreturn\u001b[0m \u001b[0mdemands\u001b[0m\u001b[0;34m[\u001b[0m\u001b[0mcargo_type\u001b[0m\u001b[0;34m]\u001b[0m\u001b[0;34m[\u001b[0m\u001b[0mfrom_node\u001b[0m\u001b[0;34m]\u001b[0m\u001b[0;34m\u001b[0m\u001b[0;34m\u001b[0m\u001b[0m\n",
            "\u001b[0;32m<ipython-input-70-37adee7acdb5>\u001b[0m in \u001b[0;36m<lambda>\u001b[0;34m(x)\u001b[0m\n\u001b[1;32m     15\u001b[0m     \u001b[0;32mfor\u001b[0m \u001b[0mi\u001b[0m \u001b[0;32min\u001b[0m \u001b[0mrange\u001b[0m\u001b[0;34m(\u001b[0m\u001b[0mlen\u001b[0m\u001b[0;34m(\u001b[0m\u001b[0mdemands\u001b[0m\u001b[0;34m[\u001b[0m\u001b[0;36m0\u001b[0m\u001b[0;34m]\u001b[0m\u001b[0;34m)\u001b[0m\u001b[0;34m)\u001b[0m\u001b[0;34m:\u001b[0m\u001b[0;34m\u001b[0m\u001b[0;34m\u001b[0m\u001b[0m\n\u001b[0;32m---> 16\u001b[0;31m       \u001b[0mcallback\u001b[0m \u001b[0;34m=\u001b[0m \u001b[0;32mlambda\u001b[0m \u001b[0mx\u001b[0m \u001b[0;34m:\u001b[0m \u001b[0mdemand_callback\u001b[0m\u001b[0;34m(\u001b[0m\u001b[0mx\u001b[0m\u001b[0;34m,\u001b[0m \u001b[0mi\u001b[0m\u001b[0;34m)\u001b[0m\u001b[0;34m\u001b[0m\u001b[0;34m\u001b[0m\u001b[0m\n\u001b[0m\u001b[1;32m     17\u001b[0m       \u001b[0mdemand_callback_index\u001b[0m \u001b[0;34m=\u001b[0m \u001b[0mrouting\u001b[0m\u001b[0;34m.\u001b[0m\u001b[0mRegisterUnaryTransitCallback\u001b[0m\u001b[0;34m(\u001b[0m\u001b[0mcallback\u001b[0m\u001b[0;34m)\u001b[0m\u001b[0;34m\u001b[0m\u001b[0;34m\u001b[0m\u001b[0m\n",
            "\u001b[0;32m<ipython-input-70-37adee7acdb5>\u001b[0m in \u001b[0;36mdemand_callback\u001b[0;34m(from_index, cargo_type)\u001b[0m\n\u001b[1;32m     10\u001b[0m   \u001b[0;32mdef\u001b[0m \u001b[0mdemand_callback\u001b[0m\u001b[0;34m(\u001b[0m\u001b[0mfrom_index\u001b[0m\u001b[0;34m,\u001b[0m \u001b[0mcargo_type\u001b[0m\u001b[0;34m)\u001b[0m\u001b[0;34m:\u001b[0m\u001b[0;34m\u001b[0m\u001b[0;34m\u001b[0m\u001b[0m\n\u001b[0;32m---> 11\u001b[0;31m     \u001b[0mfrom_node\u001b[0m \u001b[0;34m=\u001b[0m \u001b[0mmanager\u001b[0m\u001b[0;34m.\u001b[0m\u001b[0mIndexToNode\u001b[0m\u001b[0;34m(\u001b[0m\u001b[0mfrom_index\u001b[0m\u001b[0;34m)\u001b[0m\u001b[0;34m\u001b[0m\u001b[0;34m\u001b[0m\u001b[0m\n\u001b[0m\u001b[1;32m     12\u001b[0m     \u001b[0;32mreturn\u001b[0m \u001b[0mdemands\u001b[0m\u001b[0;34m[\u001b[0m\u001b[0mcargo_type\u001b[0m\u001b[0;34m]\u001b[0m\u001b[0;34m[\u001b[0m\u001b[0mfrom_node\u001b[0m\u001b[0;34m]\u001b[0m\u001b[0;34m\u001b[0m\u001b[0;34m\u001b[0m\u001b[0m\n",
            "\u001b[0;32m<ipython-input-70-37adee7acdb5>\u001b[0m in \u001b[0;36m<lambda>\u001b[0;34m(x)\u001b[0m\n\u001b[1;32m     15\u001b[0m     \u001b[0;32mfor\u001b[0m \u001b[0mi\u001b[0m \u001b[0;32min\u001b[0m \u001b[0mrange\u001b[0m\u001b[0;34m(\u001b[0m\u001b[0mlen\u001b[0m\u001b[0;34m(\u001b[0m\u001b[0mdemands\u001b[0m\u001b[0;34m[\u001b[0m\u001b[0;36m0\u001b[0m\u001b[0;34m]\u001b[0m\u001b[0;34m)\u001b[0m\u001b[0;34m)\u001b[0m\u001b[0;34m:\u001b[0m\u001b[0;34m\u001b[0m\u001b[0;34m\u001b[0m\u001b[0m\n\u001b[0;32m---> 16\u001b[0;31m       \u001b[0mcallback\u001b[0m \u001b[0;34m=\u001b[0m \u001b[0;32mlambda\u001b[0m \u001b[0mx\u001b[0m \u001b[0;34m:\u001b[0m \u001b[0mdemand_callback\u001b[0m\u001b[0;34m(\u001b[0m\u001b[0mx\u001b[0m\u001b[0;34m,\u001b[0m \u001b[0mi\u001b[0m\u001b[0;34m)\u001b[0m\u001b[0;34m\u001b[0m\u001b[0;34m\u001b[0m\u001b[0m\n\u001b[0m\u001b[1;32m     17\u001b[0m       \u001b[0mdemand_callback_index\u001b[0m \u001b[0;34m=\u001b[0m \u001b[0mrouting\u001b[0m\u001b[0;34m.\u001b[0m\u001b[0mRegisterUnaryTransitCallback\u001b[0m\u001b[0;34m(\u001b[0m\u001b[0mcallback\u001b[0m\u001b[0;34m)\u001b[0m\u001b[0;34m\u001b[0m\u001b[0;34m\u001b[0m\u001b[0m\n",
            "\u001b[0;32m<ipython-input-70-37adee7acdb5>\u001b[0m in \u001b[0;36mdemand_callback\u001b[0;34m(from_index, cargo_type)\u001b[0m\n\u001b[1;32m     10\u001b[0m   \u001b[0;32mdef\u001b[0m \u001b[0mdemand_callback\u001b[0m\u001b[0;34m(\u001b[0m\u001b[0mfrom_index\u001b[0m\u001b[0;34m,\u001b[0m \u001b[0mcargo_type\u001b[0m\u001b[0;34m)\u001b[0m\u001b[0;34m:\u001b[0m\u001b[0;34m\u001b[0m\u001b[0;34m\u001b[0m\u001b[0m\n\u001b[0;32m---> 11\u001b[0;31m     \u001b[0mfrom_node\u001b[0m \u001b[0;34m=\u001b[0m \u001b[0mmanager\u001b[0m\u001b[0;34m.\u001b[0m\u001b[0mIndexToNode\u001b[0m\u001b[0;34m(\u001b[0m\u001b[0mfrom_index\u001b[0m\u001b[0;34m)\u001b[0m\u001b[0;34m\u001b[0m\u001b[0;34m\u001b[0m\u001b[0m\n\u001b[0m\u001b[1;32m     12\u001b[0m     \u001b[0;32mreturn\u001b[0m \u001b[0mdemands\u001b[0m\u001b[0;34m[\u001b[0m\u001b[0mcargo_type\u001b[0m\u001b[0;34m]\u001b[0m\u001b[0;34m[\u001b[0m\u001b[0mfrom_node\u001b[0m\u001b[0;34m]\u001b[0m\u001b[0;34m\u001b[0m\u001b[0;34m\u001b[0m\u001b[0m\n",
            "\u001b[0;32m<ipython-input-70-37adee7acdb5>\u001b[0m in \u001b[0;36m<lambda>\u001b[0;34m(x)\u001b[0m\n\u001b[1;32m     15\u001b[0m     \u001b[0;32mfor\u001b[0m \u001b[0mi\u001b[0m \u001b[0;32min\u001b[0m \u001b[0mrange\u001b[0m\u001b[0;34m(\u001b[0m\u001b[0mlen\u001b[0m\u001b[0;34m(\u001b[0m\u001b[0mdemands\u001b[0m\u001b[0;34m[\u001b[0m\u001b[0;36m0\u001b[0m\u001b[0;34m]\u001b[0m\u001b[0;34m)\u001b[0m\u001b[0;34m)\u001b[0m\u001b[0;34m:\u001b[0m\u001b[0;34m\u001b[0m\u001b[0;34m\u001b[0m\u001b[0m\n\u001b[0;32m---> 16\u001b[0;31m       \u001b[0mcallback\u001b[0m \u001b[0;34m=\u001b[0m \u001b[0;32mlambda\u001b[0m \u001b[0mx\u001b[0m \u001b[0;34m:\u001b[0m \u001b[0mdemand_callback\u001b[0m\u001b[0;34m(\u001b[0m\u001b[0mx\u001b[0m\u001b[0;34m,\u001b[0m \u001b[0mi\u001b[0m\u001b[0;34m)\u001b[0m\u001b[0;34m\u001b[0m\u001b[0;34m\u001b[0m\u001b[0m\n\u001b[0m\u001b[1;32m     17\u001b[0m       \u001b[0mdemand_callback_index\u001b[0m \u001b[0;34m=\u001b[0m \u001b[0mrouting\u001b[0m\u001b[0;34m.\u001b[0m\u001b[0mRegisterUnaryTransitCallback\u001b[0m\u001b[0;34m(\u001b[0m\u001b[0mcallback\u001b[0m\u001b[0;34m)\u001b[0m\u001b[0;34m\u001b[0m\u001b[0;34m\u001b[0m\u001b[0m\n",
            "\u001b[0;32m<ipython-input-70-37adee7acdb5>\u001b[0m in \u001b[0;36mdemand_callback\u001b[0;34m(from_index, cargo_type)\u001b[0m\n\u001b[1;32m     10\u001b[0m   \u001b[0;32mdef\u001b[0m \u001b[0mdemand_callback\u001b[0m\u001b[0;34m(\u001b[0m\u001b[0mfrom_index\u001b[0m\u001b[0;34m,\u001b[0m \u001b[0mcargo_type\u001b[0m\u001b[0;34m)\u001b[0m\u001b[0;34m:\u001b[0m\u001b[0;34m\u001b[0m\u001b[0;34m\u001b[0m\u001b[0m\n\u001b[0;32m---> 11\u001b[0;31m     \u001b[0mfrom_node\u001b[0m \u001b[0;34m=\u001b[0m \u001b[0mmanager\u001b[0m\u001b[0;34m.\u001b[0m\u001b[0mIndexToNode\u001b[0m\u001b[0;34m(\u001b[0m\u001b[0mfrom_index\u001b[0m\u001b[0;34m)\u001b[0m\u001b[0;34m\u001b[0m\u001b[0;34m\u001b[0m\u001b[0m\n\u001b[0m\u001b[1;32m     12\u001b[0m     \u001b[0;32mreturn\u001b[0m \u001b[0mdemands\u001b[0m\u001b[0;34m[\u001b[0m\u001b[0mcargo_type\u001b[0m\u001b[0;34m]\u001b[0m\u001b[0;34m[\u001b[0m\u001b[0mfrom_node\u001b[0m\u001b[0;34m]\u001b[0m\u001b[0;34m\u001b[0m\u001b[0;34m\u001b[0m\u001b[0m\n",
            "\u001b[0;32m<ipython-input-70-37adee7acdb5>\u001b[0m in \u001b[0;36m<lambda>\u001b[0;34m(x)\u001b[0m\n\u001b[1;32m     15\u001b[0m     \u001b[0;32mfor\u001b[0m \u001b[0mi\u001b[0m \u001b[0;32min\u001b[0m \u001b[0mrange\u001b[0m\u001b[0;34m(\u001b[0m\u001b[0mlen\u001b[0m\u001b[0;34m(\u001b[0m\u001b[0mdemands\u001b[0m\u001b[0;34m[\u001b[0m\u001b[0;36m0\u001b[0m\u001b[0;34m]\u001b[0m\u001b[0;34m)\u001b[0m\u001b[0;34m)\u001b[0m\u001b[0;34m:\u001b[0m\u001b[0;34m\u001b[0m\u001b[0;34m\u001b[0m\u001b[0m\n\u001b[0;32m---> 16\u001b[0;31m       \u001b[0mcallback\u001b[0m \u001b[0;34m=\u001b[0m \u001b[0;32mlambda\u001b[0m \u001b[0mx\u001b[0m \u001b[0;34m:\u001b[0m \u001b[0mdemand_callback\u001b[0m\u001b[0;34m(\u001b[0m\u001b[0mx\u001b[0m\u001b[0;34m,\u001b[0m \u001b[0mi\u001b[0m\u001b[0;34m)\u001b[0m\u001b[0;34m\u001b[0m\u001b[0;34m\u001b[0m\u001b[0m\n\u001b[0m\u001b[1;32m     17\u001b[0m       \u001b[0mdemand_callback_index\u001b[0m \u001b[0;34m=\u001b[0m \u001b[0mrouting\u001b[0m\u001b[0;34m.\u001b[0m\u001b[0mRegisterUnaryTransitCallback\u001b[0m\u001b[0;34m(\u001b[0m\u001b[0mcallback\u001b[0m\u001b[0;34m)\u001b[0m\u001b[0;34m\u001b[0m\u001b[0;34m\u001b[0m\u001b[0m\n",
            "\u001b[0;32m<ipython-input-70-37adee7acdb5>\u001b[0m in \u001b[0;36mdemand_callback\u001b[0;34m(from_index, cargo_type)\u001b[0m\n\u001b[1;32m     10\u001b[0m   \u001b[0;32mdef\u001b[0m \u001b[0mdemand_callback\u001b[0m\u001b[0;34m(\u001b[0m\u001b[0mfrom_index\u001b[0m\u001b[0;34m,\u001b[0m \u001b[0mcargo_type\u001b[0m\u001b[0;34m)\u001b[0m\u001b[0;34m:\u001b[0m\u001b[0;34m\u001b[0m\u001b[0;34m\u001b[0m\u001b[0m\n\u001b[0;32m---> 11\u001b[0;31m     \u001b[0mfrom_node\u001b[0m \u001b[0;34m=\u001b[0m \u001b[0mmanager\u001b[0m\u001b[0;34m.\u001b[0m\u001b[0mIndexToNode\u001b[0m\u001b[0;34m(\u001b[0m\u001b[0mfrom_index\u001b[0m\u001b[0;34m)\u001b[0m\u001b[0;34m\u001b[0m\u001b[0;34m\u001b[0m\u001b[0m\n\u001b[0m\u001b[1;32m     12\u001b[0m     \u001b[0;32mreturn\u001b[0m \u001b[0mdemands\u001b[0m\u001b[0;34m[\u001b[0m\u001b[0mcargo_type\u001b[0m\u001b[0;34m]\u001b[0m\u001b[0;34m[\u001b[0m\u001b[0mfrom_node\u001b[0m\u001b[0;34m]\u001b[0m\u001b[0;34m\u001b[0m\u001b[0;34m\u001b[0m\u001b[0m\n",
            "\u001b[0;32m<ipython-input-70-37adee7acdb5>\u001b[0m in \u001b[0;36m<lambda>\u001b[0;34m(x)\u001b[0m\n\u001b[1;32m     15\u001b[0m     \u001b[0;32mfor\u001b[0m \u001b[0mi\u001b[0m \u001b[0;32min\u001b[0m \u001b[0mrange\u001b[0m\u001b[0;34m(\u001b[0m\u001b[0mlen\u001b[0m\u001b[0;34m(\u001b[0m\u001b[0mdemands\u001b[0m\u001b[0;34m[\u001b[0m\u001b[0;36m0\u001b[0m\u001b[0;34m]\u001b[0m\u001b[0;34m)\u001b[0m\u001b[0;34m)\u001b[0m\u001b[0;34m:\u001b[0m\u001b[0;34m\u001b[0m\u001b[0;34m\u001b[0m\u001b[0m\n\u001b[0;32m---> 16\u001b[0;31m       \u001b[0mcallback\u001b[0m \u001b[0;34m=\u001b[0m \u001b[0;32mlambda\u001b[0m \u001b[0mx\u001b[0m \u001b[0;34m:\u001b[0m \u001b[0mdemand_callback\u001b[0m\u001b[0;34m(\u001b[0m\u001b[0mx\u001b[0m\u001b[0;34m,\u001b[0m \u001b[0mi\u001b[0m\u001b[0;34m)\u001b[0m\u001b[0;34m\u001b[0m\u001b[0;34m\u001b[0m\u001b[0m\n\u001b[0m\u001b[1;32m     17\u001b[0m       \u001b[0mdemand_callback_index\u001b[0m \u001b[0;34m=\u001b[0m \u001b[0mrouting\u001b[0m\u001b[0;34m.\u001b[0m\u001b[0mRegisterUnaryTransitCallback\u001b[0m\u001b[0;34m(\u001b[0m\u001b[0mcallback\u001b[0m\u001b[0;34m)\u001b[0m\u001b[0;34m\u001b[0m\u001b[0;34m\u001b[0m\u001b[0m\n",
            "\u001b[0;32m<ipython-input-70-37adee7acdb5>\u001b[0m in \u001b[0;36mdemand_callback\u001b[0;34m(from_index, cargo_type)\u001b[0m\n\u001b[1;32m     10\u001b[0m   \u001b[0;32mdef\u001b[0m \u001b[0mdemand_callback\u001b[0m\u001b[0;34m(\u001b[0m\u001b[0mfrom_index\u001b[0m\u001b[0;34m,\u001b[0m \u001b[0mcargo_type\u001b[0m\u001b[0;34m)\u001b[0m\u001b[0;34m:\u001b[0m\u001b[0;34m\u001b[0m\u001b[0;34m\u001b[0m\u001b[0m\n\u001b[0;32m---> 11\u001b[0;31m     \u001b[0mfrom_node\u001b[0m \u001b[0;34m=\u001b[0m \u001b[0mmanager\u001b[0m\u001b[0;34m.\u001b[0m\u001b[0mIndexToNode\u001b[0m\u001b[0;34m(\u001b[0m\u001b[0mfrom_index\u001b[0m\u001b[0;34m)\u001b[0m\u001b[0;34m\u001b[0m\u001b[0;34m\u001b[0m\u001b[0m\n\u001b[0m\u001b[1;32m     12\u001b[0m     \u001b[0;32mreturn\u001b[0m \u001b[0mdemands\u001b[0m\u001b[0;34m[\u001b[0m\u001b[0mcargo_type\u001b[0m\u001b[0;34m]\u001b[0m\u001b[0;34m[\u001b[0m\u001b[0mfrom_node\u001b[0m\u001b[0;34m]\u001b[0m\u001b[0;34m\u001b[0m\u001b[0;34m\u001b[0m\u001b[0m\n",
            "\u001b[0;32m<ipython-input-70-37adee7acdb5>\u001b[0m in \u001b[0;36m<lambda>\u001b[0;34m(x)\u001b[0m\n\u001b[1;32m     15\u001b[0m     \u001b[0;32mfor\u001b[0m \u001b[0mi\u001b[0m \u001b[0;32min\u001b[0m \u001b[0mrange\u001b[0m\u001b[0;34m(\u001b[0m\u001b[0mlen\u001b[0m\u001b[0;34m(\u001b[0m\u001b[0mdemands\u001b[0m\u001b[0;34m[\u001b[0m\u001b[0;36m0\u001b[0m\u001b[0;34m]\u001b[0m\u001b[0;34m)\u001b[0m\u001b[0;34m)\u001b[0m\u001b[0;34m:\u001b[0m\u001b[0;34m\u001b[0m\u001b[0;34m\u001b[0m\u001b[0m\n\u001b[0;32m---> 16\u001b[0;31m       \u001b[0mcallback\u001b[0m \u001b[0;34m=\u001b[0m \u001b[0;32mlambda\u001b[0m \u001b[0mx\u001b[0m \u001b[0;34m:\u001b[0m \u001b[0mdemand_callback\u001b[0m\u001b[0;34m(\u001b[0m\u001b[0mx\u001b[0m\u001b[0;34m,\u001b[0m \u001b[0mi\u001b[0m\u001b[0;34m)\u001b[0m\u001b[0;34m\u001b[0m\u001b[0;34m\u001b[0m\u001b[0m\n\u001b[0m\u001b[1;32m     17\u001b[0m       \u001b[0mdemand_callback_index\u001b[0m \u001b[0;34m=\u001b[0m \u001b[0mrouting\u001b[0m\u001b[0;34m.\u001b[0m\u001b[0mRegisterUnaryTransitCallback\u001b[0m\u001b[0;34m(\u001b[0m\u001b[0mcallback\u001b[0m\u001b[0;34m)\u001b[0m\u001b[0;34m\u001b[0m\u001b[0;34m\u001b[0m\u001b[0m\n",
            "\u001b[0;32m<ipython-input-70-37adee7acdb5>\u001b[0m in \u001b[0;36mdemand_callback\u001b[0;34m(from_index, cargo_type)\u001b[0m\n\u001b[1;32m     10\u001b[0m   \u001b[0;32mdef\u001b[0m \u001b[0mdemand_callback\u001b[0m\u001b[0;34m(\u001b[0m\u001b[0mfrom_index\u001b[0m\u001b[0;34m,\u001b[0m \u001b[0mcargo_type\u001b[0m\u001b[0;34m)\u001b[0m\u001b[0;34m:\u001b[0m\u001b[0;34m\u001b[0m\u001b[0;34m\u001b[0m\u001b[0m\n\u001b[0;32m---> 11\u001b[0;31m     \u001b[0mfrom_node\u001b[0m \u001b[0;34m=\u001b[0m \u001b[0mmanager\u001b[0m\u001b[0;34m.\u001b[0m\u001b[0mIndexToNode\u001b[0m\u001b[0;34m(\u001b[0m\u001b[0mfrom_index\u001b[0m\u001b[0;34m)\u001b[0m\u001b[0;34m\u001b[0m\u001b[0;34m\u001b[0m\u001b[0m\n\u001b[0m\u001b[1;32m     12\u001b[0m     \u001b[0;32mreturn\u001b[0m \u001b[0mdemands\u001b[0m\u001b[0;34m[\u001b[0m\u001b[0mcargo_type\u001b[0m\u001b[0;34m]\u001b[0m\u001b[0;34m[\u001b[0m\u001b[0mfrom_node\u001b[0m\u001b[0;34m]\u001b[0m\u001b[0;34m\u001b[0m\u001b[0;34m\u001b[0m\u001b[0m\n",
            "\u001b[0;32m<ipython-input-70-37adee7acdb5>\u001b[0m in \u001b[0;36m<lambda>\u001b[0;34m(x)\u001b[0m\n\u001b[1;32m     15\u001b[0m     \u001b[0;32mfor\u001b[0m \u001b[0mi\u001b[0m \u001b[0;32min\u001b[0m \u001b[0mrange\u001b[0m\u001b[0;34m(\u001b[0m\u001b[0mlen\u001b[0m\u001b[0;34m(\u001b[0m\u001b[0mdemands\u001b[0m\u001b[0;34m[\u001b[0m\u001b[0;36m0\u001b[0m\u001b[0;34m]\u001b[0m\u001b[0;34m)\u001b[0m\u001b[0;34m)\u001b[0m\u001b[0;34m:\u001b[0m\u001b[0;34m\u001b[0m\u001b[0;34m\u001b[0m\u001b[0m\n\u001b[0;32m---> 16\u001b[0;31m       \u001b[0mcallback\u001b[0m \u001b[0;34m=\u001b[0m \u001b[0;32mlambda\u001b[0m \u001b[0mx\u001b[0m \u001b[0;34m:\u001b[0m \u001b[0mdemand_callback\u001b[0m\u001b[0;34m(\u001b[0m\u001b[0mx\u001b[0m\u001b[0;34m,\u001b[0m \u001b[0mi\u001b[0m\u001b[0;34m)\u001b[0m\u001b[0;34m\u001b[0m\u001b[0;34m\u001b[0m\u001b[0m\n\u001b[0m\u001b[1;32m     17\u001b[0m       \u001b[0mdemand_callback_index\u001b[0m \u001b[0;34m=\u001b[0m \u001b[0mrouting\u001b[0m\u001b[0;34m.\u001b[0m\u001b[0mRegisterUnaryTransitCallback\u001b[0m\u001b[0;34m(\u001b[0m\u001b[0mcallback\u001b[0m\u001b[0;34m)\u001b[0m\u001b[0;34m\u001b[0m\u001b[0;34m\u001b[0m\u001b[0m\n",
            "\u001b[0;32m<ipython-input-70-37adee7acdb5>\u001b[0m in \u001b[0;36mdemand_callback\u001b[0;34m(from_index, cargo_type)\u001b[0m\n\u001b[1;32m     10\u001b[0m   \u001b[0;32mdef\u001b[0m \u001b[0mdemand_callback\u001b[0m\u001b[0;34m(\u001b[0m\u001b[0mfrom_index\u001b[0m\u001b[0;34m,\u001b[0m \u001b[0mcargo_type\u001b[0m\u001b[0;34m)\u001b[0m\u001b[0;34m:\u001b[0m\u001b[0;34m\u001b[0m\u001b[0;34m\u001b[0m\u001b[0m\n\u001b[0;32m---> 11\u001b[0;31m     \u001b[0mfrom_node\u001b[0m \u001b[0;34m=\u001b[0m \u001b[0mmanager\u001b[0m\u001b[0;34m.\u001b[0m\u001b[0mIndexToNode\u001b[0m\u001b[0;34m(\u001b[0m\u001b[0mfrom_index\u001b[0m\u001b[0;34m)\u001b[0m\u001b[0;34m\u001b[0m\u001b[0;34m\u001b[0m\u001b[0m\n\u001b[0m\u001b[1;32m     12\u001b[0m     \u001b[0;32mreturn\u001b[0m \u001b[0mdemands\u001b[0m\u001b[0;34m[\u001b[0m\u001b[0mcargo_type\u001b[0m\u001b[0;34m]\u001b[0m\u001b[0;34m[\u001b[0m\u001b[0mfrom_node\u001b[0m\u001b[0;34m]\u001b[0m\u001b[0;34m\u001b[0m\u001b[0;34m\u001b[0m\u001b[0m\n",
            "\u001b[0;32m<ipython-input-70-37adee7acdb5>\u001b[0m in \u001b[0;36m<lambda>\u001b[0;34m(x)\u001b[0m\n\u001b[1;32m     15\u001b[0m     \u001b[0;32mfor\u001b[0m \u001b[0mi\u001b[0m \u001b[0;32min\u001b[0m \u001b[0mrange\u001b[0m\u001b[0;34m(\u001b[0m\u001b[0mlen\u001b[0m\u001b[0;34m(\u001b[0m\u001b[0mdemands\u001b[0m\u001b[0;34m[\u001b[0m\u001b[0;36m0\u001b[0m\u001b[0;34m]\u001b[0m\u001b[0;34m)\u001b[0m\u001b[0;34m)\u001b[0m\u001b[0;34m:\u001b[0m\u001b[0;34m\u001b[0m\u001b[0;34m\u001b[0m\u001b[0m\n\u001b[0;32m---> 16\u001b[0;31m       \u001b[0mcallback\u001b[0m \u001b[0;34m=\u001b[0m \u001b[0;32mlambda\u001b[0m \u001b[0mx\u001b[0m \u001b[0;34m:\u001b[0m \u001b[0mdemand_callback\u001b[0m\u001b[0;34m(\u001b[0m\u001b[0mx\u001b[0m\u001b[0;34m,\u001b[0m \u001b[0mi\u001b[0m\u001b[0;34m)\u001b[0m\u001b[0;34m\u001b[0m\u001b[0;34m\u001b[0m\u001b[0m\n\u001b[0m\u001b[1;32m     17\u001b[0m       \u001b[0mdemand_callback_index\u001b[0m \u001b[0;34m=\u001b[0m \u001b[0mrouting\u001b[0m\u001b[0;34m.\u001b[0m\u001b[0mRegisterUnaryTransitCallback\u001b[0m\u001b[0;34m(\u001b[0m\u001b[0mcallback\u001b[0m\u001b[0;34m)\u001b[0m\u001b[0;34m\u001b[0m\u001b[0;34m\u001b[0m\u001b[0m\n",
            "\u001b[0;32m<ipython-input-70-37adee7acdb5>\u001b[0m in \u001b[0;36mdemand_callback\u001b[0;34m(from_index, cargo_type)\u001b[0m\n\u001b[1;32m     10\u001b[0m   \u001b[0;32mdef\u001b[0m \u001b[0mdemand_callback\u001b[0m\u001b[0;34m(\u001b[0m\u001b[0mfrom_index\u001b[0m\u001b[0;34m,\u001b[0m \u001b[0mcargo_type\u001b[0m\u001b[0;34m)\u001b[0m\u001b[0;34m:\u001b[0m\u001b[0;34m\u001b[0m\u001b[0;34m\u001b[0m\u001b[0m\n\u001b[0;32m---> 11\u001b[0;31m     \u001b[0mfrom_node\u001b[0m \u001b[0;34m=\u001b[0m \u001b[0mmanager\u001b[0m\u001b[0;34m.\u001b[0m\u001b[0mIndexToNode\u001b[0m\u001b[0;34m(\u001b[0m\u001b[0mfrom_index\u001b[0m\u001b[0;34m)\u001b[0m\u001b[0;34m\u001b[0m\u001b[0;34m\u001b[0m\u001b[0m\n\u001b[0m\u001b[1;32m     12\u001b[0m     \u001b[0;32mreturn\u001b[0m \u001b[0mdemands\u001b[0m\u001b[0;34m[\u001b[0m\u001b[0mcargo_type\u001b[0m\u001b[0;34m]\u001b[0m\u001b[0;34m[\u001b[0m\u001b[0mfrom_node\u001b[0m\u001b[0;34m]\u001b[0m\u001b[0;34m\u001b[0m\u001b[0;34m\u001b[0m\u001b[0m\n",
            "\u001b[0;32m<ipython-input-70-37adee7acdb5>\u001b[0m in \u001b[0;36m<lambda>\u001b[0;34m(x)\u001b[0m\n\u001b[1;32m     15\u001b[0m     \u001b[0;32mfor\u001b[0m \u001b[0mi\u001b[0m \u001b[0;32min\u001b[0m \u001b[0mrange\u001b[0m\u001b[0;34m(\u001b[0m\u001b[0mlen\u001b[0m\u001b[0;34m(\u001b[0m\u001b[0mdemands\u001b[0m\u001b[0;34m[\u001b[0m\u001b[0;36m0\u001b[0m\u001b[0;34m]\u001b[0m\u001b[0;34m)\u001b[0m\u001b[0;34m)\u001b[0m\u001b[0;34m:\u001b[0m\u001b[0;34m\u001b[0m\u001b[0;34m\u001b[0m\u001b[0m\n\u001b[0;32m---> 16\u001b[0;31m       \u001b[0mcallback\u001b[0m \u001b[0;34m=\u001b[0m \u001b[0;32mlambda\u001b[0m \u001b[0mx\u001b[0m \u001b[0;34m:\u001b[0m \u001b[0mdemand_callback\u001b[0m\u001b[0;34m(\u001b[0m\u001b[0mx\u001b[0m\u001b[0;34m,\u001b[0m \u001b[0mi\u001b[0m\u001b[0;34m)\u001b[0m\u001b[0;34m\u001b[0m\u001b[0;34m\u001b[0m\u001b[0m\n\u001b[0m\u001b[1;32m     17\u001b[0m       \u001b[0mdemand_callback_index\u001b[0m \u001b[0;34m=\u001b[0m \u001b[0mrouting\u001b[0m\u001b[0;34m.\u001b[0m\u001b[0mRegisterUnaryTransitCallback\u001b[0m\u001b[0;34m(\u001b[0m\u001b[0mcallback\u001b[0m\u001b[0;34m)\u001b[0m\u001b[0;34m\u001b[0m\u001b[0;34m\u001b[0m\u001b[0m\n",
            "\u001b[0;32m<ipython-input-70-37adee7acdb5>\u001b[0m in \u001b[0;36mdemand_callback\u001b[0;34m(from_index, cargo_type)\u001b[0m\n\u001b[1;32m     10\u001b[0m   \u001b[0;32mdef\u001b[0m \u001b[0mdemand_callback\u001b[0m\u001b[0;34m(\u001b[0m\u001b[0mfrom_index\u001b[0m\u001b[0;34m,\u001b[0m \u001b[0mcargo_type\u001b[0m\u001b[0;34m)\u001b[0m\u001b[0;34m:\u001b[0m\u001b[0;34m\u001b[0m\u001b[0;34m\u001b[0m\u001b[0m\n\u001b[0;32m---> 11\u001b[0;31m     \u001b[0mfrom_node\u001b[0m \u001b[0;34m=\u001b[0m \u001b[0mmanager\u001b[0m\u001b[0;34m.\u001b[0m\u001b[0mIndexToNode\u001b[0m\u001b[0;34m(\u001b[0m\u001b[0mfrom_index\u001b[0m\u001b[0;34m)\u001b[0m\u001b[0;34m\u001b[0m\u001b[0;34m\u001b[0m\u001b[0m\n\u001b[0m\u001b[1;32m     12\u001b[0m     \u001b[0;32mreturn\u001b[0m \u001b[0mdemands\u001b[0m\u001b[0;34m[\u001b[0m\u001b[0mcargo_type\u001b[0m\u001b[0;34m]\u001b[0m\u001b[0;34m[\u001b[0m\u001b[0mfrom_node\u001b[0m\u001b[0;34m]\u001b[0m\u001b[0;34m\u001b[0m\u001b[0;34m\u001b[0m\u001b[0m\n",
            "\u001b[0;32m<ipython-input-70-37adee7acdb5>\u001b[0m in \u001b[0;36m<lambda>\u001b[0;34m(x)\u001b[0m\n\u001b[1;32m     15\u001b[0m     \u001b[0;32mfor\u001b[0m \u001b[0mi\u001b[0m \u001b[0;32min\u001b[0m \u001b[0mrange\u001b[0m\u001b[0;34m(\u001b[0m\u001b[0mlen\u001b[0m\u001b[0;34m(\u001b[0m\u001b[0mdemands\u001b[0m\u001b[0;34m[\u001b[0m\u001b[0;36m0\u001b[0m\u001b[0;34m]\u001b[0m\u001b[0;34m)\u001b[0m\u001b[0;34m)\u001b[0m\u001b[0;34m:\u001b[0m\u001b[0;34m\u001b[0m\u001b[0;34m\u001b[0m\u001b[0m\n\u001b[0;32m---> 16\u001b[0;31m       \u001b[0mcallback\u001b[0m \u001b[0;34m=\u001b[0m \u001b[0;32mlambda\u001b[0m \u001b[0mx\u001b[0m \u001b[0;34m:\u001b[0m \u001b[0mdemand_callback\u001b[0m\u001b[0;34m(\u001b[0m\u001b[0mx\u001b[0m\u001b[0;34m,\u001b[0m \u001b[0mi\u001b[0m\u001b[0;34m)\u001b[0m\u001b[0;34m\u001b[0m\u001b[0;34m\u001b[0m\u001b[0m\n\u001b[0m\u001b[1;32m     17\u001b[0m       \u001b[0mdemand_callback_index\u001b[0m \u001b[0;34m=\u001b[0m \u001b[0mrouting\u001b[0m\u001b[0;34m.\u001b[0m\u001b[0mRegisterUnaryTransitCallback\u001b[0m\u001b[0;34m(\u001b[0m\u001b[0mcallback\u001b[0m\u001b[0;34m)\u001b[0m\u001b[0;34m\u001b[0m\u001b[0;34m\u001b[0m\u001b[0m\n",
            "\u001b[0;32m<ipython-input-70-37adee7acdb5>\u001b[0m in \u001b[0;36mdemand_callback\u001b[0;34m(from_index, cargo_type)\u001b[0m\n\u001b[1;32m     10\u001b[0m   \u001b[0;32mdef\u001b[0m \u001b[0mdemand_callback\u001b[0m\u001b[0;34m(\u001b[0m\u001b[0mfrom_index\u001b[0m\u001b[0;34m,\u001b[0m \u001b[0mcargo_type\u001b[0m\u001b[0;34m)\u001b[0m\u001b[0;34m:\u001b[0m\u001b[0;34m\u001b[0m\u001b[0;34m\u001b[0m\u001b[0m\n\u001b[0;32m---> 11\u001b[0;31m     \u001b[0mfrom_node\u001b[0m \u001b[0;34m=\u001b[0m \u001b[0mmanager\u001b[0m\u001b[0;34m.\u001b[0m\u001b[0mIndexToNode\u001b[0m\u001b[0;34m(\u001b[0m\u001b[0mfrom_index\u001b[0m\u001b[0;34m)\u001b[0m\u001b[0;34m\u001b[0m\u001b[0;34m\u001b[0m\u001b[0m\n\u001b[0m\u001b[1;32m     12\u001b[0m     \u001b[0;32mreturn\u001b[0m \u001b[0mdemands\u001b[0m\u001b[0;34m[\u001b[0m\u001b[0mcargo_type\u001b[0m\u001b[0;34m]\u001b[0m\u001b[0;34m[\u001b[0m\u001b[0mfrom_node\u001b[0m\u001b[0;34m]\u001b[0m\u001b[0;34m\u001b[0m\u001b[0;34m\u001b[0m\u001b[0m\n",
            "\u001b[0;32m<ipython-input-70-37adee7acdb5>\u001b[0m in \u001b[0;36m<lambda>\u001b[0;34m(x)\u001b[0m\n\u001b[1;32m     15\u001b[0m     \u001b[0;32mfor\u001b[0m \u001b[0mi\u001b[0m \u001b[0;32min\u001b[0m \u001b[0mrange\u001b[0m\u001b[0;34m(\u001b[0m\u001b[0mlen\u001b[0m\u001b[0;34m(\u001b[0m\u001b[0mdemands\u001b[0m\u001b[0;34m[\u001b[0m\u001b[0;36m0\u001b[0m\u001b[0;34m]\u001b[0m\u001b[0;34m)\u001b[0m\u001b[0;34m)\u001b[0m\u001b[0;34m:\u001b[0m\u001b[0;34m\u001b[0m\u001b[0;34m\u001b[0m\u001b[0m\n\u001b[0;32m---> 16\u001b[0;31m       \u001b[0mcallback\u001b[0m \u001b[0;34m=\u001b[0m \u001b[0;32mlambda\u001b[0m \u001b[0mx\u001b[0m \u001b[0;34m:\u001b[0m \u001b[0mdemand_callback\u001b[0m\u001b[0;34m(\u001b[0m\u001b[0mx\u001b[0m\u001b[0;34m,\u001b[0m \u001b[0mi\u001b[0m\u001b[0;34m)\u001b[0m\u001b[0;34m\u001b[0m\u001b[0;34m\u001b[0m\u001b[0m\n\u001b[0m\u001b[1;32m     17\u001b[0m       \u001b[0mdemand_callback_index\u001b[0m \u001b[0;34m=\u001b[0m \u001b[0mrouting\u001b[0m\u001b[0;34m.\u001b[0m\u001b[0mRegisterUnaryTransitCallback\u001b[0m\u001b[0;34m(\u001b[0m\u001b[0mcallback\u001b[0m\u001b[0;34m)\u001b[0m\u001b[0;34m\u001b[0m\u001b[0;34m\u001b[0m\u001b[0m\n",
            "\u001b[0;32m<ipython-input-70-37adee7acdb5>\u001b[0m in \u001b[0;36mdemand_callback\u001b[0;34m(from_index, cargo_type)\u001b[0m\n\u001b[1;32m     10\u001b[0m   \u001b[0;32mdef\u001b[0m \u001b[0mdemand_callback\u001b[0m\u001b[0;34m(\u001b[0m\u001b[0mfrom_index\u001b[0m\u001b[0;34m,\u001b[0m \u001b[0mcargo_type\u001b[0m\u001b[0;34m)\u001b[0m\u001b[0;34m:\u001b[0m\u001b[0;34m\u001b[0m\u001b[0;34m\u001b[0m\u001b[0m\n\u001b[0;32m---> 11\u001b[0;31m     \u001b[0mfrom_node\u001b[0m \u001b[0;34m=\u001b[0m \u001b[0mmanager\u001b[0m\u001b[0;34m.\u001b[0m\u001b[0mIndexToNode\u001b[0m\u001b[0;34m(\u001b[0m\u001b[0mfrom_index\u001b[0m\u001b[0;34m)\u001b[0m\u001b[0;34m\u001b[0m\u001b[0;34m\u001b[0m\u001b[0m\n\u001b[0m\u001b[1;32m     12\u001b[0m     \u001b[0;32mreturn\u001b[0m \u001b[0mdemands\u001b[0m\u001b[0;34m[\u001b[0m\u001b[0mcargo_type\u001b[0m\u001b[0;34m]\u001b[0m\u001b[0;34m[\u001b[0m\u001b[0mfrom_node\u001b[0m\u001b[0;34m]\u001b[0m\u001b[0;34m\u001b[0m\u001b[0;34m\u001b[0m\u001b[0m\n",
            "\u001b[0;32m<ipython-input-70-37adee7acdb5>\u001b[0m in \u001b[0;36m<lambda>\u001b[0;34m(x)\u001b[0m\n\u001b[1;32m     15\u001b[0m     \u001b[0;32mfor\u001b[0m \u001b[0mi\u001b[0m \u001b[0;32min\u001b[0m \u001b[0mrange\u001b[0m\u001b[0;34m(\u001b[0m\u001b[0mlen\u001b[0m\u001b[0;34m(\u001b[0m\u001b[0mdemands\u001b[0m\u001b[0;34m[\u001b[0m\u001b[0;36m0\u001b[0m\u001b[0;34m]\u001b[0m\u001b[0;34m)\u001b[0m\u001b[0;34m)\u001b[0m\u001b[0;34m:\u001b[0m\u001b[0;34m\u001b[0m\u001b[0;34m\u001b[0m\u001b[0m\n\u001b[0;32m---> 16\u001b[0;31m       \u001b[0mcallback\u001b[0m \u001b[0;34m=\u001b[0m \u001b[0;32mlambda\u001b[0m \u001b[0mx\u001b[0m \u001b[0;34m:\u001b[0m \u001b[0mdemand_callback\u001b[0m\u001b[0;34m(\u001b[0m\u001b[0mx\u001b[0m\u001b[0;34m,\u001b[0m \u001b[0mi\u001b[0m\u001b[0;34m)\u001b[0m\u001b[0;34m\u001b[0m\u001b[0;34m\u001b[0m\u001b[0m\n\u001b[0m\u001b[1;32m     17\u001b[0m       \u001b[0mdemand_callback_index\u001b[0m \u001b[0;34m=\u001b[0m \u001b[0mrouting\u001b[0m\u001b[0;34m.\u001b[0m\u001b[0mRegisterUnaryTransitCallback\u001b[0m\u001b[0;34m(\u001b[0m\u001b[0mcallback\u001b[0m\u001b[0;34m)\u001b[0m\u001b[0;34m\u001b[0m\u001b[0;34m\u001b[0m\u001b[0m\n",
            "\u001b[0;32m<ipython-input-70-37adee7acdb5>\u001b[0m in \u001b[0;36mdemand_callback\u001b[0;34m(from_index, cargo_type)\u001b[0m\n\u001b[1;32m     10\u001b[0m   \u001b[0;32mdef\u001b[0m \u001b[0mdemand_callback\u001b[0m\u001b[0;34m(\u001b[0m\u001b[0mfrom_index\u001b[0m\u001b[0;34m,\u001b[0m \u001b[0mcargo_type\u001b[0m\u001b[0;34m)\u001b[0m\u001b[0;34m:\u001b[0m\u001b[0;34m\u001b[0m\u001b[0;34m\u001b[0m\u001b[0m\n\u001b[0;32m---> 11\u001b[0;31m     \u001b[0mfrom_node\u001b[0m \u001b[0;34m=\u001b[0m \u001b[0mmanager\u001b[0m\u001b[0;34m.\u001b[0m\u001b[0mIndexToNode\u001b[0m\u001b[0;34m(\u001b[0m\u001b[0mfrom_index\u001b[0m\u001b[0;34m)\u001b[0m\u001b[0;34m\u001b[0m\u001b[0;34m\u001b[0m\u001b[0m\n\u001b[0m\u001b[1;32m     12\u001b[0m     \u001b[0;32mreturn\u001b[0m \u001b[0mdemands\u001b[0m\u001b[0;34m[\u001b[0m\u001b[0mcargo_type\u001b[0m\u001b[0;34m]\u001b[0m\u001b[0;34m[\u001b[0m\u001b[0mfrom_node\u001b[0m\u001b[0;34m]\u001b[0m\u001b[0;34m\u001b[0m\u001b[0;34m\u001b[0m\u001b[0m\n",
            "\u001b[0;32m<ipython-input-70-37adee7acdb5>\u001b[0m in \u001b[0;36m<lambda>\u001b[0;34m(x)\u001b[0m\n\u001b[1;32m     15\u001b[0m     \u001b[0;32mfor\u001b[0m \u001b[0mi\u001b[0m \u001b[0;32min\u001b[0m \u001b[0mrange\u001b[0m\u001b[0;34m(\u001b[0m\u001b[0mlen\u001b[0m\u001b[0;34m(\u001b[0m\u001b[0mdemands\u001b[0m\u001b[0;34m[\u001b[0m\u001b[0;36m0\u001b[0m\u001b[0;34m]\u001b[0m\u001b[0;34m)\u001b[0m\u001b[0;34m)\u001b[0m\u001b[0;34m:\u001b[0m\u001b[0;34m\u001b[0m\u001b[0;34m\u001b[0m\u001b[0m\n\u001b[0;32m---> 16\u001b[0;31m       \u001b[0mcallback\u001b[0m \u001b[0;34m=\u001b[0m \u001b[0;32mlambda\u001b[0m \u001b[0mx\u001b[0m \u001b[0;34m:\u001b[0m \u001b[0mdemand_callback\u001b[0m\u001b[0;34m(\u001b[0m\u001b[0mx\u001b[0m\u001b[0;34m,\u001b[0m \u001b[0mi\u001b[0m\u001b[0;34m)\u001b[0m\u001b[0;34m\u001b[0m\u001b[0;34m\u001b[0m\u001b[0m\n\u001b[0m\u001b[1;32m     17\u001b[0m       \u001b[0mdemand_callback_index\u001b[0m \u001b[0;34m=\u001b[0m \u001b[0mrouting\u001b[0m\u001b[0;34m.\u001b[0m\u001b[0mRegisterUnaryTransitCallback\u001b[0m\u001b[0;34m(\u001b[0m\u001b[0mcallback\u001b[0m\u001b[0;34m)\u001b[0m\u001b[0;34m\u001b[0m\u001b[0;34m\u001b[0m\u001b[0m\n",
            "\u001b[0;32m<ipython-input-70-37adee7acdb5>\u001b[0m in \u001b[0;36mdemand_callback\u001b[0;34m(from_index, cargo_type)\u001b[0m\n\u001b[1;32m     10\u001b[0m   \u001b[0;32mdef\u001b[0m \u001b[0mdemand_callback\u001b[0m\u001b[0;34m(\u001b[0m\u001b[0mfrom_index\u001b[0m\u001b[0;34m,\u001b[0m \u001b[0mcargo_type\u001b[0m\u001b[0;34m)\u001b[0m\u001b[0;34m:\u001b[0m\u001b[0;34m\u001b[0m\u001b[0;34m\u001b[0m\u001b[0m\n\u001b[0;32m---> 11\u001b[0;31m     \u001b[0mfrom_node\u001b[0m \u001b[0;34m=\u001b[0m \u001b[0mmanager\u001b[0m\u001b[0;34m.\u001b[0m\u001b[0mIndexToNode\u001b[0m\u001b[0;34m(\u001b[0m\u001b[0mfrom_index\u001b[0m\u001b[0;34m)\u001b[0m\u001b[0;34m\u001b[0m\u001b[0;34m\u001b[0m\u001b[0m\n\u001b[0m\u001b[1;32m     12\u001b[0m     \u001b[0;32mreturn\u001b[0m \u001b[0mdemands\u001b[0m\u001b[0;34m[\u001b[0m\u001b[0mcargo_type\u001b[0m\u001b[0;34m]\u001b[0m\u001b[0;34m[\u001b[0m\u001b[0mfrom_node\u001b[0m\u001b[0;34m]\u001b[0m\u001b[0;34m\u001b[0m\u001b[0;34m\u001b[0m\u001b[0m\n",
            "\u001b[0;32m<ipython-input-70-37adee7acdb5>\u001b[0m in \u001b[0;36m<lambda>\u001b[0;34m(x)\u001b[0m\n\u001b[1;32m     15\u001b[0m     \u001b[0;32mfor\u001b[0m \u001b[0mi\u001b[0m \u001b[0;32min\u001b[0m \u001b[0mrange\u001b[0m\u001b[0;34m(\u001b[0m\u001b[0mlen\u001b[0m\u001b[0;34m(\u001b[0m\u001b[0mdemands\u001b[0m\u001b[0;34m[\u001b[0m\u001b[0;36m0\u001b[0m\u001b[0;34m]\u001b[0m\u001b[0;34m)\u001b[0m\u001b[0;34m)\u001b[0m\u001b[0;34m:\u001b[0m\u001b[0;34m\u001b[0m\u001b[0;34m\u001b[0m\u001b[0m\n\u001b[0;32m---> 16\u001b[0;31m       \u001b[0mcallback\u001b[0m \u001b[0;34m=\u001b[0m \u001b[0;32mlambda\u001b[0m \u001b[0mx\u001b[0m \u001b[0;34m:\u001b[0m \u001b[0mdemand_callback\u001b[0m\u001b[0;34m(\u001b[0m\u001b[0mx\u001b[0m\u001b[0;34m,\u001b[0m \u001b[0mi\u001b[0m\u001b[0;34m)\u001b[0m\u001b[0;34m\u001b[0m\u001b[0;34m\u001b[0m\u001b[0m\n\u001b[0m\u001b[1;32m     17\u001b[0m       \u001b[0mdemand_callback_index\u001b[0m \u001b[0;34m=\u001b[0m \u001b[0mrouting\u001b[0m\u001b[0;34m.\u001b[0m\u001b[0mRegisterUnaryTransitCallback\u001b[0m\u001b[0;34m(\u001b[0m\u001b[0mcallback\u001b[0m\u001b[0;34m)\u001b[0m\u001b[0;34m\u001b[0m\u001b[0;34m\u001b[0m\u001b[0m\n",
            "\u001b[0;32m<ipython-input-70-37adee7acdb5>\u001b[0m in \u001b[0;36mdemand_callback\u001b[0;34m(from_index, cargo_type)\u001b[0m\n\u001b[1;32m     10\u001b[0m   \u001b[0;32mdef\u001b[0m \u001b[0mdemand_callback\u001b[0m\u001b[0;34m(\u001b[0m\u001b[0mfrom_index\u001b[0m\u001b[0;34m,\u001b[0m \u001b[0mcargo_type\u001b[0m\u001b[0;34m)\u001b[0m\u001b[0;34m:\u001b[0m\u001b[0;34m\u001b[0m\u001b[0;34m\u001b[0m\u001b[0m\n\u001b[0;32m---> 11\u001b[0;31m     \u001b[0mfrom_node\u001b[0m \u001b[0;34m=\u001b[0m \u001b[0mmanager\u001b[0m\u001b[0;34m.\u001b[0m\u001b[0mIndexToNode\u001b[0m\u001b[0;34m(\u001b[0m\u001b[0mfrom_index\u001b[0m\u001b[0;34m)\u001b[0m\u001b[0;34m\u001b[0m\u001b[0;34m\u001b[0m\u001b[0m\n\u001b[0m\u001b[1;32m     12\u001b[0m     \u001b[0;32mreturn\u001b[0m \u001b[0mdemands\u001b[0m\u001b[0;34m[\u001b[0m\u001b[0mcargo_type\u001b[0m\u001b[0;34m]\u001b[0m\u001b[0;34m[\u001b[0m\u001b[0mfrom_node\u001b[0m\u001b[0;34m]\u001b[0m\u001b[0;34m\u001b[0m\u001b[0;34m\u001b[0m\u001b[0m\n",
            "\u001b[0;32m<ipython-input-70-37adee7acdb5>\u001b[0m in \u001b[0;36m<lambda>\u001b[0;34m(x)\u001b[0m\n\u001b[1;32m     15\u001b[0m     \u001b[0;32mfor\u001b[0m \u001b[0mi\u001b[0m \u001b[0;32min\u001b[0m \u001b[0mrange\u001b[0m\u001b[0;34m(\u001b[0m\u001b[0mlen\u001b[0m\u001b[0;34m(\u001b[0m\u001b[0mdemands\u001b[0m\u001b[0;34m[\u001b[0m\u001b[0;36m0\u001b[0m\u001b[0;34m]\u001b[0m\u001b[0;34m)\u001b[0m\u001b[0;34m)\u001b[0m\u001b[0;34m:\u001b[0m\u001b[0;34m\u001b[0m\u001b[0;34m\u001b[0m\u001b[0m\n\u001b[0;32m---> 16\u001b[0;31m       \u001b[0mcallback\u001b[0m \u001b[0;34m=\u001b[0m \u001b[0;32mlambda\u001b[0m \u001b[0mx\u001b[0m \u001b[0;34m:\u001b[0m \u001b[0mdemand_callback\u001b[0m\u001b[0;34m(\u001b[0m\u001b[0mx\u001b[0m\u001b[0;34m,\u001b[0m \u001b[0mi\u001b[0m\u001b[0;34m)\u001b[0m\u001b[0;34m\u001b[0m\u001b[0;34m\u001b[0m\u001b[0m\n\u001b[0m\u001b[1;32m     17\u001b[0m       \u001b[0mdemand_callback_index\u001b[0m \u001b[0;34m=\u001b[0m \u001b[0mrouting\u001b[0m\u001b[0;34m.\u001b[0m\u001b[0mRegisterUnaryTransitCallback\u001b[0m\u001b[0;34m(\u001b[0m\u001b[0mcallback\u001b[0m\u001b[0;34m)\u001b[0m\u001b[0;34m\u001b[0m\u001b[0;34m\u001b[0m\u001b[0m\n",
            "\u001b[0;32m<ipython-input-70-37adee7acdb5>\u001b[0m in \u001b[0;36mdemand_callback\u001b[0;34m(from_index, cargo_type)\u001b[0m\n\u001b[1;32m     10\u001b[0m   \u001b[0;32mdef\u001b[0m \u001b[0mdemand_callback\u001b[0m\u001b[0;34m(\u001b[0m\u001b[0mfrom_index\u001b[0m\u001b[0;34m,\u001b[0m \u001b[0mcargo_type\u001b[0m\u001b[0;34m)\u001b[0m\u001b[0;34m:\u001b[0m\u001b[0;34m\u001b[0m\u001b[0;34m\u001b[0m\u001b[0m\n\u001b[0;32m---> 11\u001b[0;31m     \u001b[0mfrom_node\u001b[0m \u001b[0;34m=\u001b[0m \u001b[0mmanager\u001b[0m\u001b[0;34m.\u001b[0m\u001b[0mIndexToNode\u001b[0m\u001b[0;34m(\u001b[0m\u001b[0mfrom_index\u001b[0m\u001b[0;34m)\u001b[0m\u001b[0;34m\u001b[0m\u001b[0;34m\u001b[0m\u001b[0m\n\u001b[0m\u001b[1;32m     12\u001b[0m     \u001b[0;32mreturn\u001b[0m \u001b[0mdemands\u001b[0m\u001b[0;34m[\u001b[0m\u001b[0mcargo_type\u001b[0m\u001b[0;34m]\u001b[0m\u001b[0;34m[\u001b[0m\u001b[0mfrom_node\u001b[0m\u001b[0;34m]\u001b[0m\u001b[0;34m\u001b[0m\u001b[0;34m\u001b[0m\u001b[0m\n",
            "\u001b[0;32m<ipython-input-70-37adee7acdb5>\u001b[0m in \u001b[0;36m<lambda>\u001b[0;34m(x)\u001b[0m\n\u001b[1;32m     15\u001b[0m     \u001b[0;32mfor\u001b[0m \u001b[0mi\u001b[0m \u001b[0;32min\u001b[0m \u001b[0mrange\u001b[0m\u001b[0;34m(\u001b[0m\u001b[0mlen\u001b[0m\u001b[0;34m(\u001b[0m\u001b[0mdemands\u001b[0m\u001b[0;34m[\u001b[0m\u001b[0;36m0\u001b[0m\u001b[0;34m]\u001b[0m\u001b[0;34m)\u001b[0m\u001b[0;34m)\u001b[0m\u001b[0;34m:\u001b[0m\u001b[0;34m\u001b[0m\u001b[0;34m\u001b[0m\u001b[0m\n\u001b[0;32m---> 16\u001b[0;31m       \u001b[0mcallback\u001b[0m \u001b[0;34m=\u001b[0m \u001b[0;32mlambda\u001b[0m \u001b[0mx\u001b[0m \u001b[0;34m:\u001b[0m \u001b[0mdemand_callback\u001b[0m\u001b[0;34m(\u001b[0m\u001b[0mx\u001b[0m\u001b[0;34m,\u001b[0m \u001b[0mi\u001b[0m\u001b[0;34m)\u001b[0m\u001b[0;34m\u001b[0m\u001b[0;34m\u001b[0m\u001b[0m\n\u001b[0m\u001b[1;32m     17\u001b[0m       \u001b[0mdemand_callback_index\u001b[0m \u001b[0;34m=\u001b[0m \u001b[0mrouting\u001b[0m\u001b[0;34m.\u001b[0m\u001b[0mRegisterUnaryTransitCallback\u001b[0m\u001b[0;34m(\u001b[0m\u001b[0mcallback\u001b[0m\u001b[0;34m)\u001b[0m\u001b[0;34m\u001b[0m\u001b[0;34m\u001b[0m\u001b[0m\n",
            "\u001b[0;32m<ipython-input-70-37adee7acdb5>\u001b[0m in \u001b[0;36mdemand_callback\u001b[0;34m(from_index, cargo_type)\u001b[0m\n\u001b[1;32m     10\u001b[0m   \u001b[0;32mdef\u001b[0m \u001b[0mdemand_callback\u001b[0m\u001b[0;34m(\u001b[0m\u001b[0mfrom_index\u001b[0m\u001b[0;34m,\u001b[0m \u001b[0mcargo_type\u001b[0m\u001b[0;34m)\u001b[0m\u001b[0;34m:\u001b[0m\u001b[0;34m\u001b[0m\u001b[0;34m\u001b[0m\u001b[0m\n\u001b[0;32m---> 11\u001b[0;31m     \u001b[0mfrom_node\u001b[0m \u001b[0;34m=\u001b[0m \u001b[0mmanager\u001b[0m\u001b[0;34m.\u001b[0m\u001b[0mIndexToNode\u001b[0m\u001b[0;34m(\u001b[0m\u001b[0mfrom_index\u001b[0m\u001b[0;34m)\u001b[0m\u001b[0;34m\u001b[0m\u001b[0;34m\u001b[0m\u001b[0m\n\u001b[0m\u001b[1;32m     12\u001b[0m     \u001b[0;32mreturn\u001b[0m \u001b[0mdemands\u001b[0m\u001b[0;34m[\u001b[0m\u001b[0mcargo_type\u001b[0m\u001b[0;34m]\u001b[0m\u001b[0;34m[\u001b[0m\u001b[0mfrom_node\u001b[0m\u001b[0;34m]\u001b[0m\u001b[0;34m\u001b[0m\u001b[0;34m\u001b[0m\u001b[0m\n",
            "\u001b[0;32m<ipython-input-70-37adee7acdb5>\u001b[0m in \u001b[0;36m<lambda>\u001b[0;34m(x)\u001b[0m\n\u001b[1;32m     15\u001b[0m     \u001b[0;32mfor\u001b[0m \u001b[0mi\u001b[0m \u001b[0;32min\u001b[0m \u001b[0mrange\u001b[0m\u001b[0;34m(\u001b[0m\u001b[0mlen\u001b[0m\u001b[0;34m(\u001b[0m\u001b[0mdemands\u001b[0m\u001b[0;34m[\u001b[0m\u001b[0;36m0\u001b[0m\u001b[0;34m]\u001b[0m\u001b[0;34m)\u001b[0m\u001b[0;34m)\u001b[0m\u001b[0;34m:\u001b[0m\u001b[0;34m\u001b[0m\u001b[0;34m\u001b[0m\u001b[0m\n\u001b[0;32m---> 16\u001b[0;31m       \u001b[0mcallback\u001b[0m \u001b[0;34m=\u001b[0m \u001b[0;32mlambda\u001b[0m \u001b[0mx\u001b[0m \u001b[0;34m:\u001b[0m \u001b[0mdemand_callback\u001b[0m\u001b[0;34m(\u001b[0m\u001b[0mx\u001b[0m\u001b[0;34m,\u001b[0m \u001b[0mi\u001b[0m\u001b[0;34m)\u001b[0m\u001b[0;34m\u001b[0m\u001b[0;34m\u001b[0m\u001b[0m\n\u001b[0m\u001b[1;32m     17\u001b[0m       \u001b[0mdemand_callback_index\u001b[0m \u001b[0;34m=\u001b[0m \u001b[0mrouting\u001b[0m\u001b[0;34m.\u001b[0m\u001b[0mRegisterUnaryTransitCallback\u001b[0m\u001b[0;34m(\u001b[0m\u001b[0mcallback\u001b[0m\u001b[0;34m)\u001b[0m\u001b[0;34m\u001b[0m\u001b[0;34m\u001b[0m\u001b[0m\n",
            "\u001b[0;32m<ipython-input-70-37adee7acdb5>\u001b[0m in \u001b[0;36mdemand_callback\u001b[0;34m(from_index, cargo_type)\u001b[0m\n\u001b[1;32m     10\u001b[0m   \u001b[0;32mdef\u001b[0m \u001b[0mdemand_callback\u001b[0m\u001b[0;34m(\u001b[0m\u001b[0mfrom_index\u001b[0m\u001b[0;34m,\u001b[0m \u001b[0mcargo_type\u001b[0m\u001b[0;34m)\u001b[0m\u001b[0;34m:\u001b[0m\u001b[0;34m\u001b[0m\u001b[0;34m\u001b[0m\u001b[0m\n\u001b[0;32m---> 11\u001b[0;31m     \u001b[0mfrom_node\u001b[0m \u001b[0;34m=\u001b[0m \u001b[0mmanager\u001b[0m\u001b[0;34m.\u001b[0m\u001b[0mIndexToNode\u001b[0m\u001b[0;34m(\u001b[0m\u001b[0mfrom_index\u001b[0m\u001b[0;34m)\u001b[0m\u001b[0;34m\u001b[0m\u001b[0;34m\u001b[0m\u001b[0m\n\u001b[0m\u001b[1;32m     12\u001b[0m     \u001b[0;32mreturn\u001b[0m \u001b[0mdemands\u001b[0m\u001b[0;34m[\u001b[0m\u001b[0mcargo_type\u001b[0m\u001b[0;34m]\u001b[0m\u001b[0;34m[\u001b[0m\u001b[0mfrom_node\u001b[0m\u001b[0;34m]\u001b[0m\u001b[0;34m\u001b[0m\u001b[0;34m\u001b[0m\u001b[0m\n",
            "\u001b[0;32m<ipython-input-70-37adee7acdb5>\u001b[0m in \u001b[0;36m<lambda>\u001b[0;34m(x)\u001b[0m\n\u001b[1;32m     15\u001b[0m     \u001b[0;32mfor\u001b[0m \u001b[0mi\u001b[0m \u001b[0;32min\u001b[0m \u001b[0mrange\u001b[0m\u001b[0;34m(\u001b[0m\u001b[0mlen\u001b[0m\u001b[0;34m(\u001b[0m\u001b[0mdemands\u001b[0m\u001b[0;34m[\u001b[0m\u001b[0;36m0\u001b[0m\u001b[0;34m]\u001b[0m\u001b[0;34m)\u001b[0m\u001b[0;34m)\u001b[0m\u001b[0;34m:\u001b[0m\u001b[0;34m\u001b[0m\u001b[0;34m\u001b[0m\u001b[0m\n\u001b[0;32m---> 16\u001b[0;31m       \u001b[0mcallback\u001b[0m \u001b[0;34m=\u001b[0m \u001b[0;32mlambda\u001b[0m \u001b[0mx\u001b[0m \u001b[0;34m:\u001b[0m \u001b[0mdemand_callback\u001b[0m\u001b[0;34m(\u001b[0m\u001b[0mx\u001b[0m\u001b[0;34m,\u001b[0m \u001b[0mi\u001b[0m\u001b[0;34m)\u001b[0m\u001b[0;34m\u001b[0m\u001b[0;34m\u001b[0m\u001b[0m\n\u001b[0m\u001b[1;32m     17\u001b[0m       \u001b[0mdemand_callback_index\u001b[0m \u001b[0;34m=\u001b[0m \u001b[0mrouting\u001b[0m\u001b[0;34m.\u001b[0m\u001b[0mRegisterUnaryTransitCallback\u001b[0m\u001b[0;34m(\u001b[0m\u001b[0mcallback\u001b[0m\u001b[0;34m)\u001b[0m\u001b[0;34m\u001b[0m\u001b[0;34m\u001b[0m\u001b[0m\n",
            "\u001b[0;32m<ipython-input-70-37adee7acdb5>\u001b[0m in \u001b[0;36mdemand_callback\u001b[0;34m(from_index, cargo_type)\u001b[0m\n\u001b[1;32m     10\u001b[0m   \u001b[0;32mdef\u001b[0m \u001b[0mdemand_callback\u001b[0m\u001b[0;34m(\u001b[0m\u001b[0mfrom_index\u001b[0m\u001b[0;34m,\u001b[0m \u001b[0mcargo_type\u001b[0m\u001b[0;34m)\u001b[0m\u001b[0;34m:\u001b[0m\u001b[0;34m\u001b[0m\u001b[0;34m\u001b[0m\u001b[0m\n\u001b[0;32m---> 11\u001b[0;31m     \u001b[0mfrom_node\u001b[0m \u001b[0;34m=\u001b[0m \u001b[0mmanager\u001b[0m\u001b[0;34m.\u001b[0m\u001b[0mIndexToNode\u001b[0m\u001b[0;34m(\u001b[0m\u001b[0mfrom_index\u001b[0m\u001b[0;34m)\u001b[0m\u001b[0;34m\u001b[0m\u001b[0;34m\u001b[0m\u001b[0m\n\u001b[0m\u001b[1;32m     12\u001b[0m     \u001b[0;32mreturn\u001b[0m \u001b[0mdemands\u001b[0m\u001b[0;34m[\u001b[0m\u001b[0mcargo_type\u001b[0m\u001b[0;34m]\u001b[0m\u001b[0;34m[\u001b[0m\u001b[0mfrom_node\u001b[0m\u001b[0;34m]\u001b[0m\u001b[0;34m\u001b[0m\u001b[0;34m\u001b[0m\u001b[0m\n",
            "\u001b[0;32m<ipython-input-69-f6b3f2f6f9d9>\u001b[0m in \u001b[0;36mdistance_callback\u001b[0;34m(from_index, to_index)\u001b[0m\n\u001b[1;32m     10\u001b[0m   \u001b[0;32mdef\u001b[0m \u001b[0mdistance_callback\u001b[0m\u001b[0;34m(\u001b[0m\u001b[0mfrom_index\u001b[0m\u001b[0;34m,\u001b[0m \u001b[0mto_index\u001b[0m\u001b[0;34m)\u001b[0m\u001b[0;34m:\u001b[0m\u001b[0;34m\u001b[0m\u001b[0;34m\u001b[0m\u001b[0m\n\u001b[0;32m---> 11\u001b[0;31m     \u001b[0mfrom_node\u001b[0m \u001b[0;34m=\u001b[0m \u001b[0mmanager\u001b[0m\u001b[0;34m.\u001b[0m\u001b[0mIndexToNode\u001b[0m\u001b[0;34m(\u001b[0m\u001b[0mfrom_index\u001b[0m\u001b[0;34m)\u001b[0m\u001b[0;34m\u001b[0m\u001b[0;34m\u001b[0m\u001b[0m\n\u001b[0m\u001b[1;32m     12\u001b[0m     \u001b[0mto_node\u001b[0m \u001b[0;34m=\u001b[0m \u001b[0mmanager\u001b[0m\u001b[0;34m.\u001b[0m\u001b[0mIndexToNode\u001b[0m\u001b[0;34m(\u001b[0m\u001b[0mto_index\u001b[0m\u001b[0;34m)\u001b[0m\u001b[0;34m\u001b[0m\u001b[0;34m\u001b[0m\u001b[0m\n",
            "\u001b[0;32m/usr/local/lib/python3.6/dist-packages/ortools/constraint_solver/pywrapcp.py\u001b[0m in \u001b[0;36mIndexToNode\u001b[0;34m(self, index)\u001b[0m\n\u001b[1;32m   4649\u001b[0m     \u001b[0;32mdef\u001b[0m \u001b[0mIndexToNode\u001b[0m\u001b[0;34m(\u001b[0m\u001b[0mself\u001b[0m\u001b[0;34m,\u001b[0m \u001b[0mindex\u001b[0m\u001b[0;34m:\u001b[0m \u001b[0;34m\"int64\"\u001b[0m\u001b[0;34m)\u001b[0m \u001b[0;34m->\u001b[0m \u001b[0;34m\"operations_research::RoutingIndexManager::NodeIndex\"\u001b[0m\u001b[0;34m:\u001b[0m\u001b[0;34m\u001b[0m\u001b[0;34m\u001b[0m\u001b[0m\n\u001b[0;32m-> 4650\u001b[0;31m         \u001b[0;32mreturn\u001b[0m \u001b[0m_pywrapcp\u001b[0m\u001b[0;34m.\u001b[0m\u001b[0mRoutingIndexManager_IndexToNode\u001b[0m\u001b[0;34m(\u001b[0m\u001b[0mself\u001b[0m\u001b[0;34m,\u001b[0m \u001b[0mindex\u001b[0m\u001b[0;34m)\u001b[0m\u001b[0;34m\u001b[0m\u001b[0;34m\u001b[0m\u001b[0m\n\u001b[0m\u001b[1;32m   4651\u001b[0m \u001b[0;34m\u001b[0m\u001b[0m\n",
            "\u001b[0;31mOverflowError\u001b[0m: in method 'RoutingIndexManager_IndexToNode', argument 2 of type 'int64'",
            "\nThe above exception was the direct cause of the following exception:\n",
            "\u001b[0;31mSystemError\u001b[0m                               Traceback (most recent call last)",
            "\u001b[0;32m<ipython-input-71-7a2fe96c9117>\u001b[0m in \u001b[0;36m<module>\u001b[0;34m()\u001b[0m\n\u001b[0;32m----> 1\u001b[0;31m \u001b[0mcvrp\u001b[0m\u001b[0;34m(\u001b[0m\u001b[0mmatrix_1\u001b[0m\u001b[0;34m,\u001b[0m \u001b[0mlocations_1\u001b[0m\u001b[0;34m,\u001b[0m \u001b[0mlen\u001b[0m\u001b[0;34m(\u001b[0m\u001b[0mcapacities_1\u001b[0m\u001b[0;34m)\u001b[0m\u001b[0;34m,\u001b[0m \u001b[0mdemands_1\u001b[0m\u001b[0;34m,\u001b[0m \u001b[0mcapacities_1\u001b[0m\u001b[0;34m)\u001b[0m\u001b[0;34m\u001b[0m\u001b[0;34m\u001b[0m\u001b[0m\n\u001b[0m",
            "\u001b[0;32m<ipython-input-70-37adee7acdb5>\u001b[0m in \u001b[0;36mcvrp\u001b[0;34m(dist_matrix, locations, no_vehicles, demands, capacities, depot, time_limit)\u001b[0m\n\u001b[1;32m     18\u001b[0m       \u001b[0mrouting\u001b[0m\u001b[0;34m.\u001b[0m\u001b[0mAddDimensionWithVehicleCapacity\u001b[0m\u001b[0;34m(\u001b[0m\u001b[0mdemand_callback_index\u001b[0m\u001b[0;34m,\u001b[0m \u001b[0;36m0\u001b[0m\u001b[0;34m,\u001b[0m \u001b[0;34m[\u001b[0m\u001b[0mj\u001b[0m\u001b[0;34m[\u001b[0m\u001b[0mi\u001b[0m\u001b[0;34m]\u001b[0m \u001b[0;32mfor\u001b[0m \u001b[0mj\u001b[0m \u001b[0;32min\u001b[0m \u001b[0mcapacities\u001b[0m\u001b[0;34m]\u001b[0m\u001b[0;34m,\u001b[0m \u001b[0;32mTrue\u001b[0m\u001b[0;34m,\u001b[0m \u001b[0;34mf'Capacity_{i}'\u001b[0m\u001b[0;34m)\u001b[0m\u001b[0;34m\u001b[0m\u001b[0;34m\u001b[0m\u001b[0m\n\u001b[1;32m     19\u001b[0m \u001b[0;34m\u001b[0m\u001b[0m\n\u001b[0;32m---> 20\u001b[0;31m   \u001b[0msolution\u001b[0m\u001b[0;34m,\u001b[0m \u001b[0mrouting\u001b[0m\u001b[0;34m,\u001b[0m \u001b[0mmanager\u001b[0m \u001b[0;34m=\u001b[0m \u001b[0mvrp_base\u001b[0m\u001b[0;34m(\u001b[0m\u001b[0mdist_matrix\u001b[0m\u001b[0;34m,\u001b[0m \u001b[0mlocations\u001b[0m\u001b[0;34m,\u001b[0m \u001b[0mno_vehicles\u001b[0m\u001b[0;34m,\u001b[0m \u001b[0mupdate_routing\u001b[0m\u001b[0;34m=\u001b[0m\u001b[0mupdate_routing\u001b[0m\u001b[0;34m,\u001b[0m \u001b[0mdepot\u001b[0m\u001b[0;34m=\u001b[0m\u001b[0mdepot\u001b[0m\u001b[0;34m,\u001b[0m \u001b[0mtime_limit\u001b[0m\u001b[0;34m=\u001b[0m\u001b[0mdepot\u001b[0m\u001b[0;34m)\u001b[0m\u001b[0;34m\u001b[0m\u001b[0;34m\u001b[0m\u001b[0m\n\u001b[0m\u001b[1;32m     21\u001b[0m \u001b[0;34m\u001b[0m\u001b[0m\n\u001b[1;32m     22\u001b[0m   \u001b[0mloads\u001b[0m \u001b[0;34m=\u001b[0m \u001b[0;34m[\u001b[0m\u001b[0;34m[\u001b[0m\u001b[0;36m0\u001b[0m \u001b[0;32mfor\u001b[0m \u001b[0m__\u001b[0m \u001b[0;32min\u001b[0m \u001b[0mrange\u001b[0m\u001b[0;34m(\u001b[0m\u001b[0mlen\u001b[0m\u001b[0;34m(\u001b[0m\u001b[0mcapacities\u001b[0m\u001b[0;34m[\u001b[0m\u001b[0;36m0\u001b[0m\u001b[0;34m]\u001b[0m\u001b[0;34m)\u001b[0m\u001b[0;34m)\u001b[0m\u001b[0;34m]\u001b[0m \u001b[0;32mfor\u001b[0m \u001b[0m__\u001b[0m \u001b[0;32min\u001b[0m \u001b[0mrange\u001b[0m\u001b[0;34m(\u001b[0m\u001b[0mlen\u001b[0m\u001b[0;34m(\u001b[0m\u001b[0mcapacities\u001b[0m\u001b[0;34m)\u001b[0m\u001b[0;34m)\u001b[0m\u001b[0;34m]\u001b[0m\u001b[0;34m\u001b[0m\u001b[0;34m\u001b[0m\u001b[0m\n",
            "\u001b[0;32m<ipython-input-69-f6b3f2f6f9d9>\u001b[0m in \u001b[0;36mvrp_base\u001b[0;34m(dist_matrix, locations, no_vehicles, update_routing, depot, time_limit)\u001b[0m\n\u001b[1;32m     31\u001b[0m   \u001b[0msearch_parameters\u001b[0m\u001b[0;34m.\u001b[0m\u001b[0mtime_limit\u001b[0m\u001b[0;34m.\u001b[0m\u001b[0mFromSeconds\u001b[0m\u001b[0;34m(\u001b[0m\u001b[0;36m1\u001b[0m\u001b[0;34m)\u001b[0m\u001b[0;34m\u001b[0m\u001b[0;34m\u001b[0m\u001b[0m\n\u001b[1;32m     32\u001b[0m \u001b[0;34m\u001b[0m\u001b[0m\n\u001b[0;32m---> 33\u001b[0;31m   \u001b[0msolution\u001b[0m \u001b[0;34m=\u001b[0m \u001b[0mrouting\u001b[0m\u001b[0;34m.\u001b[0m\u001b[0mSolveWithParameters\u001b[0m\u001b[0;34m(\u001b[0m\u001b[0msearch_parameters\u001b[0m\u001b[0;34m)\u001b[0m\u001b[0;34m\u001b[0m\u001b[0;34m\u001b[0m\u001b[0m\n\u001b[0m\u001b[1;32m     34\u001b[0m \u001b[0;34m\u001b[0m\u001b[0m\n\u001b[1;32m     35\u001b[0m   \u001b[0;32mif\u001b[0m \u001b[0;32mnot\u001b[0m \u001b[0msolution\u001b[0m\u001b[0;34m:\u001b[0m\u001b[0;34m\u001b[0m\u001b[0;34m\u001b[0m\u001b[0m\n",
            "\u001b[0;32m/usr/local/lib/python3.6/dist-packages/ortools/constraint_solver/pywrapcp.py\u001b[0m in \u001b[0;36mSolveWithParameters\u001b[0;34m(self, search_parameters, solutions)\u001b[0m\n\u001b[1;32m   5333\u001b[0m         \u001b[0mdeleted\u001b[0m\u001b[0;34m.\u001b[0m\u001b[0;34m\u001b[0m\u001b[0;34m\u001b[0m\u001b[0m\n\u001b[1;32m   5334\u001b[0m         \"\"\"\n\u001b[0;32m-> 5335\u001b[0;31m         \u001b[0;32mreturn\u001b[0m \u001b[0m_pywrapcp\u001b[0m\u001b[0;34m.\u001b[0m\u001b[0mRoutingModel_SolveWithParameters\u001b[0m\u001b[0;34m(\u001b[0m\u001b[0mself\u001b[0m\u001b[0;34m,\u001b[0m \u001b[0msearch_parameters\u001b[0m\u001b[0;34m,\u001b[0m \u001b[0msolutions\u001b[0m\u001b[0;34m)\u001b[0m\u001b[0;34m\u001b[0m\u001b[0;34m\u001b[0m\u001b[0m\n\u001b[0m\u001b[1;32m   5336\u001b[0m \u001b[0;34m\u001b[0m\u001b[0m\n\u001b[1;32m   5337\u001b[0m     \u001b[0;32mdef\u001b[0m \u001b[0mSolveFromAssignmentWithParameters\u001b[0m\u001b[0;34m(\u001b[0m\u001b[0mself\u001b[0m\u001b[0;34m,\u001b[0m \u001b[0massignment\u001b[0m\u001b[0;34m:\u001b[0m \u001b[0;34m\"Assignment\"\u001b[0m\u001b[0;34m,\u001b[0m \u001b[0msearch_parameters\u001b[0m\u001b[0;34m:\u001b[0m \u001b[0;34m\"operations_research::RoutingSearchParameters const &\"\u001b[0m\u001b[0;34m,\u001b[0m \u001b[0msolutions\u001b[0m\u001b[0;34m:\u001b[0m \u001b[0;34m\"std::vector< operations_research::Assignment const * > *\"\u001b[0m\u001b[0;34m=\u001b[0m\u001b[0;32mNone\u001b[0m\u001b[0;34m)\u001b[0m \u001b[0;34m->\u001b[0m \u001b[0;34m\"operations_research::Assignment const *\"\u001b[0m\u001b[0;34m:\u001b[0m\u001b[0;34m\u001b[0m\u001b[0;34m\u001b[0m\u001b[0m\n",
            "\u001b[0;31mSystemError\u001b[0m: <built-in function RoutingModel_SolveWithParameters> returned a result with an error set"
          ]
        }
      ]
    },
    {
      "cell_type": "code",
      "metadata": {
        "colab": {
          "base_uri": "https://localhost:8080/",
          "height": 279
        },
        "id": "WtYH9rwG7CIY",
        "outputId": "65995ddb-5854-4db1-a0f4-7c07990202f7"
      },
      "source": [
        "cvrp(dist_function_2, locations_2, len(capacities_2), capacities_2, demands_2)  # WHY DOESNT THIS WORK ??!!!"
      ],
      "execution_count": 45,
      "outputs": [
        {
          "output_type": "error",
          "ename": "AssertionError",
          "evalue": "ignored",
          "traceback": [
            "\u001b[0;31m---------------------------------------------------------------------------\u001b[0m",
            "\u001b[0;31mAssertionError\u001b[0m                            Traceback (most recent call last)",
            "\u001b[0;32m<ipython-input-45-2816b67799aa>\u001b[0m in \u001b[0;36m<module>\u001b[0;34m()\u001b[0m\n\u001b[0;32m----> 1\u001b[0;31m \u001b[0mcvrp\u001b[0m\u001b[0;34m(\u001b[0m\u001b[0mdist_function_2\u001b[0m\u001b[0;34m,\u001b[0m \u001b[0mlocations_2\u001b[0m\u001b[0;34m,\u001b[0m \u001b[0mlen\u001b[0m\u001b[0;34m(\u001b[0m\u001b[0mcapacities_2\u001b[0m\u001b[0;34m)\u001b[0m\u001b[0;34m,\u001b[0m \u001b[0mcapacities_2\u001b[0m\u001b[0;34m,\u001b[0m \u001b[0mdemands_2\u001b[0m\u001b[0;34m)\u001b[0m  \u001b[0;31m# WHY DOESNT THIS WORK ??!!!\u001b[0m\u001b[0;34m\u001b[0m\u001b[0;34m\u001b[0m\u001b[0m\n\u001b[0m",
            "\u001b[0;32m<ipython-input-42-55af2fb91232>\u001b[0m in \u001b[0;36mcvrp\u001b[0;34m(dist_matrix, locations, no_vehicles, demands, capacities, depot, time_limit)\u001b[0m\n\u001b[1;32m      5\u001b[0m     \u001b[0mcapacities\u001b[0m \u001b[0;34m=\u001b[0m \u001b[0;34m[\u001b[0m\u001b[0;34m(\u001b[0m\u001b[0mi\u001b[0m\u001b[0;34m,\u001b[0m\u001b[0;34m)\u001b[0m \u001b[0;32mfor\u001b[0m \u001b[0mi\u001b[0m \u001b[0;32min\u001b[0m \u001b[0mcapacities\u001b[0m\u001b[0;34m]\u001b[0m\u001b[0;34m\u001b[0m\u001b[0;34m\u001b[0m\u001b[0m\n\u001b[1;32m      6\u001b[0m \u001b[0;34m\u001b[0m\u001b[0m\n\u001b[0;32m----> 7\u001b[0;31m   \u001b[0;32massert\u001b[0m \u001b[0mlen\u001b[0m\u001b[0;34m(\u001b[0m\u001b[0mdemands\u001b[0m\u001b[0;34m)\u001b[0m \u001b[0;34m==\u001b[0m \u001b[0mlen\u001b[0m\u001b[0;34m(\u001b[0m\u001b[0mcapacities\u001b[0m\u001b[0;34m)\u001b[0m\u001b[0;34m\u001b[0m\u001b[0;34m\u001b[0m\u001b[0m\n\u001b[0m\u001b[1;32m      8\u001b[0m \u001b[0;34m\u001b[0m\u001b[0m\n\u001b[1;32m      9\u001b[0m   \u001b[0;32mdef\u001b[0m \u001b[0mdemand_callback\u001b[0m\u001b[0;34m(\u001b[0m\u001b[0mfrom_index\u001b[0m\u001b[0;34m,\u001b[0m \u001b[0mcargo_type\u001b[0m\u001b[0;34m)\u001b[0m\u001b[0;34m:\u001b[0m\u001b[0;34m\u001b[0m\u001b[0;34m\u001b[0m\u001b[0m\n",
            "\u001b[0;31mAssertionError\u001b[0m: "
          ]
        }
      ]
    }
  ]
}