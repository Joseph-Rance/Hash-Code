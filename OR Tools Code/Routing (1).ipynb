{
  "nbformat": 4,
  "nbformat_minor": 0,
  "metadata": {
    "colab": {
      "name": "Routing.ipynb",
      "provenance": [],
      "collapsed_sections": []
    },
    "kernelspec": {
      "name": "python3",
      "display_name": "Python 3"
    }
  },
  "cells": [
    {
      "cell_type": "code",
      "metadata": {
        "colab": {
          "base_uri": "https://localhost:8080/"
        },
        "id": "SKqfNo17D3LM",
        "outputId": "ba1b6d9e-95cb-46ff-f98c-65805b8d0661"
      },
      "source": [
        "pip install ortools"
      ],
      "execution_count": 13,
      "outputs": [
        {
          "output_type": "stream",
          "text": [
            "Requirement already satisfied: ortools in /usr/local/lib/python3.6/dist-packages (8.1.8487)\n",
            "Requirement already satisfied: absl-py>=0.11 in /usr/local/lib/python3.6/dist-packages (from ortools) (0.11.0)\n",
            "Requirement already satisfied: protobuf>=3.14.0 in /usr/local/lib/python3.6/dist-packages (from ortools) (3.14.0)\n",
            "Requirement already satisfied: six in /usr/local/lib/python3.6/dist-packages (from absl-py>=0.11->ortools) (1.15.0)\n"
          ],
          "name": "stdout"
        }
      ]
    },
    {
      "cell_type": "code",
      "metadata": {
        "id": "t81NGvRKD18k"
      },
      "source": [
        "from ortools.constraint_solver import routing_enums_pb2\r\n",
        "from ortools.constraint_solver import pywrapcp\r\n",
        "import numpy as np"
      ],
      "execution_count": 14,
      "outputs": []
    },
    {
      "cell_type": "code",
      "metadata": {
        "id": "b9xxhGrfD-te"
      },
      "source": [
        "matrix_1 = [\r\n",
        "  [0, 2451, 713, 1018, 1631, 1374, 2408, 213, 2571, 875, 1420, 2145, 1972],\r\n",
        "  [2451, 0, 1745, 1524, 831, 1240, 959, 2596, 403, 1589, 1374, 357, 579],\r\n",
        "  [713, 1745, 0, 355, 920, 803, 1737, 851, 1858, 262, 940, 1453, 1260],\r\n",
        "  [1018, 1524, 355, 0, 700, 862, 1395, 1123, 1584, 466, 1056, 1280, 987],\r\n",
        "  [1631, 831, 920, 700, 0, 663, 1021, 1769, 949, 796, 879, 586, 371],\r\n",
        "  [1374, 1240, 803, 862, 663, 0, 1681, 1551, 1765, 547, 225, 887, 999],\r\n",
        "  [2408, 959, 1737, 1395, 1021, 1681, 0, 2493, 678, 1724, 1891, 1114, 701],\r\n",
        "  [213, 2596, 851, 1123, 1769, 1551, 2493, 0, 2699, 1038, 1605, 2300, 2099],\r\n",
        "  [2571, 403, 1858, 1584, 949, 1765, 678, 2699, 0, 1744, 1645, 653, 600],\r\n",
        "  [875, 1589, 262, 466, 796, 547, 1724, 1038, 1744, 0, 679, 1272, 1162],\r\n",
        "  [1420, 1374, 940, 1056, 879, 225, 1891, 1605, 1645, 679, 0, 1017, 1200],\r\n",
        "  [2145, 357, 1453, 1280, 586, 887, 1114, 2300, 653, 1272, 1017, 0, 504],\r\n",
        "  [1972, 579, 1260, 987, 371, 999, 701, 2099, 600, 1162, 1200, 504, 0],\r\n",
        "]\r\n",
        "dist_function_1 = lambda a, b : matrix_1[a][b]\r\n",
        "locations_1 = list(range(len(matrix_1)))\r\n",
        "capacities_1 = [100, 100, 100, 100]\r\n",
        "demands_1 = [0, 10, 10, 10, 10, 10, 10, 10, 10, 10, 10, 10, 10]\r\n",
        "\r\n",
        "matrix_2 = [[0, 1, 1], [1, 0, 1], [1, 1, 0]]\r\n",
        "dist_function_2 = lambda a, b : matrix_2[a][b]\r\n",
        "locations_2 = list(range(len(matrix_2)))\r\n",
        "capacities_2 = [(10, 0), (0, 10)]\r\n",
        "demands_2 = [(0, 0), (1, 0), (0, 1)]"
      ],
      "execution_count": 33,
      "outputs": []
    },
    {
      "cell_type": "markdown",
      "metadata": {
        "id": "1Bcw0u2yz-jA"
      },
      "source": [
        "# TSP"
      ]
    },
    {
      "cell_type": "code",
      "metadata": {
        "id": "mPhmycvH0LSj"
      },
      "source": [
        "def tsp(dist_function, locations):  # function takes loc 1 and loc 2 and returns dist between\r\n",
        "\r\n",
        "  def create_dist_matrix(locations):\r\n",
        "    matrix = np.zeros((len(locations), len(locations))).tolist()\r\n",
        "    for l1 in range(len(matrix)):\r\n",
        "      for l2 in range(len(matrix)):\r\n",
        "        matrix[l1][l2] = dist_function(locations[l1], locations[l2])\r\n",
        "    return matrix\r\n",
        "        \r\n",
        "  def distance_callback(from_index, to_index):\r\n",
        "    from_node = manager.IndexToNode(from_index)\r\n",
        "    to_node = manager.IndexToNode(to_index)\r\n",
        "    return dist_matrix[from_node][to_node]\r\n",
        "\r\n",
        "  dist_matrix = create_dist_matrix(locations)\r\n",
        "            \r\n",
        "  manager = pywrapcp.RoutingIndexManager(len(dist_matrix), 1, 0)\r\n",
        "\r\n",
        "  routing = pywrapcp.RoutingModel(manager)\r\n",
        "  transit_callback_index = routing.RegisterTransitCallback(distance_callback)\r\n",
        "\r\n",
        "  routing.SetArcCostEvaluatorOfAllVehicles(transit_callback_index)\r\n",
        "\r\n",
        "  search_parameters = pywrapcp.DefaultRoutingSearchParameters()\r\n",
        "  search_parameters.first_solution_strategy = (routing_enums_pb2.FirstSolutionStrategy.PATH_CHEAPEST_ARC)\r\n",
        "\r\n",
        "  solution = routing.SolveWithParameters(search_parameters)\r\n",
        "\r\n",
        "  visited = []\r\n",
        "  index = routing.Start(0)\r\n",
        "  while not routing.IsEnd(index):\r\n",
        "    visited.append(manager.IndexToNode(index))\r\n",
        "    index = solution.Value(routing.NextVar(index))\r\n",
        "  visited.append(manager.IndexToNode(index))\r\n",
        "  \r\n",
        "  return visited, solution.ObjectiveValue()"
      ],
      "execution_count": 35,
      "outputs": []
    },
    {
      "cell_type": "code",
      "metadata": {
        "colab": {
          "base_uri": "https://localhost:8080/"
        },
        "id": "k4KPINSO0QWj",
        "outputId": "8c86bc65-5df8-444e-cf81-76fc4dbce08c"
      },
      "source": [
        "tsp(dist_function_1, locations_1)"
      ],
      "execution_count": 36,
      "outputs": [
        {
          "output_type": "execute_result",
          "data": {
            "text/plain": [
              "([0, 7, 2, 3, 4, 12, 6, 8, 1, 11, 10, 5, 9, 0], 7293)"
            ]
          },
          "metadata": {
            "tags": []
          },
          "execution_count": 36
        }
      ]
    },
    {
      "cell_type": "markdown",
      "metadata": {
        "id": "mbkgFTTZz9G8"
      },
      "source": [
        "# tsp/vrp/cvrp combined general function"
      ]
    },
    {
      "cell_type": "code",
      "metadata": {
        "id": "2u_ueXP7AJxM"
      },
      "source": [
        "def routing(dist_function, locations, no_vehicles=1, capacities=[], demands=[], max_travel_dist=int(1e9), time_limit=-1):\r\n",
        "\r\n",
        "  if time_limit > 0:\r\n",
        "    search_parameters = pywrapcp.DefaultRoutingSearchParameters()\r\n",
        "    search_parameters.local_search_metaheuristic = (routing_enums_pb2.LocalSearchMetaheuristic.GUIDED_LOCAL_SEARCH)\r\n",
        "    search_parameters.time_limit.seconds = time_limit\r\n",
        "\r\n",
        "  if capacities == []:  # if no capacity entered assume infinite capacity\r\n",
        "    capacities = [(int(1e9),) for __ in range(no_vehicles)]\r\n",
        "  if demands == []:  # if no demand entered assume 1 demand\r\n",
        "    demands = [(1,) for __ in range(len(locations))]\r\n",
        "\r\n",
        "  if type(demands[0]) != tuple:\r\n",
        "    capacities = [(i,) for i in capacities]\r\n",
        "    demands = [(i,) for i in demands]\r\n",
        "\r\n",
        "  assert len(capacities) == no_vehicles\r\n",
        "  assert len(demands) == len(locations)\r\n",
        "\r\n",
        "  def create_dist_matrix(locations):\r\n",
        "    matrix = np.zeros((len(locations), len(locations))).tolist()\r\n",
        "    for l1 in range(len(matrix)):\r\n",
        "      for l2 in range(len(matrix)):\r\n",
        "        matrix[l1][l2] = dist_function(locations[l1], locations[l2])\r\n",
        "    return matrix\r\n",
        "        \r\n",
        "  def distance_callback(from_index, to_index):\r\n",
        "    from_node = manager.IndexToNode(from_index)\r\n",
        "    to_node = manager.IndexToNode(to_index)\r\n",
        "    return dist_matrix[from_node][to_node]\r\n",
        "\r\n",
        "  def demand_callback(from_index, idx):  # callback for material: idx\r\n",
        "    from_node = manager.IndexToNode(from_index)\r\n",
        "    return demands[from_node][idx]\r\n",
        "\r\n",
        "  def add(a, b):\r\n",
        "    return [a[i]+b[i] for i in range(len(a))]\r\n",
        "\r\n",
        "  dist_matrix = create_dist_matrix(locations)\r\n",
        "            \r\n",
        "  manager = pywrapcp.RoutingIndexManager(len(dist_matrix), no_vehicles, 0)\r\n",
        "  routing = pywrapcp.RoutingModel(manager)\r\n",
        "  transit_callback_index = routing.RegisterTransitCallback(distance_callback)\r\n",
        "  routing.SetArcCostEvaluatorOfAllVehicles(transit_callback_index)\r\n",
        "\r\n",
        "  routing.AddDimension(transit_callback_index, 0, max_travel_dist, True, 'Distance')  # For multiple vehicles\r\n",
        "  distance_dimension = routing.GetDimensionOrDie('Distance')\r\n",
        "  distance_dimension.SetGlobalSpanCostCoefficient(100)\r\n",
        "\r\n",
        "  for i in range(len(capacities[0])):  # add dimension for each capacity\r\n",
        "    demand_callback_index = routing.RegisterUnaryTransitCallback(lambda x : demand_callback(x, i))\r\n",
        "    routing.AddDimensionWithVehicleCapacity(demand_callback_index, 0, [j[i] for j in capacities], True, f'Capacity_{i}')\r\n",
        "\r\n",
        "  search_parameters = pywrapcp.DefaultRoutingSearchParameters()\r\n",
        "  search_parameters.first_solution_strategy = (routing_enums_pb2.FirstSolutionStrategy.PATH_CHEAPEST_ARC)\r\n",
        "  solution = routing.SolveWithParameters(search_parameters)\r\n",
        "\r\n",
        "  if not solution:\r\n",
        "    raise ValueError(\"NO SOLUTION :(\")\r\n",
        "\r\n",
        "  loads = [[0 for __ in range(len(capacities[0]))] for __ in range(len(capacities))]\r\n",
        "  max_route_distance = 0\r\n",
        "  visited = [[] for i in range(no_vehicles)]\r\n",
        "  for vehicle_id in range(no_vehicles):\r\n",
        "      index = routing.Start(vehicle_id)\r\n",
        "      route_distance = 0\r\n",
        "      while not routing.IsEnd(index):\r\n",
        "          visited[vehicle_id].append(manager.IndexToNode(index))\r\n",
        "          loads[vehicle_id] = add(loads[vehicle_id], demands[manager.IndexToNode(index)])\r\n",
        "          previous_index = index\r\n",
        "          index = solution.Value(routing.NextVar(index))\r\n",
        "          route_distance += routing.GetArcCostForVehicle(previous_index, index, vehicle_id)\r\n",
        "      visited[vehicle_id].append(manager.IndexToNode(index))\r\n",
        "      max_route_distance = max(route_distance, max_route_distance)\r\n",
        "\r\n",
        "  return visited, max_route_distance, loads  # route (vehicles, location idx), cost"
      ],
      "execution_count": 24,
      "outputs": []
    },
    {
      "cell_type": "code",
      "metadata": {
        "id": "rDnQFrnymz0K"
      },
      "source": [
        "def tsp(dist_function, locations):\r\n",
        "  x = routing(dist_function, locations)\r\n",
        "  return x[0][0], x[1]"
      ],
      "execution_count": 26,
      "outputs": []
    },
    {
      "cell_type": "code",
      "metadata": {
        "id": "Ms9q-lTTwb7U"
      },
      "source": [
        "def vrp(dist_function, locations, no_vehicles):\r\n",
        "  x = routing(dist_function, locations, no_vehicles=no_vehicles)\r\n",
        "  return x[:2]"
      ],
      "execution_count": 27,
      "outputs": []
    },
    {
      "cell_type": "code",
      "metadata": {
        "id": "qlBaW4stpdaM"
      },
      "source": [
        "def cvrp(dist_function, locations, no_vehicles, capacities, demands):\r\n",
        "  x = routing(dist_function, locations, no_vehicles=no_vehicles, capacities=capacities, demands=demands)\r\n",
        "  if len(x[2][0]) == 1:\r\n",
        "    return x[0], x[1], [i[0] for i in x[2]]\r\n",
        "  return x[0], x[1], x[2]"
      ],
      "execution_count": 28,
      "outputs": []
    },
    {
      "cell_type": "code",
      "metadata": {
        "colab": {
          "base_uri": "https://localhost:8080/"
        },
        "id": "VoJEGJiAFCK7",
        "outputId": "5bf0e0d3-fcf5-4052-ed4a-13376089944b"
      },
      "source": [
        "tsp(dist_function_1, locations_1)"
      ],
      "execution_count": 29,
      "outputs": [
        {
          "output_type": "execute_result",
          "data": {
            "text/plain": [
              "([0, 7, 2, 3, 4, 12, 6, 8, 1, 11, 10, 5, 9, 0], 7293)"
            ]
          },
          "metadata": {
            "tags": []
          },
          "execution_count": 29
        }
      ]
    },
    {
      "cell_type": "code",
      "metadata": {
        "colab": {
          "base_uri": "https://localhost:8080/"
        },
        "id": "j0X13A4ZnbM-",
        "outputId": "2e519c88-28ad-477f-814d-001612f3a5a8"
      },
      "source": [
        "vrp(dist_function_1, locations_1, 2)"
      ],
      "execution_count": 30,
      "outputs": [
        {
          "output_type": "execute_result",
          "data": {
            "text/plain": [
              "([[0, 10, 5, 11, 1, 4, 2, 7, 0], [0, 3, 6, 8, 12, 9, 0]], 5728)"
            ]
          },
          "metadata": {
            "tags": []
          },
          "execution_count": 30
        }
      ]
    },
    {
      "cell_type": "code",
      "metadata": {
        "colab": {
          "base_uri": "https://localhost:8080/"
        },
        "id": "cge_oY70nlCE",
        "outputId": "dbdc5d89-6dcc-4a2d-f370-47747cb43de2"
      },
      "source": [
        "cvrp(dist_function_1, locations_1, len(capacities_1), capacities_1, demands_1)"
      ],
      "execution_count": 31,
      "outputs": [
        {
          "output_type": "execute_result",
          "data": {
            "text/plain": [
              "([[0, 12, 8, 2, 0], [0, 9, 4, 1, 11, 5, 0], [0, 10, 0], [0, 3, 6, 7, 0]],\n",
              " 5143,\n",
              " [30, 50, 10, 30])"
            ]
          },
          "metadata": {
            "tags": []
          },
          "execution_count": 31
        }
      ]
    },
    {
      "cell_type": "code",
      "metadata": {
        "colab": {
          "base_uri": "https://localhost:8080/",
          "height": 314
        },
        "id": "-jx0bx0duoDT",
        "outputId": "dc90941e-0632-4778-d4f9-05bc1ad3c844"
      },
      "source": [
        "cvrp(dist_function_2, locations_2, len(capacities_2), capacities_2, demands_2)  # WHY DOESNT THIS WORK ??!!!"
      ],
      "execution_count": 34,
      "outputs": [
        {
          "output_type": "error",
          "ename": "ValueError",
          "evalue": "ignored",
          "traceback": [
            "\u001b[0;31m---------------------------------------------------------------------------\u001b[0m",
            "\u001b[0;31mValueError\u001b[0m                                Traceback (most recent call last)",
            "\u001b[0;32m<ipython-input-34-34d3f04bf67d>\u001b[0m in \u001b[0;36m<module>\u001b[0;34m()\u001b[0m\n\u001b[0;32m----> 1\u001b[0;31m \u001b[0mcvrp\u001b[0m\u001b[0;34m(\u001b[0m\u001b[0mdist_function_2\u001b[0m\u001b[0;34m,\u001b[0m \u001b[0mlocations_2\u001b[0m\u001b[0;34m,\u001b[0m \u001b[0mlen\u001b[0m\u001b[0;34m(\u001b[0m\u001b[0mcapacities_2\u001b[0m\u001b[0;34m)\u001b[0m\u001b[0;34m,\u001b[0m \u001b[0mcapacities_2\u001b[0m\u001b[0;34m,\u001b[0m \u001b[0mdemands_2\u001b[0m\u001b[0;34m)\u001b[0m\u001b[0;34m\u001b[0m\u001b[0;34m\u001b[0m\u001b[0m\n\u001b[0m",
            "\u001b[0;32m<ipython-input-28-0e4d0ee2024f>\u001b[0m in \u001b[0;36mcvrp\u001b[0;34m(dist_function, locations, no_vehicles, capacities, demands)\u001b[0m\n\u001b[1;32m      1\u001b[0m \u001b[0;32mdef\u001b[0m \u001b[0mcvrp\u001b[0m\u001b[0;34m(\u001b[0m\u001b[0mdist_function\u001b[0m\u001b[0;34m,\u001b[0m \u001b[0mlocations\u001b[0m\u001b[0;34m,\u001b[0m \u001b[0mno_vehicles\u001b[0m\u001b[0;34m,\u001b[0m \u001b[0mcapacities\u001b[0m\u001b[0;34m,\u001b[0m \u001b[0mdemands\u001b[0m\u001b[0;34m)\u001b[0m\u001b[0;34m:\u001b[0m\u001b[0;34m\u001b[0m\u001b[0;34m\u001b[0m\u001b[0m\n\u001b[0;32m----> 2\u001b[0;31m   \u001b[0mx\u001b[0m \u001b[0;34m=\u001b[0m \u001b[0mrouting\u001b[0m\u001b[0;34m(\u001b[0m\u001b[0mdist_function\u001b[0m\u001b[0;34m,\u001b[0m \u001b[0mlocations\u001b[0m\u001b[0;34m,\u001b[0m \u001b[0mno_vehicles\u001b[0m\u001b[0;34m=\u001b[0m\u001b[0mno_vehicles\u001b[0m\u001b[0;34m,\u001b[0m \u001b[0mcapacities\u001b[0m\u001b[0;34m=\u001b[0m\u001b[0mcapacities\u001b[0m\u001b[0;34m,\u001b[0m \u001b[0mdemands\u001b[0m\u001b[0;34m=\u001b[0m\u001b[0mdemands\u001b[0m\u001b[0;34m)\u001b[0m\u001b[0;34m\u001b[0m\u001b[0;34m\u001b[0m\u001b[0m\n\u001b[0m\u001b[1;32m      3\u001b[0m   \u001b[0;32mif\u001b[0m \u001b[0mlen\u001b[0m\u001b[0;34m(\u001b[0m\u001b[0mx\u001b[0m\u001b[0;34m[\u001b[0m\u001b[0;36m2\u001b[0m\u001b[0;34m]\u001b[0m\u001b[0;34m[\u001b[0m\u001b[0;36m0\u001b[0m\u001b[0;34m]\u001b[0m\u001b[0;34m)\u001b[0m \u001b[0;34m==\u001b[0m \u001b[0;36m1\u001b[0m\u001b[0;34m:\u001b[0m\u001b[0;34m\u001b[0m\u001b[0;34m\u001b[0m\u001b[0m\n\u001b[1;32m      4\u001b[0m     \u001b[0;32mreturn\u001b[0m \u001b[0mx\u001b[0m\u001b[0;34m[\u001b[0m\u001b[0;36m0\u001b[0m\u001b[0;34m]\u001b[0m\u001b[0;34m,\u001b[0m \u001b[0mx\u001b[0m\u001b[0;34m[\u001b[0m\u001b[0;36m1\u001b[0m\u001b[0;34m]\u001b[0m\u001b[0;34m,\u001b[0m \u001b[0;34m[\u001b[0m\u001b[0mi\u001b[0m\u001b[0;34m[\u001b[0m\u001b[0;36m0\u001b[0m\u001b[0;34m]\u001b[0m \u001b[0;32mfor\u001b[0m \u001b[0mi\u001b[0m \u001b[0;32min\u001b[0m \u001b[0mx\u001b[0m\u001b[0;34m[\u001b[0m\u001b[0;36m2\u001b[0m\u001b[0;34m]\u001b[0m\u001b[0;34m]\u001b[0m\u001b[0;34m\u001b[0m\u001b[0;34m\u001b[0m\u001b[0m\n\u001b[1;32m      5\u001b[0m   \u001b[0;32mreturn\u001b[0m \u001b[0mx\u001b[0m\u001b[0;34m[\u001b[0m\u001b[0;36m0\u001b[0m\u001b[0;34m]\u001b[0m\u001b[0;34m,\u001b[0m \u001b[0mx\u001b[0m\u001b[0;34m[\u001b[0m\u001b[0;36m1\u001b[0m\u001b[0;34m]\u001b[0m\u001b[0;34m,\u001b[0m \u001b[0mx\u001b[0m\u001b[0;34m[\u001b[0m\u001b[0;36m2\u001b[0m\u001b[0;34m]\u001b[0m\u001b[0;34m\u001b[0m\u001b[0;34m\u001b[0m\u001b[0m\n",
            "\u001b[0;32m<ipython-input-24-78b25c2b09e8>\u001b[0m in \u001b[0;36mrouting\u001b[0;34m(dist_function, locations, no_vehicles, capacities, demands, max_travel_dist, time_limit)\u001b[0m\n\u001b[1;32m     57\u001b[0m \u001b[0;34m\u001b[0m\u001b[0m\n\u001b[1;32m     58\u001b[0m   \u001b[0;32mif\u001b[0m \u001b[0;32mnot\u001b[0m \u001b[0msolution\u001b[0m\u001b[0;34m:\u001b[0m\u001b[0;34m\u001b[0m\u001b[0;34m\u001b[0m\u001b[0m\n\u001b[0;32m---> 59\u001b[0;31m     \u001b[0;32mraise\u001b[0m \u001b[0mValueError\u001b[0m\u001b[0;34m(\u001b[0m\u001b[0;34m\"NO SOLUTION :(\"\u001b[0m\u001b[0;34m)\u001b[0m\u001b[0;34m\u001b[0m\u001b[0;34m\u001b[0m\u001b[0m\n\u001b[0m\u001b[1;32m     60\u001b[0m \u001b[0;34m\u001b[0m\u001b[0m\n\u001b[1;32m     61\u001b[0m   \u001b[0mloads\u001b[0m \u001b[0;34m=\u001b[0m \u001b[0;34m[\u001b[0m\u001b[0;34m[\u001b[0m\u001b[0;36m0\u001b[0m \u001b[0;32mfor\u001b[0m \u001b[0m__\u001b[0m \u001b[0;32min\u001b[0m \u001b[0mrange\u001b[0m\u001b[0;34m(\u001b[0m\u001b[0mlen\u001b[0m\u001b[0;34m(\u001b[0m\u001b[0mcapacities\u001b[0m\u001b[0;34m[\u001b[0m\u001b[0;36m0\u001b[0m\u001b[0;34m]\u001b[0m\u001b[0;34m)\u001b[0m\u001b[0;34m)\u001b[0m\u001b[0;34m]\u001b[0m \u001b[0;32mfor\u001b[0m \u001b[0m__\u001b[0m \u001b[0;32min\u001b[0m \u001b[0mrange\u001b[0m\u001b[0;34m(\u001b[0m\u001b[0mlen\u001b[0m\u001b[0;34m(\u001b[0m\u001b[0mcapacities\u001b[0m\u001b[0;34m)\u001b[0m\u001b[0;34m)\u001b[0m\u001b[0;34m]\u001b[0m\u001b[0;34m\u001b[0m\u001b[0;34m\u001b[0m\u001b[0m\n",
            "\u001b[0;31mValueError\u001b[0m: NO SOLUTION :("
          ]
        }
      ]
    },
    {
      "cell_type": "code",
      "metadata": {
        "id": "zlfKSfyeu1Xm"
      },
      "source": [
        ""
      ],
      "execution_count": null,
      "outputs": []
    }
  ]
}